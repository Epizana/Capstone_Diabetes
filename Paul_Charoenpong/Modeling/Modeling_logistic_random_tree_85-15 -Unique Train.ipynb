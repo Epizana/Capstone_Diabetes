{
 "cells": [
  {
   "cell_type": "code",
   "execution_count": 1,
   "metadata": {},
   "outputs": [
    {
     "name": "stderr",
     "output_type": "stream",
     "text": [
      "C:\\Users\\csong\\Anaconda3\\lib\\site-packages\\sklearn\\ensemble\\weight_boosting.py:29: DeprecationWarning: numpy.core.umath_tests is an internal NumPy module and should not be imported. It will be removed in a future NumPy release.\n",
      "  from numpy.core.umath_tests import inner1d\n"
     ]
    }
   ],
   "source": [
    "import matplotlib.pyplot as plt\n",
    "from sklearn import linear_model\n",
    "import numpy as np\n",
    "import sklearn.ensemble\n",
    "from sklearn.metrics import mean_squared_error, r2_score\n",
    "from sklearn.feature_extraction import DictVectorizer\n",
    "import pandas as pd\n",
    "# import eli5\n",
    "# from eli5.sklearn import PermutationImportance\n",
    "\n",
    "%matplotlib inline"
   ]
  },
  {
   "cell_type": "code",
   "execution_count": 2,
   "metadata": {},
   "outputs": [],
   "source": [
    "# machine learning\n",
    "import warnings\n",
    "\n",
    "from sklearn.model_selection import cross_val_score, train_test_split, GridSearchCV, RandomizedSearchCV\n",
    "from sklearn.metrics import log_loss, accuracy_score, mean_squared_error, r2_score, precision_score, recall_score, roc_auc_score\n",
    "from sklearn.metrics import classification_report\n",
    "from  sklearn.metrics import precision_recall_fscore_support\n",
    "from sklearn.ensemble import RandomForestClassifier, AdaBoostClassifier, GradientBoostingClassifier, GradientBoostingRegressor\n",
    "from sklearn.neighbors import KNeighborsClassifier\n",
    "from sklearn.linear_model import SGDClassifier\n",
    "from sklearn.tree import DecisionTreeClassifier\n",
    "from sklearn.naive_bayes import GaussianNB\n",
    "from sklearn.discriminant_analysis import LinearDiscriminantAnalysis, QuadraticDiscriminantAnalysis\n",
    "from boruta import BorutaPy\n",
    "from xgboost import XGBClassifier, XGBRanker\n",
    "from scipy.stats import skew\n",
    "\n",
    "\n",
    "# print(__doc__)\n",
    "\n",
    "# Definitions\n",
    "pd.set_option('display.float_format', lambda x: '%.3f' % x)\n",
    "%matplotlib inline\n",
    "warnings.filterwarnings('ignore')"
   ]
  },
  {
   "cell_type": "code",
   "execution_count": 3,
   "metadata": {},
   "outputs": [
    {
     "name": "stdout",
     "output_type": "stream",
     "text": [
      "Dataset: Unique- Drop Patient encounter ID\n",
      "The shape of the unique train dataset (61674, 94)\n",
      "The shape of the unique test dataset  (13835, 94) \n"
     ]
    }
   ],
   "source": [
    "## Load the data set that got dummified to process feature selection.\n",
    "train= pd.read_csv('./data/Xing/unique_train_cleaned_15.csv')\n",
    "test= pd.read_csv('./data/Xing/unique_test_cleaned_15.csv')\n",
    "\n",
    "X_train= train.drop(['readmitted','encounter_id','patient_nbr'], axis=1)\n",
    "y_train= train['readmitted']\n",
    "\n",
    "\n",
    "\n",
    "X_test = test.drop(['readmitted','encounter_id','patient_nbr'], axis=1)\n",
    "y_test = test['readmitted']\n",
    "\n",
    "\n",
    "print(\"Dataset: Unique- Drop Patient encounter ID\")\n",
    "print('The shape of the unique train dataset {}'.format(train.shape))\n",
    "print('The shape of the unique test dataset  {} '.format(test.shape))"
   ]
  },
  {
   "cell_type": "markdown",
   "metadata": {},
   "source": [
    "# Logistic Regression"
   ]
  },
  {
   "cell_type": "code",
   "execution_count": 4,
   "metadata": {},
   "outputs": [
    {
     "name": "stdout",
     "output_type": "stream",
     "text": [
      "Train set Score: 92.26%\n",
      "Test Set score : 89.35%\n"
     ]
    }
   ],
   "source": [
    "from sklearn.model_selection import train_test_split\n",
    "from sklearn.linear_model import LogisticRegression\n",
    "from sklearn.model_selection import cross_val_score\n",
    "\n",
    "logreg = LogisticRegression(fit_intercept=True, penalty='l1')\n",
    "logreg.fit(X_train, y_train)\n",
    "print(\"Train set Score: {:.2%}\".format(logreg.score(X_train, y_train)))\n",
    "print(\"Test Set score : {:.2%}\".format(logreg.score(X_test, y_test)))"
   ]
  },
  {
   "cell_type": "markdown",
   "metadata": {},
   "source": [
    "- Highly overfitting."
   ]
  },
  {
   "cell_type": "code",
   "execution_count": 5,
   "metadata": {},
   "outputs": [],
   "source": [
    "y_test_predict = logreg.predict(X_test)"
   ]
  },
  {
   "cell_type": "code",
   "execution_count": 6,
   "metadata": {},
   "outputs": [
    {
     "data": {
      "text/html": [
       "<div>\n",
       "<style scoped>\n",
       "    .dataframe tbody tr th:only-of-type {\n",
       "        vertical-align: middle;\n",
       "    }\n",
       "\n",
       "    .dataframe tbody tr th {\n",
       "        vertical-align: top;\n",
       "    }\n",
       "\n",
       "    .dataframe thead th {\n",
       "        text-align: right;\n",
       "    }\n",
       "</style>\n",
       "<table border=\"1\" class=\"dataframe\">\n",
       "  <thead>\n",
       "    <tr style=\"text-align: right;\">\n",
       "      <th>Predict</th>\n",
       "      <th>0</th>\n",
       "      <th>1</th>\n",
       "      <th>All</th>\n",
       "    </tr>\n",
       "    <tr>\n",
       "      <th>Actual</th>\n",
       "      <th></th>\n",
       "      <th></th>\n",
       "      <th></th>\n",
       "    </tr>\n",
       "  </thead>\n",
       "  <tbody>\n",
       "    <tr>\n",
       "      <th>0</th>\n",
       "      <td>12343</td>\n",
       "      <td>25</td>\n",
       "      <td>12368</td>\n",
       "    </tr>\n",
       "    <tr>\n",
       "      <th>1</th>\n",
       "      <td>1449</td>\n",
       "      <td>18</td>\n",
       "      <td>1467</td>\n",
       "    </tr>\n",
       "    <tr>\n",
       "      <th>All</th>\n",
       "      <td>13792</td>\n",
       "      <td>43</td>\n",
       "      <td>13835</td>\n",
       "    </tr>\n",
       "  </tbody>\n",
       "</table>\n",
       "</div>"
      ],
      "text/plain": [
       "Predict      0   1    All\n",
       "Actual                   \n",
       "0        12343  25  12368\n",
       "1         1449  18   1467\n",
       "All      13792  43  13835"
      ]
     },
     "execution_count": 6,
     "metadata": {},
     "output_type": "execute_result"
    }
   ],
   "source": [
    "pd.crosstab(pd.Series(y_test, name = 'Actual'), pd.Series(y_test_predict, name = 'Predict'), margins = True)"
   ]
  },
  {
   "cell_type": "code",
   "execution_count": 7,
   "metadata": {},
   "outputs": [
    {
     "name": "stdout",
     "output_type": "stream",
     "text": [
      "             precision    recall  f1-score   support\n",
      "\n",
      "          0       0.89      1.00      0.94     12368\n",
      "          1       0.42      0.01      0.02      1467\n",
      "\n",
      "avg / total       0.84      0.89      0.85     13835\n",
      "\n"
     ]
    }
   ],
   "source": [
    "# Print Classification Report\n",
    "report=classification_report(y_test, y_test_predict)\n",
    "print(report)"
   ]
  },
  {
   "cell_type": "code",
   "execution_count": 8,
   "metadata": {},
   "outputs": [
    {
     "name": "stdout",
     "output_type": "stream",
     "text": [
      "18 25 1449 12343\n"
     ]
    }
   ],
   "source": [
    "from sklearn.metrics import confusion_matrix\n",
    "\n",
    "tn, fp, fn, tp = confusion_matrix(y_test, y_test_predict).ravel()\n",
    "print(tp, fp, fn, tn)  # 1 1 1 1\n",
    "\n",
    "TPR=tp/(tp+fn)\n",
    "FPR=fp/(fp+tn)\n",
    "TNR=tn/(fp+tn)"
   ]
  },
  {
   "cell_type": "code",
   "execution_count": 9,
   "metadata": {},
   "outputs": [
    {
     "name": "stdout",
     "output_type": "stream",
     "text": [
      "Accuracy is 0.893\n",
      "Precision is 0.419\n",
      "Recall is 0.012\n",
      "AUC is 0.505\n",
      "TPR is 0.012\n",
      "FPR is 0.002\n",
      "TNR is 0.998\n"
     ]
    }
   ],
   "source": [
    "from sklearn.metrics import accuracy_score, precision_score, recall_score\n",
    "print(\"Accuracy is {0:.3f}\".format(accuracy_score(y_test, y_test_predict)))\n",
    "print(\"Precision is {0:.3f}\".format(precision_score(y_test, y_test_predict)))\n",
    "print(\"Recall is {0:.3f}\".format(recall_score(y_test, y_test_predict)))\n",
    "print(\"AUC is {0:.3f}\".format(roc_auc_score(y_test, y_test_predict)))\n",
    "print(\"TPR is {0:.3f}\".format(TPR))\n",
    "print(\"FPR is {0:.3f}\".format(FPR))\n",
    "print(\"TNR is {0:.3f}\".format(TNR))"
   ]
  },
  {
   "cell_type": "code",
   "execution_count": 10,
   "metadata": {},
   "outputs": [],
   "source": [
    "accuracy_logreg = accuracy_score(y_test, y_test_predict)\n",
    "precision_logreg = precision_score(y_test, y_test_predict)\n",
    "recall_logreg = recall_score(y_test, y_test_predict)\n",
    "auc_logreg = roc_auc_score(y_test, y_test_predict)\n",
    "TPR_logreg=TPR\n",
    "FPR_logreg=FPR\n",
    "TNR_logreg=TNR"
   ]
  },
  {
   "cell_type": "code",
   "execution_count": 11,
   "metadata": {},
   "outputs": [],
   "source": [
    "coef_base=pd.DataFrame(zip(X_train.columns, np.transpose(logreg.coef_)),columns=['Features','Coefficients']).sort_values(by='Coefficients',ascending=False)"
   ]
  },
  {
   "cell_type": "code",
   "execution_count": 12,
   "metadata": {},
   "outputs": [
    {
     "data": {
      "text/html": [
       "<div>\n",
       "<style scoped>\n",
       "    .dataframe tbody tr th:only-of-type {\n",
       "        vertical-align: middle;\n",
       "    }\n",
       "\n",
       "    .dataframe tbody tr th {\n",
       "        vertical-align: top;\n",
       "    }\n",
       "\n",
       "    .dataframe thead th {\n",
       "        text-align: right;\n",
       "    }\n",
       "</style>\n",
       "<table border=\"1\" class=\"dataframe\">\n",
       "  <thead>\n",
       "    <tr style=\"text-align: right;\">\n",
       "      <th></th>\n",
       "      <th>Features</th>\n",
       "      <th>Coefficients</th>\n",
       "    </tr>\n",
       "  </thead>\n",
       "  <tbody>\n",
       "    <tr>\n",
       "      <th>72</th>\n",
       "      <td>acarbose_Up</td>\n",
       "      <td>[0.9190578077717937]</td>\n",
       "    </tr>\n",
       "    <tr>\n",
       "      <th>7</th>\n",
       "      <td>number_inpatient</td>\n",
       "      <td>[0.36099283291966133]</td>\n",
       "    </tr>\n",
       "    <tr>\n",
       "      <th>61</th>\n",
       "      <td>glyburide_Steady</td>\n",
       "      <td>[0.3452157133829761]</td>\n",
       "    </tr>\n",
       "    <tr>\n",
       "      <th>48</th>\n",
       "      <td>nateglinide_Steady</td>\n",
       "      <td>[0.3344986631124309]</td>\n",
       "    </tr>\n",
       "    <tr>\n",
       "      <th>21</th>\n",
       "      <td>discharge_disposition_id_hospital</td>\n",
       "      <td>[0.32132597097230253]</td>\n",
       "    </tr>\n",
       "    <tr>\n",
       "      <th>90</th>\n",
       "      <td>diabetesMed_Yes</td>\n",
       "      <td>[0.2742765274465584]</td>\n",
       "    </tr>\n",
       "    <tr>\n",
       "      <th>69</th>\n",
       "      <td>rosiglitazone_Up</td>\n",
       "      <td>[0.19713343007382012]</td>\n",
       "    </tr>\n",
       "    <tr>\n",
       "      <th>68</th>\n",
       "      <td>rosiglitazone_Steady</td>\n",
       "      <td>[0.15170225447346655]</td>\n",
       "    </tr>\n",
       "    <tr>\n",
       "      <th>9</th>\n",
       "      <td>med_dosage_change</td>\n",
       "      <td>[0.1514599141377738]</td>\n",
       "    </tr>\n",
       "    <tr>\n",
       "      <th>17</th>\n",
       "      <td>admission_type_id_na</td>\n",
       "      <td>[0.12543514487719742]</td>\n",
       "    </tr>\n",
       "  </tbody>\n",
       "</table>\n",
       "</div>"
      ],
      "text/plain": [
       "                             Features           Coefficients\n",
       "72                        acarbose_Up   [0.9190578077717937]\n",
       "7                    number_inpatient  [0.36099283291966133]\n",
       "61                   glyburide_Steady   [0.3452157133829761]\n",
       "48                 nateglinide_Steady   [0.3344986631124309]\n",
       "21  discharge_disposition_id_hospital  [0.32132597097230253]\n",
       "90                    diabetesMed_Yes   [0.2742765274465584]\n",
       "69                   rosiglitazone_Up  [0.19713343007382012]\n",
       "68               rosiglitazone_Steady  [0.15170225447346655]\n",
       "9                   med_dosage_change   [0.1514599141377738]\n",
       "17               admission_type_id_na  [0.12543514487719742]"
      ]
     },
     "execution_count": 12,
     "metadata": {},
     "output_type": "execute_result"
    }
   ],
   "source": [
    "coef_base.head(10)"
   ]
  },
  {
   "cell_type": "markdown",
   "metadata": {},
   "source": [
    "#### Summary( Base Logistic Regression):\n",
    "  - Classification Error Type II --> The data distribution has highly unbalance between among the train dataset. Thus, we apply SMOTE."
   ]
  },
  {
   "cell_type": "markdown",
   "metadata": {},
   "source": [
    "#### Apply SMOTE"
   ]
  },
  {
   "cell_type": "code",
   "execution_count": 13,
   "metadata": {},
   "outputs": [
    {
     "name": "stdout",
     "output_type": "stream",
     "text": [
      "Original dataset shape Counter({0: 56904, 1: 4770})\n",
      "New dataset shape Counter({0: 56904, 1: 56904})\n"
     ]
    }
   ],
   "source": [
    "# Data balancing applied using SMOTE\n",
    "from imblearn.over_sampling import SMOTE\n",
    "\n",
    "from collections import Counter\n",
    "print('Original dataset shape {}'.format(Counter(y_train)))\n",
    "sm = SMOTE(random_state=20)\n",
    "X_train_SMOTE, y_train_SMOTE = sm.fit_sample(X_train, y_train)\n",
    "print('New dataset shape {}'.format(Counter(y_train_SMOTE)))"
   ]
  },
  {
   "cell_type": "code",
   "execution_count": 14,
   "metadata": {},
   "outputs": [],
   "source": [
    "#Put the new balanced dataset (Oversampled with SMOTE) in the dataframe\n",
    "X_train_SMOTE = pd.DataFrame(X_train_SMOTE, columns = list(X_train.columns))"
   ]
  },
  {
   "cell_type": "code",
   "execution_count": 15,
   "metadata": {},
   "outputs": [
    {
     "name": "stdout",
     "output_type": "stream",
     "text": [
      "Train set Score: 63.530%\n",
      "Test Set score : 62.682%\n"
     ]
    }
   ],
   "source": [
    "# Run the crossvalidation following by fit the SMOTE balanced data\n",
    "\n",
    "logreg = LogisticRegression(fit_intercept=True, penalty='l1')\n",
    "logreg.fit(X_train_SMOTE, y_train_SMOTE)\n",
    "print(\"Train set Score: {:.3%}\".format(logreg.score(X_train_SMOTE, y_train_SMOTE)))\n",
    "print(\"Test Set score : {:.3%}\".format(logreg.score(X_test, y_test)))"
   ]
  },
  {
   "cell_type": "code",
   "execution_count": 16,
   "metadata": {},
   "outputs": [],
   "source": [
    "# Check with the validation testset\n",
    "y_test_predict = logreg.predict(X_test)\n",
    "probability = logreg.predict_proba(X_test)"
   ]
  },
  {
   "cell_type": "code",
   "execution_count": 17,
   "metadata": {},
   "outputs": [
    {
     "data": {
      "text/html": [
       "<div>\n",
       "<style scoped>\n",
       "    .dataframe tbody tr th:only-of-type {\n",
       "        vertical-align: middle;\n",
       "    }\n",
       "\n",
       "    .dataframe tbody tr th {\n",
       "        vertical-align: top;\n",
       "    }\n",
       "\n",
       "    .dataframe thead th {\n",
       "        text-align: right;\n",
       "    }\n",
       "</style>\n",
       "<table border=\"1\" class=\"dataframe\">\n",
       "  <thead>\n",
       "    <tr style=\"text-align: right;\">\n",
       "      <th>Predict</th>\n",
       "      <th>0</th>\n",
       "      <th>1</th>\n",
       "      <th>All</th>\n",
       "    </tr>\n",
       "    <tr>\n",
       "      <th>Actual</th>\n",
       "      <th></th>\n",
       "      <th></th>\n",
       "      <th></th>\n",
       "    </tr>\n",
       "  </thead>\n",
       "  <tbody>\n",
       "    <tr>\n",
       "      <th>0</th>\n",
       "      <td>7839</td>\n",
       "      <td>4529</td>\n",
       "      <td>12368</td>\n",
       "    </tr>\n",
       "    <tr>\n",
       "      <th>1</th>\n",
       "      <td>634</td>\n",
       "      <td>833</td>\n",
       "      <td>1467</td>\n",
       "    </tr>\n",
       "    <tr>\n",
       "      <th>All</th>\n",
       "      <td>8473</td>\n",
       "      <td>5362</td>\n",
       "      <td>13835</td>\n",
       "    </tr>\n",
       "  </tbody>\n",
       "</table>\n",
       "</div>"
      ],
      "text/plain": [
       "Predict     0     1    All\n",
       "Actual                    \n",
       "0        7839  4529  12368\n",
       "1         634   833   1467\n",
       "All      8473  5362  13835"
      ]
     },
     "execution_count": 17,
     "metadata": {},
     "output_type": "execute_result"
    }
   ],
   "source": [
    "pd.crosstab(pd.Series(y_test, name = 'Actual'), pd.Series(y_test_predict, name = 'Predict'), margins = True)"
   ]
  },
  {
   "cell_type": "code",
   "execution_count": 18,
   "metadata": {},
   "outputs": [
    {
     "name": "stdout",
     "output_type": "stream",
     "text": [
      "             precision    recall  f1-score   support\n",
      "\n",
      "          0       0.93      0.63      0.75     12368\n",
      "          1       0.16      0.57      0.24      1467\n",
      "\n",
      "avg / total       0.84      0.63      0.70     13835\n",
      "\n"
     ]
    }
   ],
   "source": [
    "report=classification_report(y_test, y_test_predict)\n",
    "print(report)"
   ]
  },
  {
   "cell_type": "code",
   "execution_count": 19,
   "metadata": {},
   "outputs": [
    {
     "name": "stdout",
     "output_type": "stream",
     "text": [
      "833 4529 634 7839\n"
     ]
    }
   ],
   "source": [
    "from sklearn.metrics import confusion_matrix\n",
    "tn, fp, fn, tp = confusion_matrix(y_test, y_test_predict).ravel()\n",
    "print(tp, fp, fn, tn)  # 1 1 1 1\n",
    "\n",
    "TPR=tp/(tp+fn)\n",
    "FPR=fp/(fp+tn)\n",
    "TNR=tn/(fp+tn)"
   ]
  },
  {
   "cell_type": "code",
   "execution_count": 20,
   "metadata": {},
   "outputs": [
    {
     "name": "stdout",
     "output_type": "stream",
     "text": [
      "Accuracy is 0.627\n",
      "Precision is 0.155\n",
      "Recall is 0.568\n",
      "AUC is 0.601\n",
      "TPR is 0.568\n",
      "FPR is 0.366\n",
      "TNR is 0.634\n"
     ]
    }
   ],
   "source": [
    "from sklearn.metrics import accuracy_score, precision_score, recall_score\n",
    "print(\"Accuracy is {0:.3f}\".format(accuracy_score(y_test, y_test_predict)))\n",
    "print(\"Precision is {0:.3f}\".format(precision_score(y_test, y_test_predict)))\n",
    "print(\"Recall is {0:.3f}\".format(recall_score(y_test, y_test_predict)))\n",
    "print(\"AUC is {0:.3f}\".format(roc_auc_score(y_test, y_test_predict)))\n",
    "print(\"TPR is {0:.3f}\".format(TPR))\n",
    "print(\"FPR is {0:.3f}\".format(FPR))\n",
    "print(\"TNR is {0:.3f}\".format(TNR))"
   ]
  },
  {
   "cell_type": "code",
   "execution_count": 21,
   "metadata": {},
   "outputs": [],
   "source": [
    "accuracy_logreg = accuracy_score(y_test, y_test_predict)\n",
    "precision_logreg = precision_score(y_test, y_test_predict)\n",
    "recall_logreg = recall_score(y_test, y_test_predict)\n",
    "auc_logreg = roc_auc_score(y_test, y_test_predict)\n",
    "TPR_logreg=TPR\n",
    "FPR_logreg=FPR\n",
    "TNR_logreg=TNR"
   ]
  },
  {
   "cell_type": "markdown",
   "metadata": {},
   "source": [
    "#### Apply 'Class_weight' = balanced"
   ]
  },
  {
   "cell_type": "code",
   "execution_count": 22,
   "metadata": {},
   "outputs": [
    {
     "name": "stdout",
     "output_type": "stream",
     "text": [
      "Train set Score: 63.532%\n",
      "Test Set score : 62.696%\n"
     ]
    }
   ],
   "source": [
    "# Turn on Class-weight balance\n",
    "\n",
    "logreg = LogisticRegression(fit_intercept=True, penalty='l1',class_weight='balanced')\n",
    "logreg.fit(X_train_SMOTE, y_train_SMOTE)\n",
    "print(\"Train set Score: {:.3%}\".format(logreg.score(X_train_SMOTE, y_train_SMOTE)))\n",
    "print(\"Test Set score : {:.3%}\".format(logreg.score(X_test, y_test)))"
   ]
  },
  {
   "cell_type": "code",
   "execution_count": 23,
   "metadata": {},
   "outputs": [],
   "source": [
    "# Check with the validation testset\n",
    "y_test_predict = logreg.predict(X_test)\n",
    "probability = logreg.predict_proba(X_test)"
   ]
  },
  {
   "cell_type": "code",
   "execution_count": 24,
   "metadata": {},
   "outputs": [
    {
     "data": {
      "text/html": [
       "<div>\n",
       "<style scoped>\n",
       "    .dataframe tbody tr th:only-of-type {\n",
       "        vertical-align: middle;\n",
       "    }\n",
       "\n",
       "    .dataframe tbody tr th {\n",
       "        vertical-align: top;\n",
       "    }\n",
       "\n",
       "    .dataframe thead th {\n",
       "        text-align: right;\n",
       "    }\n",
       "</style>\n",
       "<table border=\"1\" class=\"dataframe\">\n",
       "  <thead>\n",
       "    <tr style=\"text-align: right;\">\n",
       "      <th>Predict</th>\n",
       "      <th>0</th>\n",
       "      <th>1</th>\n",
       "      <th>All</th>\n",
       "    </tr>\n",
       "    <tr>\n",
       "      <th>Actual</th>\n",
       "      <th></th>\n",
       "      <th></th>\n",
       "      <th></th>\n",
       "    </tr>\n",
       "  </thead>\n",
       "  <tbody>\n",
       "    <tr>\n",
       "      <th>0</th>\n",
       "      <td>7841</td>\n",
       "      <td>4527</td>\n",
       "      <td>12368</td>\n",
       "    </tr>\n",
       "    <tr>\n",
       "      <th>1</th>\n",
       "      <td>634</td>\n",
       "      <td>833</td>\n",
       "      <td>1467</td>\n",
       "    </tr>\n",
       "    <tr>\n",
       "      <th>All</th>\n",
       "      <td>8475</td>\n",
       "      <td>5360</td>\n",
       "      <td>13835</td>\n",
       "    </tr>\n",
       "  </tbody>\n",
       "</table>\n",
       "</div>"
      ],
      "text/plain": [
       "Predict     0     1    All\n",
       "Actual                    \n",
       "0        7841  4527  12368\n",
       "1         634   833   1467\n",
       "All      8475  5360  13835"
      ]
     },
     "execution_count": 24,
     "metadata": {},
     "output_type": "execute_result"
    }
   ],
   "source": [
    "pd.crosstab(pd.Series(y_test, name = 'Actual'), pd.Series(y_test_predict, name = 'Predict'), margins = True)"
   ]
  },
  {
   "cell_type": "code",
   "execution_count": 25,
   "metadata": {},
   "outputs": [
    {
     "name": "stdout",
     "output_type": "stream",
     "text": [
      "             precision    recall  f1-score   support\n",
      "\n",
      "          0       0.93      0.63      0.75     12368\n",
      "          1       0.16      0.57      0.24      1467\n",
      "\n",
      "avg / total       0.84      0.63      0.70     13835\n",
      "\n"
     ]
    }
   ],
   "source": [
    "report=classification_report(y_test, y_test_predict)\n",
    "print(report)"
   ]
  },
  {
   "cell_type": "code",
   "execution_count": 26,
   "metadata": {},
   "outputs": [
    {
     "name": "stdout",
     "output_type": "stream",
     "text": [
      "833 4527 634 7841\n"
     ]
    }
   ],
   "source": [
    "from sklearn.metrics import confusion_matrix\n",
    "tn, fp, fn, tp = confusion_matrix(y_test, y_test_predict).ravel()\n",
    "print(tp, fp, fn, tn)  # 1 1 1 1\n",
    "\n",
    "TPR=tp/(tp+fn)\n",
    "FPR=fp/(fp+tn)\n",
    "TNR=tn/(fp+tn)"
   ]
  },
  {
   "cell_type": "code",
   "execution_count": 27,
   "metadata": {},
   "outputs": [
    {
     "name": "stdout",
     "output_type": "stream",
     "text": [
      "Accuracy is 0.627\n",
      "Precision is 0.155\n",
      "Recall is 0.568\n",
      "AUC is 0.601\n",
      "TPR is 0.568\n",
      "FPR is 0.366\n",
      "TNR is 0.634\n"
     ]
    }
   ],
   "source": [
    "from sklearn.metrics import accuracy_score, precision_score, recall_score\n",
    "print(\"Accuracy is {0:.3f}\".format(accuracy_score(y_test, y_test_predict)))\n",
    "print(\"Precision is {0:.3f}\".format(precision_score(y_test, y_test_predict)))\n",
    "print(\"Recall is {0:.3f}\".format(recall_score(y_test, y_test_predict)))\n",
    "print(\"AUC is {0:.3f}\".format(roc_auc_score(y_test, y_test_predict)))\n",
    "print(\"TPR is {0:.3f}\".format(TPR))\n",
    "print(\"FPR is {0:.3f}\".format(FPR))\n",
    "print(\"TNR is {0:.3f}\".format(TNR))"
   ]
  },
  {
   "cell_type": "code",
   "execution_count": 28,
   "metadata": {},
   "outputs": [],
   "source": [
    "accuracy_logreg = accuracy_score(y_test, y_test_predict)\n",
    "precision_logreg = precision_score(y_test, y_test_predict)\n",
    "recall_logreg = recall_score(y_test, y_test_predict)\n",
    "auc_logreg = roc_auc_score(y_test, y_test_predict)\n",
    "TPR_logreg=TPR\n",
    "FPR_logreg=FPR\n",
    "TNR_logreg=TNR"
   ]
  },
  {
   "cell_type": "code",
   "execution_count": 29,
   "metadata": {},
   "outputs": [],
   "source": [
    "coef_SMOTE=pd.DataFrame(zip(X_train_SMOTE.columns, np.transpose(logreg.coef_)),columns=['Features','Coefficients']).sort_values(by='Coefficients',ascending=False)"
   ]
  },
  {
   "cell_type": "code",
   "execution_count": 30,
   "metadata": {},
   "outputs": [
    {
     "data": {
      "text/html": [
       "<div>\n",
       "<style scoped>\n",
       "    .dataframe tbody tr th:only-of-type {\n",
       "        vertical-align: middle;\n",
       "    }\n",
       "\n",
       "    .dataframe tbody tr th {\n",
       "        vertical-align: top;\n",
       "    }\n",
       "\n",
       "    .dataframe thead th {\n",
       "        text-align: right;\n",
       "    }\n",
       "</style>\n",
       "<table border=\"1\" class=\"dataframe\">\n",
       "  <thead>\n",
       "    <tr style=\"text-align: right;\">\n",
       "      <th></th>\n",
       "      <th>Features</th>\n",
       "      <th>Coefficients</th>\n",
       "    </tr>\n",
       "  </thead>\n",
       "  <tbody>\n",
       "    <tr>\n",
       "      <th>72</th>\n",
       "      <td>acarbose_Up</td>\n",
       "      <td>[2.385082797532697]</td>\n",
       "    </tr>\n",
       "    <tr>\n",
       "      <th>48</th>\n",
       "      <td>nateglinide_Steady</td>\n",
       "      <td>[1.3236305538050912]</td>\n",
       "    </tr>\n",
       "    <tr>\n",
       "      <th>47</th>\n",
       "      <td>nateglinide_No</td>\n",
       "      <td>[1.071113526084382]</td>\n",
       "    </tr>\n",
       "    <tr>\n",
       "      <th>68</th>\n",
       "      <td>rosiglitazone_Steady</td>\n",
       "      <td>[0.7963725965732339]</td>\n",
       "    </tr>\n",
       "    <tr>\n",
       "      <th>50</th>\n",
       "      <td>chlorpropamide_No</td>\n",
       "      <td>[0.7231439380271958]</td>\n",
       "    </tr>\n",
       "    <tr>\n",
       "      <th>61</th>\n",
       "      <td>glyburide_Steady</td>\n",
       "      <td>[0.5415635837307604]</td>\n",
       "    </tr>\n",
       "    <tr>\n",
       "      <th>69</th>\n",
       "      <td>rosiglitazone_Up</td>\n",
       "      <td>[0.5344315975676855]</td>\n",
       "    </tr>\n",
       "    <tr>\n",
       "      <th>90</th>\n",
       "      <td>diabetesMed_Yes</td>\n",
       "      <td>[0.46561811834843797]</td>\n",
       "    </tr>\n",
       "    <tr>\n",
       "      <th>7</th>\n",
       "      <td>number_inpatient</td>\n",
       "      <td>[0.4517412468983278]</td>\n",
       "    </tr>\n",
       "    <tr>\n",
       "      <th>21</th>\n",
       "      <td>discharge_disposition_id_hospital</td>\n",
       "      <td>[0.3520537394563183]</td>\n",
       "    </tr>\n",
       "  </tbody>\n",
       "</table>\n",
       "</div>"
      ],
      "text/plain": [
       "                             Features           Coefficients\n",
       "72                        acarbose_Up    [2.385082797532697]\n",
       "48                 nateglinide_Steady   [1.3236305538050912]\n",
       "47                     nateglinide_No    [1.071113526084382]\n",
       "68               rosiglitazone_Steady   [0.7963725965732339]\n",
       "50                  chlorpropamide_No   [0.7231439380271958]\n",
       "61                   glyburide_Steady   [0.5415635837307604]\n",
       "69                   rosiglitazone_Up   [0.5344315975676855]\n",
       "90                    diabetesMed_Yes  [0.46561811834843797]\n",
       "7                    number_inpatient   [0.4517412468983278]\n",
       "21  discharge_disposition_id_hospital   [0.3520537394563183]"
      ]
     },
     "execution_count": 30,
     "metadata": {},
     "output_type": "execute_result"
    }
   ],
   "source": [
    "coef_SMOTE.head(10)"
   ]
  },
  {
   "cell_type": "markdown",
   "metadata": {},
   "source": [
    "#### Apply RandomizedSearch"
   ]
  },
  {
   "cell_type": "code",
   "execution_count": 31,
   "metadata": {},
   "outputs": [
    {
     "data": {
      "text/plain": [
       "{'C': 3.3770629943240693, 'penalty': 'l1'}"
      ]
     },
     "execution_count": 31,
     "metadata": {},
     "output_type": "execute_result"
    }
   ],
   "source": [
    "# Apply randomizedsearch to find the optimum \"C\"\n",
    "\n",
    "from sklearn.linear_model import LogisticRegression\n",
    "from sklearn.model_selection import RandomizedSearchCV\n",
    "from scipy.stats import uniform\n",
    "\n",
    "logistic = LogisticRegression(solver='saga', tol=1e-2, max_iter=200,\n",
    "                              random_state=0)\n",
    "distributions = dict(C=uniform(loc=0, scale=4),\n",
    "                     penalty=['l2', 'l1'])\n",
    "clf = RandomizedSearchCV(logistic, distributions, random_state=0)\n",
    "search = clf.fit(X_train_SMOTE, y_train_SMOTE)\n",
    "search.best_params_\n"
   ]
  },
  {
   "cell_type": "code",
   "execution_count": 32,
   "metadata": {},
   "outputs": [
    {
     "name": "stdout",
     "output_type": "stream",
     "text": [
      "Train set Score: 63.527%\n",
      "Test Set score : 62.660%\n"
     ]
    }
   ],
   "source": [
    "logreg = LogisticRegression(fit_intercept=True, penalty='l1',class_weight='balanced',C=2.195254015709299)\n",
    "logreg.fit(X_train_SMOTE, y_train_SMOTE)\n",
    "print(\"Train set Score: {:.3%}\".format(logreg.score(X_train_SMOTE, y_train_SMOTE)))\n",
    "print(\"Test Set score : {:.3%}\".format(logreg.score(X_test, y_test)))"
   ]
  },
  {
   "cell_type": "code",
   "execution_count": 33,
   "metadata": {},
   "outputs": [],
   "source": [
    "# Check with the validation testset\n",
    "y_test_predict = logreg.predict(X_test)\n",
    "probability = logreg.predict_proba(X_test)"
   ]
  },
  {
   "cell_type": "code",
   "execution_count": 34,
   "metadata": {},
   "outputs": [
    {
     "data": {
      "text/html": [
       "<div>\n",
       "<style scoped>\n",
       "    .dataframe tbody tr th:only-of-type {\n",
       "        vertical-align: middle;\n",
       "    }\n",
       "\n",
       "    .dataframe tbody tr th {\n",
       "        vertical-align: top;\n",
       "    }\n",
       "\n",
       "    .dataframe thead th {\n",
       "        text-align: right;\n",
       "    }\n",
       "</style>\n",
       "<table border=\"1\" class=\"dataframe\">\n",
       "  <thead>\n",
       "    <tr style=\"text-align: right;\">\n",
       "      <th>Predict</th>\n",
       "      <th>0</th>\n",
       "      <th>1</th>\n",
       "      <th>All</th>\n",
       "    </tr>\n",
       "    <tr>\n",
       "      <th>Actual</th>\n",
       "      <th></th>\n",
       "      <th></th>\n",
       "      <th></th>\n",
       "    </tr>\n",
       "  </thead>\n",
       "  <tbody>\n",
       "    <tr>\n",
       "      <th>0</th>\n",
       "      <td>7837</td>\n",
       "      <td>4531</td>\n",
       "      <td>12368</td>\n",
       "    </tr>\n",
       "    <tr>\n",
       "      <th>1</th>\n",
       "      <td>635</td>\n",
       "      <td>832</td>\n",
       "      <td>1467</td>\n",
       "    </tr>\n",
       "    <tr>\n",
       "      <th>All</th>\n",
       "      <td>8472</td>\n",
       "      <td>5363</td>\n",
       "      <td>13835</td>\n",
       "    </tr>\n",
       "  </tbody>\n",
       "</table>\n",
       "</div>"
      ],
      "text/plain": [
       "Predict     0     1    All\n",
       "Actual                    \n",
       "0        7837  4531  12368\n",
       "1         635   832   1467\n",
       "All      8472  5363  13835"
      ]
     },
     "execution_count": 34,
     "metadata": {},
     "output_type": "execute_result"
    }
   ],
   "source": [
    "pd.crosstab(pd.Series(y_test, name = 'Actual'), pd.Series(y_test_predict, name = 'Predict'), margins = True)"
   ]
  },
  {
   "cell_type": "code",
   "execution_count": 35,
   "metadata": {},
   "outputs": [
    {
     "name": "stdout",
     "output_type": "stream",
     "text": [
      "             precision    recall  f1-score   support\n",
      "\n",
      "          0       0.93      0.63      0.75     12368\n",
      "          1       0.16      0.57      0.24      1467\n",
      "\n",
      "avg / total       0.84      0.63      0.70     13835\n",
      "\n"
     ]
    }
   ],
   "source": [
    "report=classification_report(y_test, y_test_predict)\n",
    "print(report)"
   ]
  },
  {
   "cell_type": "code",
   "execution_count": 36,
   "metadata": {},
   "outputs": [
    {
     "name": "stdout",
     "output_type": "stream",
     "text": [
      "832 4531 635 7837\n"
     ]
    }
   ],
   "source": [
    "from sklearn.metrics import confusion_matrix\n",
    "\n",
    "tn, fp, fn, tp = confusion_matrix(y_test, y_test_predict).ravel()\n",
    "print(tp, fp, fn, tn)  # 1 1 1 1\n",
    "\n",
    "TPR=tp/(tp+fn)\n",
    "FPR=fp/(fp+tn)\n",
    "TNR=tn/(fp+tn)"
   ]
  },
  {
   "cell_type": "code",
   "execution_count": 37,
   "metadata": {},
   "outputs": [
    {
     "name": "stdout",
     "output_type": "stream",
     "text": [
      "Accuracy is 0.627\n",
      "Precision is 0.155\n",
      "Recall is 0.567\n",
      "AUC is 0.600\n",
      "TPR is 0.567\n",
      "FPR is 0.366\n",
      "TNR is 0.634\n"
     ]
    }
   ],
   "source": [
    "from sklearn.metrics import accuracy_score, precision_score, recall_score\n",
    "print(\"Accuracy is {0:.3f}\".format(accuracy_score(y_test, y_test_predict)))\n",
    "print(\"Precision is {0:.3f}\".format(precision_score(y_test, y_test_predict)))\n",
    "print(\"Recall is {0:.3f}\".format(recall_score(y_test, y_test_predict)))\n",
    "print(\"AUC is {0:.3f}\".format(roc_auc_score(y_test, y_test_predict)))\n",
    "print(\"TPR is {0:.3f}\".format(TPR))\n",
    "print(\"FPR is {0:.3f}\".format(FPR))\n",
    "print(\"TNR is {0:.3f}\".format(TNR))"
   ]
  },
  {
   "cell_type": "code",
   "execution_count": 38,
   "metadata": {},
   "outputs": [],
   "source": [
    "accuracy_logreg = accuracy_score(y_test, y_test_predict)\n",
    "precision_logreg = precision_score(y_test, y_test_predict)\n",
    "recall_logreg = recall_score(y_test, y_test_predict)\n",
    "auc_logreg = roc_auc_score(y_test, y_test_predict)\n",
    "TPR_logreg=TPR\n",
    "FPR_logreg=FPR\n",
    "TNR_logreg=TNR"
   ]
  },
  {
   "cell_type": "code",
   "execution_count": 39,
   "metadata": {},
   "outputs": [],
   "source": [
    "coef_random_search=pd.DataFrame(zip(X_train_SMOTE.columns, np.transpose(logreg.coef_)),columns=['Features','Coefficients']).sort_values(by='Coefficients',ascending=False)"
   ]
  },
  {
   "cell_type": "code",
   "execution_count": 40,
   "metadata": {},
   "outputs": [
    {
     "data": {
      "text/html": [
       "<div>\n",
       "<style scoped>\n",
       "    .dataframe tbody tr th:only-of-type {\n",
       "        vertical-align: middle;\n",
       "    }\n",
       "\n",
       "    .dataframe tbody tr th {\n",
       "        vertical-align: top;\n",
       "    }\n",
       "\n",
       "    .dataframe thead th {\n",
       "        text-align: right;\n",
       "    }\n",
       "</style>\n",
       "<table border=\"1\" class=\"dataframe\">\n",
       "  <thead>\n",
       "    <tr style=\"text-align: right;\">\n",
       "      <th></th>\n",
       "      <th>Features</th>\n",
       "      <th>Coefficients</th>\n",
       "    </tr>\n",
       "  </thead>\n",
       "  <tbody>\n",
       "    <tr>\n",
       "      <th>72</th>\n",
       "      <td>acarbose_Up</td>\n",
       "      <td>[2.627658336923395]</td>\n",
       "    </tr>\n",
       "    <tr>\n",
       "      <th>48</th>\n",
       "      <td>nateglinide_Steady</td>\n",
       "      <td>[1.4058791112927216]</td>\n",
       "    </tr>\n",
       "    <tr>\n",
       "      <th>47</th>\n",
       "      <td>nateglinide_No</td>\n",
       "      <td>[1.1704607207008444]</td>\n",
       "    </tr>\n",
       "    <tr>\n",
       "      <th>68</th>\n",
       "      <td>rosiglitazone_Steady</td>\n",
       "      <td>[0.9191855782496728]</td>\n",
       "    </tr>\n",
       "    <tr>\n",
       "      <th>69</th>\n",
       "      <td>rosiglitazone_Up</td>\n",
       "      <td>[0.6532794697183357]</td>\n",
       "    </tr>\n",
       "    <tr>\n",
       "      <th>61</th>\n",
       "      <td>glyburide_Steady</td>\n",
       "      <td>[0.5752762882283069]</td>\n",
       "    </tr>\n",
       "    <tr>\n",
       "      <th>67</th>\n",
       "      <td>rosiglitazone_No</td>\n",
       "      <td>[0.46954353458476583]</td>\n",
       "    </tr>\n",
       "    <tr>\n",
       "      <th>90</th>\n",
       "      <td>diabetesMed_Yes</td>\n",
       "      <td>[0.46605381951976477]</td>\n",
       "    </tr>\n",
       "    <tr>\n",
       "      <th>7</th>\n",
       "      <td>number_inpatient</td>\n",
       "      <td>[0.4518807858023499]</td>\n",
       "    </tr>\n",
       "    <tr>\n",
       "      <th>46</th>\n",
       "      <td>repaglinide_Up</td>\n",
       "      <td>[0.3901628036395193]</td>\n",
       "    </tr>\n",
       "  </tbody>\n",
       "</table>\n",
       "</div>"
      ],
      "text/plain": [
       "                Features           Coefficients\n",
       "72           acarbose_Up    [2.627658336923395]\n",
       "48    nateglinide_Steady   [1.4058791112927216]\n",
       "47        nateglinide_No   [1.1704607207008444]\n",
       "68  rosiglitazone_Steady   [0.9191855782496728]\n",
       "69      rosiglitazone_Up   [0.6532794697183357]\n",
       "61      glyburide_Steady   [0.5752762882283069]\n",
       "67      rosiglitazone_No  [0.46954353458476583]\n",
       "90       diabetesMed_Yes  [0.46605381951976477]\n",
       "7       number_inpatient   [0.4518807858023499]\n",
       "46        repaglinide_Up   [0.3901628036395193]"
      ]
     },
     "execution_count": 40,
     "metadata": {},
     "output_type": "execute_result"
    }
   ],
   "source": [
    "coef_random_search.head(10)"
   ]
  },
  {
   "cell_type": "code",
   "execution_count": 41,
   "metadata": {},
   "outputs": [],
   "source": [
    "# import statsmodels.api as sm\n",
    "# logit = sm.Logit(X_train_SMOTE, y_train_SMOTE)\n",
    "\n",
    "# result = logit.fit()\n",
    "# print(result.summary())"
   ]
  },
  {
   "cell_type": "markdown",
   "metadata": {},
   "source": [
    "# Decision Tree Clssifier - \"Entropy\""
   ]
  },
  {
   "cell_type": "markdown",
   "metadata": {},
   "source": [
    "- For this decision tree classifier, I developed the model based on the reference model (logistic regression with SMOTE)"
   ]
  },
  {
   "cell_type": "code",
   "execution_count": 42,
   "metadata": {},
   "outputs": [
    {
     "name": "stdout",
     "output_type": "stream",
     "text": [
      "Original dataset shape Counter({0: 56904, 1: 4770})\n",
      "New dataset shape Counter({0: 56904, 1: 56904})\n"
     ]
    }
   ],
   "source": [
    "# Data balancing applied using SMOTE\n",
    "from imblearn.over_sampling import SMOTE\n",
    "\n",
    "from collections import Counter\n",
    "print('Original dataset shape {}'.format(Counter(y_train)))\n",
    "sm = SMOTE(random_state=20)\n",
    "X_train_SMOTE_dt, y_train_SMOTE_dt = sm.fit_sample(X_train, y_train)\n",
    "print('New dataset shape {}'.format(Counter(y_train_SMOTE_dt)))"
   ]
  },
  {
   "cell_type": "code",
   "execution_count": 43,
   "metadata": {},
   "outputs": [
    {
     "data": {
      "text/plain": [
       "DecisionTreeClassifier(class_weight=None, criterion='entropy', max_depth=28,\n",
       "            max_features=None, max_leaf_nodes=None,\n",
       "            min_impurity_decrease=0.0, min_impurity_split=None,\n",
       "            min_samples_leaf=1, min_samples_split=10,\n",
       "            min_weight_fraction_leaf=0.0, presort=False, random_state=None,\n",
       "            splitter='best')"
      ]
     },
     "execution_count": 43,
     "metadata": {},
     "output_type": "execute_result"
    }
   ],
   "source": [
    "from sklearn.tree import DecisionTreeClassifier\n",
    "dt_en = DecisionTreeClassifier(max_depth=28, criterion = \"entropy\", min_samples_split=10)\n",
    "dt_en.fit(X_train_SMOTE_dt, y_train_SMOTE_dt)"
   ]
  },
  {
   "cell_type": "code",
   "execution_count": 44,
   "metadata": {},
   "outputs": [
    {
     "name": "stdout",
     "output_type": "stream",
     "text": [
      "Train set Score: 95.633%\n",
      "Test Set score : 84.445%\n"
     ]
    }
   ],
   "source": [
    "print(\"Train set Score: {:.3%}\".format(dt_en.score(X_train, y_train)))\n",
    "print(\"Test Set score : {:.3%}\".format(dt_en.score(X_test, y_test)))"
   ]
  },
  {
   "cell_type": "code",
   "execution_count": 45,
   "metadata": {},
   "outputs": [],
   "source": [
    "y_test_predict = dt_en.predict(X_test)"
   ]
  },
  {
   "cell_type": "code",
   "execution_count": 46,
   "metadata": {},
   "outputs": [
    {
     "data": {
      "text/html": [
       "<div>\n",
       "<style scoped>\n",
       "    .dataframe tbody tr th:only-of-type {\n",
       "        vertical-align: middle;\n",
       "    }\n",
       "\n",
       "    .dataframe tbody tr th {\n",
       "        vertical-align: top;\n",
       "    }\n",
       "\n",
       "    .dataframe thead th {\n",
       "        text-align: right;\n",
       "    }\n",
       "</style>\n",
       "<table border=\"1\" class=\"dataframe\">\n",
       "  <thead>\n",
       "    <tr style=\"text-align: right;\">\n",
       "      <th>Predict</th>\n",
       "      <th>0</th>\n",
       "      <th>1</th>\n",
       "      <th>All</th>\n",
       "    </tr>\n",
       "    <tr>\n",
       "      <th>Actual</th>\n",
       "      <th></th>\n",
       "      <th></th>\n",
       "      <th></th>\n",
       "    </tr>\n",
       "  </thead>\n",
       "  <tbody>\n",
       "    <tr>\n",
       "      <th>0</th>\n",
       "      <td>11519</td>\n",
       "      <td>849</td>\n",
       "      <td>12368</td>\n",
       "    </tr>\n",
       "    <tr>\n",
       "      <th>1</th>\n",
       "      <td>1303</td>\n",
       "      <td>164</td>\n",
       "      <td>1467</td>\n",
       "    </tr>\n",
       "    <tr>\n",
       "      <th>All</th>\n",
       "      <td>12822</td>\n",
       "      <td>1013</td>\n",
       "      <td>13835</td>\n",
       "    </tr>\n",
       "  </tbody>\n",
       "</table>\n",
       "</div>"
      ],
      "text/plain": [
       "Predict      0     1    All\n",
       "Actual                     \n",
       "0        11519   849  12368\n",
       "1         1303   164   1467\n",
       "All      12822  1013  13835"
      ]
     },
     "execution_count": 46,
     "metadata": {},
     "output_type": "execute_result"
    }
   ],
   "source": [
    "pd.crosstab(pd.Series(y_test, name = 'Actual'), pd.Series(y_test_predict, name = 'Predict'), margins = True)"
   ]
  },
  {
   "cell_type": "code",
   "execution_count": 47,
   "metadata": {},
   "outputs": [
    {
     "name": "stdout",
     "output_type": "stream",
     "text": [
      "             precision    recall  f1-score   support\n",
      "\n",
      "          0       0.90      0.93      0.91     12368\n",
      "          1       0.16      0.11      0.13      1467\n",
      "\n",
      "avg / total       0.82      0.84      0.83     13835\n",
      "\n"
     ]
    }
   ],
   "source": [
    "report=classification_report(y_test, y_test_predict)\n",
    "print(report)"
   ]
  },
  {
   "cell_type": "code",
   "execution_count": 48,
   "metadata": {},
   "outputs": [
    {
     "name": "stdout",
     "output_type": "stream",
     "text": [
      "164 849 1303 11519\n"
     ]
    }
   ],
   "source": [
    "from sklearn.metrics import confusion_matrix\n",
    "\n",
    "tn, fp, fn, tp = confusion_matrix(y_test, y_test_predict).ravel()\n",
    "print(tp, fp, fn, tn)  # 1 1 1 1\n",
    "\n",
    "TPR=tp/(tp+fn)\n",
    "FPR=fp/(fp+tn)\n",
    "TNR=tn/(fp+tn)"
   ]
  },
  {
   "cell_type": "code",
   "execution_count": 49,
   "metadata": {},
   "outputs": [
    {
     "name": "stdout",
     "output_type": "stream",
     "text": [
      "Accuracy is 0.844\n",
      "Precision is 0.162\n",
      "Recall is 0.112\n",
      "AUC is 0.522\n",
      "TPR is 0.112\n",
      "FPR is 0.069\n",
      "TNR is 0.931\n"
     ]
    }
   ],
   "source": [
    "from sklearn.metrics import accuracy_score, precision_score, recall_score\n",
    "print(\"Accuracy is {0:.3f}\".format(accuracy_score(y_test, y_test_predict)))\n",
    "print(\"Precision is {0:.3f}\".format(precision_score(y_test, y_test_predict)))\n",
    "print(\"Recall is {0:.3f}\".format(recall_score(y_test, y_test_predict)))\n",
    "print(\"AUC is {0:.3f}\".format(roc_auc_score(y_test, y_test_predict)))\n",
    "print(\"TPR is {0:.3f}\".format(TPR))\n",
    "print(\"FPR is {0:.3f}\".format(FPR))\n",
    "print(\"TNR is {0:.3f}\".format(TNR))"
   ]
  },
  {
   "cell_type": "code",
   "execution_count": 50,
   "metadata": {},
   "outputs": [],
   "source": [
    "accuracy_dt_en = accuracy_score(y_test, y_test_predict)\n",
    "precision_dt_en = precision_score(y_test, y_test_predict)\n",
    "recall_dt_en = recall_score(y_test, y_test_predict)\n",
    "auc_dt_en = roc_auc_score(y_test, y_test_predict)\n",
    "TPR_dt_en=TPR\n",
    "FPR_ldt_en=FPR\n",
    "TNR_dt_en=TNR"
   ]
  },
  {
   "cell_type": "code",
   "execution_count": 51,
   "metadata": {},
   "outputs": [
    {
     "data": {
      "image/png": "[encoded data removed]",
      "text/plain": [
       "<IPython.core.display.Image object>"
      ]
     },
     "execution_count": 51,
     "metadata": {},
     "output_type": "execute_result"
    }
   ],
   "source": [
    "# Visualizaing decision tree for Question 2 - detailed feature set\n",
    "import graphviz\n",
    "from IPython.display import Image\n",
    "import pydotplus\n",
    "from sklearn import tree\n",
    "dot_dt_q2 = tree.export_graphviz(dt_en, out_file=\"dt_q2.dot\", feature_names=X_train.columns, max_depth=2,\n",
    "                                 class_names=[\"No\",\"Readm\"], filled=True, rounded=True, special_characters=True)\n",
    "graph_dt_q2 = pydotplus.graph_from_dot_file('dt_q2.dot')\n",
    "Image(graph_dt_q2.create_png())"
   ]
  },
  {
   "cell_type": "code",
   "execution_count": 52,
   "metadata": {},
   "outputs": [
    {
     "name": "stdout",
     "output_type": "stream",
     "text": [
      "                          Feature  Importance\n",
      "19       admission_type_id_urgent       0.018\n",
      "22    discharge_disposition_id_na       0.018\n",
      "4                 num_medications       0.027\n",
      "2              num_lab_procedures       0.033\n",
      "80                 insulin_Steady       0.042\n",
      "16                    gender_Male       0.049\n",
      "79                     insulin_No       0.063\n",
      "12                 race_Caucasian       0.076\n",
      "20  discharge_disposition_id_home       0.164\n",
      "7                number_inpatient       0.302\n"
     ]
    },
    {
     "data": {
      "image/png": "[encoded data removed]",
      "text/plain": [
       "<Figure size 720x432 with 1 Axes>"
      ]
     },
     "metadata": {
      "needs_background": "light"
     },
     "output_type": "display_data"
    }
   ],
   "source": [
    "# Create list of top most features based on importance\n",
    "feature_names = X_train.columns\n",
    "feature_imports = dt_en.feature_importances_\n",
    "most_imp_features = pd.DataFrame([f for f in zip(feature_names,feature_imports)], columns=[\"Feature\", \"Importance\"]).nlargest(10, \"Importance\")\n",
    "most_imp_features.sort_values(by=\"Importance\", inplace=True)\n",
    "print(most_imp_features)\n",
    "plt.figure(figsize=(10,6))\n",
    "plt.barh(range(len(most_imp_features)), most_imp_features.Importance, align='center', alpha=0.8)\n",
    "plt.yticks(range(len(most_imp_features)), most_imp_features.Feature, fontsize=14)\n",
    "plt.xlabel('Importance')\n",
    "plt.title('Most important features - Decision Tree (entropy function)')\n",
    "plt.show()"
   ]
  },
  {
   "cell_type": "markdown",
   "metadata": {},
   "source": [
    "# Decision Tree Classifier : \"Gini\""
   ]
  },
  {
   "cell_type": "code",
   "execution_count": 53,
   "metadata": {},
   "outputs": [
    {
     "data": {
      "text/plain": [
       "DecisionTreeClassifier(class_weight=None, criterion='gini', max_depth=28,\n",
       "            max_features=None, max_leaf_nodes=None,\n",
       "            min_impurity_decrease=0.0, min_impurity_split=None,\n",
       "            min_samples_leaf=1, min_samples_split=10,\n",
       "            min_weight_fraction_leaf=0.0, presort=False, random_state=None,\n",
       "            splitter='best')"
      ]
     },
     "execution_count": 53,
     "metadata": {},
     "output_type": "execute_result"
    }
   ],
   "source": [
    "from sklearn.tree import DecisionTreeClassifier\n",
    "dt_g = DecisionTreeClassifier(max_depth=28, criterion = \"gini\", min_samples_split=10)\n",
    "dt_g.fit(X_train_SMOTE_dt, y_train_SMOTE_dt)"
   ]
  },
  {
   "cell_type": "code",
   "execution_count": 54,
   "metadata": {},
   "outputs": [
    {
     "name": "stdout",
     "output_type": "stream",
     "text": [
      "Train set Score: 97.276%\n",
      "Test Set score : 85.023%\n"
     ]
    }
   ],
   "source": [
    "print(\"Train set Score: {:.3%}\".format(dt_g.score(X_train_SMOTE_dt, y_train_SMOTE_dt)))\n",
    "print(\"Test Set score : {:.3%}\".format(dt_g.score(X_test, y_test)))"
   ]
  },
  {
   "cell_type": "code",
   "execution_count": 55,
   "metadata": {},
   "outputs": [],
   "source": [
    "y_test_predict = dt_g.predict(X_test)"
   ]
  },
  {
   "cell_type": "code",
   "execution_count": 56,
   "metadata": {},
   "outputs": [
    {
     "data": {
      "text/html": [
       "<div>\n",
       "<style scoped>\n",
       "    .dataframe tbody tr th:only-of-type {\n",
       "        vertical-align: middle;\n",
       "    }\n",
       "\n",
       "    .dataframe tbody tr th {\n",
       "        vertical-align: top;\n",
       "    }\n",
       "\n",
       "    .dataframe thead th {\n",
       "        text-align: right;\n",
       "    }\n",
       "</style>\n",
       "<table border=\"1\" class=\"dataframe\">\n",
       "  <thead>\n",
       "    <tr style=\"text-align: right;\">\n",
       "      <th>Predict</th>\n",
       "      <th>0</th>\n",
       "      <th>1</th>\n",
       "      <th>All</th>\n",
       "    </tr>\n",
       "    <tr>\n",
       "      <th>Actual</th>\n",
       "      <th></th>\n",
       "      <th></th>\n",
       "      <th></th>\n",
       "    </tr>\n",
       "  </thead>\n",
       "  <tbody>\n",
       "    <tr>\n",
       "      <th>0</th>\n",
       "      <td>11627</td>\n",
       "      <td>741</td>\n",
       "      <td>12368</td>\n",
       "    </tr>\n",
       "    <tr>\n",
       "      <th>1</th>\n",
       "      <td>1331</td>\n",
       "      <td>136</td>\n",
       "      <td>1467</td>\n",
       "    </tr>\n",
       "    <tr>\n",
       "      <th>All</th>\n",
       "      <td>12958</td>\n",
       "      <td>877</td>\n",
       "      <td>13835</td>\n",
       "    </tr>\n",
       "  </tbody>\n",
       "</table>\n",
       "</div>"
      ],
      "text/plain": [
       "Predict      0    1    All\n",
       "Actual                    \n",
       "0        11627  741  12368\n",
       "1         1331  136   1467\n",
       "All      12958  877  13835"
      ]
     },
     "execution_count": 56,
     "metadata": {},
     "output_type": "execute_result"
    }
   ],
   "source": [
    "pd.crosstab(pd.Series(y_test, name = 'Actual'), pd.Series(y_test_predict, name = 'Predict'), margins = True)"
   ]
  },
  {
   "cell_type": "code",
   "execution_count": 57,
   "metadata": {},
   "outputs": [
    {
     "name": "stdout",
     "output_type": "stream",
     "text": [
      "             precision    recall  f1-score   support\n",
      "\n",
      "          0       0.90      0.94      0.92     12368\n",
      "          1       0.16      0.09      0.12      1467\n",
      "\n",
      "avg / total       0.82      0.85      0.83     13835\n",
      "\n"
     ]
    }
   ],
   "source": [
    "report=classification_report(y_test, y_test_predict)\n",
    "print(report)"
   ]
  },
  {
   "cell_type": "code",
   "execution_count": 58,
   "metadata": {},
   "outputs": [
    {
     "name": "stdout",
     "output_type": "stream",
     "text": [
      "136 741 1331 11627\n"
     ]
    }
   ],
   "source": [
    "from sklearn.metrics import confusion_matrix\n",
    "\n",
    "tn, fp, fn, tp = confusion_matrix(y_test, y_test_predict).ravel()\n",
    "print(tp, fp, fn, tn)  # 1 1 1 1\n",
    "\n",
    "TPR=tp/(tp+fn)\n",
    "FPR=fp/(fp+tn)\n",
    "TNR=tn/(fp+tn)"
   ]
  },
  {
   "cell_type": "code",
   "execution_count": 59,
   "metadata": {},
   "outputs": [
    {
     "name": "stdout",
     "output_type": "stream",
     "text": [
      "Accuracy is 0.850\n",
      "Precision is 0.155\n",
      "Recall is 0.093\n",
      "AUC is 0.516\n",
      "TPR is 0.093\n",
      "FPR is 0.060\n",
      "TNR is 0.940\n"
     ]
    }
   ],
   "source": [
    "from sklearn.metrics import accuracy_score, precision_score, recall_score\n",
    "print(\"Accuracy is {0:.3f}\".format(accuracy_score(y_test, y_test_predict)))\n",
    "print(\"Precision is {0:.3f}\".format(precision_score(y_test, y_test_predict)))\n",
    "print(\"Recall is {0:.3f}\".format(recall_score(y_test, y_test_predict)))\n",
    "print(\"AUC is {0:.3f}\".format(roc_auc_score(y_test, y_test_predict)))\n",
    "print(\"TPR is {0:.3f}\".format(TPR))\n",
    "print(\"FPR is {0:.3f}\".format(FPR))\n",
    "print(\"TNR is {0:.3f}\".format(TNR))"
   ]
  },
  {
   "cell_type": "code",
   "execution_count": 60,
   "metadata": {},
   "outputs": [],
   "source": [
    "accuracy_dt_g = accuracy_score(y_test, y_test_predict)\n",
    "precision_dt_g = precision_score(y_test, y_test_predict)\n",
    "recall_dt_g = recall_score(y_test, y_test_predict)\n",
    "auc_dt_g = roc_auc_score(y_test, y_test_predict)"
   ]
  },
  {
   "cell_type": "code",
   "execution_count": 61,
   "metadata": {},
   "outputs": [
    {
     "data": {
      "image/png": "[encoded data removed]",
      "text/plain": [
       "<IPython.core.display.Image object>"
      ]
     },
     "execution_count": 61,
     "metadata": {},
     "output_type": "execute_result"
    }
   ],
   "source": [
    "# Visualizaing decision tree for Question 2 - detailed feature set\n",
    "import graphviz\n",
    "from IPython.display import Image\n",
    "import pydotplus\n",
    "from sklearn import tree\n",
    "dot_dt_q2 = tree.export_graphviz(dt_g, out_file=\"dt_q2.dot\", feature_names=X_train.columns, max_depth=2,\n",
    "                                 class_names=[\"No\",\"Readm\"], filled=True, rounded=True, special_characters=True)\n",
    "graph_dt_q2 = pydotplus.graph_from_dot_file('dt_q2.dot')\n",
    "Image(graph_dt_q2.create_png())"
   ]
  },
  {
   "cell_type": "code",
   "execution_count": 62,
   "metadata": {},
   "outputs": [
    {
     "name": "stdout",
     "output_type": "stream",
     "text": [
      "                          Feature  Importance\n",
      "4                 num_medications       0.014\n",
      "6                number_emergency       0.017\n",
      "2              num_lab_procedures       0.018\n",
      "22    discharge_disposition_id_na       0.020\n",
      "80                 insulin_Steady       0.045\n",
      "16                    gender_Male       0.067\n",
      "79                     insulin_No       0.069\n",
      "12                 race_Caucasian       0.081\n",
      "20  discharge_disposition_id_home       0.185\n",
      "7                number_inpatient       0.322\n"
     ]
    },
    {
     "data": {
      "image/png": "[encoded data removed]",
      "text/plain": [
       "<Figure size 720x432 with 1 Axes>"
      ]
     },
     "metadata": {
      "needs_background": "light"
     },
     "output_type": "display_data"
    }
   ],
   "source": [
    "# Create list of top most features based on importance\n",
    "feature_names = X_train.columns\n",
    "feature_imports = dt_g.feature_importances_\n",
    "most_imp_features = pd.DataFrame([f for f in zip(feature_names,feature_imports)], columns=[\"Feature\", \"Importance\"]).nlargest(10, \"Importance\")\n",
    "most_imp_features.sort_values(by=\"Importance\", inplace=True)\n",
    "print(most_imp_features)\n",
    "plt.figure(figsize=(10,6))\n",
    "plt.barh(range(len(most_imp_features)), most_imp_features.Importance, align='center', alpha=0.8)\n",
    "plt.yticks(range(len(most_imp_features)), most_imp_features.Feature, fontsize=14)\n",
    "plt.xlabel('Importance')\n",
    "plt.title('Most important features - Decision Tree (Gini function)')\n",
    "plt.show()"
   ]
  },
  {
   "cell_type": "markdown",
   "metadata": {},
   "source": [
    "# Random Forest Classifier : \"Gini\"\n"
   ]
  },
  {
   "cell_type": "code",
   "execution_count": 63,
   "metadata": {},
   "outputs": [
    {
     "name": "stdout",
     "output_type": "stream",
     "text": [
      "Original dataset shape Counter({0: 56904, 1: 4770})\n",
      "New dataset shape Counter({0: 56904, 1: 56904})\n"
     ]
    }
   ],
   "source": [
    "# Data balancing applied using SMOTE\n",
    "from imblearn.over_sampling import SMOTE\n",
    "\n",
    "from collections import Counter\n",
    "print('Original dataset shape {}'.format(Counter(y_train)))\n",
    "sm = SMOTE(random_state=20)\n",
    "X_train_SMOTE_rf, y_train_SMOTE_rf = sm.fit_sample(X_train, y_train)\n",
    "print('New dataset shape {}'.format(Counter(y_train_SMOTE_rf)))"
   ]
  },
  {
   "cell_type": "code",
   "execution_count": 64,
   "metadata": {},
   "outputs": [
    {
     "data": {
      "text/plain": [
       "RandomForestClassifier(bootstrap=True, class_weight=None, criterion='gini',\n",
       "            max_depth=25, max_features='auto', max_leaf_nodes=None,\n",
       "            min_impurity_decrease=0.0, min_impurity_split=None,\n",
       "            min_samples_leaf=1, min_samples_split=10,\n",
       "            min_weight_fraction_leaf=0.0, n_estimators=10, n_jobs=1,\n",
       "            oob_score=False, random_state=None, verbose=0,\n",
       "            warm_start=False)"
      ]
     },
     "execution_count": 64,
     "metadata": {},
     "output_type": "execute_result"
    }
   ],
   "source": [
    "from sklearn.ensemble import RandomForestClassifier\n",
    "rf_gini = RandomForestClassifier(n_estimators = 10, max_depth=25, criterion = \"gini\", min_samples_split=10)\n",
    "rf_gini.fit(X_train_SMOTE_rf, y_train_SMOTE_rf)"
   ]
  },
  {
   "cell_type": "code",
   "execution_count": 65,
   "metadata": {},
   "outputs": [
    {
     "name": "stdout",
     "output_type": "stream",
     "text": [
      "Train set Score: 96.274%\n",
      "Test Set score : 89.317%\n"
     ]
    }
   ],
   "source": [
    "print(\"Train set Score: {:.3%}\".format(rf_gini.score(X_train_SMOTE_rf, y_train_SMOTE_rf)))\n",
    "print(\"Test Set score : {:.3%}\".format(rf_gini.score(X_test, y_test)))"
   ]
  },
  {
   "cell_type": "code",
   "execution_count": 66,
   "metadata": {},
   "outputs": [],
   "source": [
    "y_test_predict = rf_gini.predict(X_test)"
   ]
  },
  {
   "cell_type": "code",
   "execution_count": 67,
   "metadata": {},
   "outputs": [
    {
     "data": {
      "text/html": [
       "<div>\n",
       "<style scoped>\n",
       "    .dataframe tbody tr th:only-of-type {\n",
       "        vertical-align: middle;\n",
       "    }\n",
       "\n",
       "    .dataframe tbody tr th {\n",
       "        vertical-align: top;\n",
       "    }\n",
       "\n",
       "    .dataframe thead th {\n",
       "        text-align: right;\n",
       "    }\n",
       "</style>\n",
       "<table border=\"1\" class=\"dataframe\">\n",
       "  <thead>\n",
       "    <tr style=\"text-align: right;\">\n",
       "      <th>Predict</th>\n",
       "      <th>0</th>\n",
       "      <th>1</th>\n",
       "      <th>All</th>\n",
       "    </tr>\n",
       "    <tr>\n",
       "      <th>Actual</th>\n",
       "      <th></th>\n",
       "      <th></th>\n",
       "      <th></th>\n",
       "    </tr>\n",
       "  </thead>\n",
       "  <tbody>\n",
       "    <tr>\n",
       "      <th>0</th>\n",
       "      <td>12350</td>\n",
       "      <td>18</td>\n",
       "      <td>12368</td>\n",
       "    </tr>\n",
       "    <tr>\n",
       "      <th>1</th>\n",
       "      <td>1460</td>\n",
       "      <td>7</td>\n",
       "      <td>1467</td>\n",
       "    </tr>\n",
       "    <tr>\n",
       "      <th>All</th>\n",
       "      <td>13810</td>\n",
       "      <td>25</td>\n",
       "      <td>13835</td>\n",
       "    </tr>\n",
       "  </tbody>\n",
       "</table>\n",
       "</div>"
      ],
      "text/plain": [
       "Predict      0   1    All\n",
       "Actual                   \n",
       "0        12350  18  12368\n",
       "1         1460   7   1467\n",
       "All      13810  25  13835"
      ]
     },
     "execution_count": 67,
     "metadata": {},
     "output_type": "execute_result"
    }
   ],
   "source": [
    "pd.crosstab(pd.Series(y_test, name = 'Actual'), pd.Series(y_test_predict, name = 'Predict'), margins = True)"
   ]
  },
  {
   "cell_type": "code",
   "execution_count": 68,
   "metadata": {},
   "outputs": [
    {
     "name": "stdout",
     "output_type": "stream",
     "text": [
      "             precision    recall  f1-score   support\n",
      "\n",
      "          0       0.89      1.00      0.94     12368\n",
      "          1       0.28      0.00      0.01      1467\n",
      "\n",
      "avg / total       0.83      0.89      0.84     13835\n",
      "\n"
     ]
    }
   ],
   "source": [
    "report=classification_report(y_test, y_test_predict)\n",
    "print(report)"
   ]
  },
  {
   "cell_type": "code",
   "execution_count": 69,
   "metadata": {},
   "outputs": [
    {
     "name": "stdout",
     "output_type": "stream",
     "text": [
      "7 18 1460 12350\n"
     ]
    }
   ],
   "source": [
    "from sklearn.metrics import confusion_matrix\n",
    "\n",
    "tn, fp, fn, tp = confusion_matrix(y_test, y_test_predict).ravel()\n",
    "print(tp, fp, fn, tn)  # 1 1 1 1\n",
    "\n",
    "TPR=tp/(tp+fn)\n",
    "FPR=fp/(fp+tn)\n",
    "TNR=tn/(fp+tn)"
   ]
  },
  {
   "cell_type": "code",
   "execution_count": 70,
   "metadata": {},
   "outputs": [
    {
     "name": "stdout",
     "output_type": "stream",
     "text": [
      "Accuracy is 0.893\n",
      "Precision is 0.280\n",
      "Recall is 0.005\n",
      "AUC is 0.502\n",
      "TPR is 0.005\n",
      "FPR is 0.001\n",
      "TNR is 0.999\n"
     ]
    }
   ],
   "source": [
    "print(\"Accuracy is {0:.3f}\".format(accuracy_score(y_test, y_test_predict)))\n",
    "print(\"Precision is {0:.3f}\".format(precision_score(y_test, y_test_predict)))\n",
    "print(\"Recall is {0:.3f}\".format(recall_score(y_test, y_test_predict)))\n",
    "print(\"AUC is {0:.3f}\".format(roc_auc_score(y_test, y_test_predict)))\n",
    "print(\"TPR is {0:.3f}\".format(TPR))\n",
    "print(\"FPR is {0:.3f}\".format(FPR))\n",
    "print(\"TNR is {0:.3f}\".format(TNR))"
   ]
  },
  {
   "cell_type": "code",
   "execution_count": 71,
   "metadata": {},
   "outputs": [],
   "source": [
    "accuracy_rf_g = accuracy_score(y_test, y_test_predict)\n",
    "precision_rf_g = precision_score(y_test, y_test_predict)\n",
    "recall_rf_g = recall_score(y_test, y_test_predict)\n",
    "auc_rf_g = roc_auc_score(y_test, y_test_predict)\n",
    "\n",
    "TPR_rf_g=TPR\n",
    "FPR_rf_g=FPR\n",
    "TNR_rf_g=TNR"
   ]
  },
  {
   "cell_type": "code",
   "execution_count": 72,
   "metadata": {},
   "outputs": [
    {
     "data": {
      "image/png": "[encoded data removed]",
      "text/plain": [
       "<Figure size 720x432 with 1 Axes>"
      ]
     },
     "metadata": {
      "needs_background": "light"
     },
     "output_type": "display_data"
    }
   ],
   "source": [
    "# Create list of top most features based on importance\n",
    "feature_names = X_train.columns\n",
    "feature_imports = rf_gini.feature_importances_\n",
    "most_imp_features = pd.DataFrame([f for f in zip(feature_names,feature_imports)], columns=[\"Feature\", \"Importance\"]).nlargest(10, \"Importance\")\n",
    "most_imp_features.sort_values(by=\"Importance\", inplace=True)\n",
    "plt.figure(figsize=(10,6))\n",
    "plt.barh(range(len(most_imp_features)), most_imp_features.Importance, align='center', alpha=0.8)\n",
    "plt.yticks(range(len(most_imp_features)), most_imp_features.Feature, fontsize=14)\n",
    "plt.xlabel('Importance')\n",
    "plt.title('Most important features - Random Forest (gini)')\n",
    "plt.show()"
   ]
  },
  {
   "cell_type": "markdown",
   "metadata": {},
   "source": [
    "# Random Forest Classifier : \"Entropy\"\n"
   ]
  },
  {
   "cell_type": "code",
   "execution_count": 73,
   "metadata": {},
   "outputs": [
    {
     "data": {
      "text/plain": [
       "RandomForestClassifier(bootstrap=True, class_weight=None, criterion='entropy',\n",
       "            max_depth=25, max_features='auto', max_leaf_nodes=None,\n",
       "            min_impurity_decrease=0.0, min_impurity_split=None,\n",
       "            min_samples_leaf=1, min_samples_split=10,\n",
       "            min_weight_fraction_leaf=0.0, n_estimators=10, n_jobs=1,\n",
       "            oob_score=False, random_state=None, verbose=0,\n",
       "            warm_start=False)"
      ]
     },
     "execution_count": 73,
     "metadata": {},
     "output_type": "execute_result"
    }
   ],
   "source": [
    "from sklearn.ensemble import RandomForestClassifier\n",
    "rf_en = RandomForestClassifier(n_estimators = 10, max_depth=25, criterion = \"entropy\", min_samples_split=10)\n",
    "rf_en.fit(X_train_SMOTE_rf, y_train_SMOTE_rf)"
   ]
  },
  {
   "cell_type": "code",
   "execution_count": 74,
   "metadata": {},
   "outputs": [
    {
     "name": "stdout",
     "output_type": "stream",
     "text": [
      "Train set Score: 96.269%\n",
      "Test Set score : 89.324%\n"
     ]
    }
   ],
   "source": [
    "print(\"Train set Score: {:.3%}\".format(rf_en.score(X_train_SMOTE_rf, y_train_SMOTE_rf)))\n",
    "print(\"Test Set score : {:.3%}\".format(rf_en.score(X_test, y_test)))"
   ]
  },
  {
   "cell_type": "code",
   "execution_count": 75,
   "metadata": {},
   "outputs": [],
   "source": [
    "y_test_predict = rf_en.predict(X_test)"
   ]
  },
  {
   "cell_type": "code",
   "execution_count": 76,
   "metadata": {},
   "outputs": [
    {
     "data": {
      "text/html": [
       "<div>\n",
       "<style scoped>\n",
       "    .dataframe tbody tr th:only-of-type {\n",
       "        vertical-align: middle;\n",
       "    }\n",
       "\n",
       "    .dataframe tbody tr th {\n",
       "        vertical-align: top;\n",
       "    }\n",
       "\n",
       "    .dataframe thead th {\n",
       "        text-align: right;\n",
       "    }\n",
       "</style>\n",
       "<table border=\"1\" class=\"dataframe\">\n",
       "  <thead>\n",
       "    <tr style=\"text-align: right;\">\n",
       "      <th>Predict</th>\n",
       "      <th>0</th>\n",
       "      <th>1</th>\n",
       "      <th>All</th>\n",
       "    </tr>\n",
       "    <tr>\n",
       "      <th>Actual</th>\n",
       "      <th></th>\n",
       "      <th></th>\n",
       "      <th></th>\n",
       "    </tr>\n",
       "  </thead>\n",
       "  <tbody>\n",
       "    <tr>\n",
       "      <th>0</th>\n",
       "      <td>12349</td>\n",
       "      <td>19</td>\n",
       "      <td>12368</td>\n",
       "    </tr>\n",
       "    <tr>\n",
       "      <th>1</th>\n",
       "      <td>1458</td>\n",
       "      <td>9</td>\n",
       "      <td>1467</td>\n",
       "    </tr>\n",
       "    <tr>\n",
       "      <th>All</th>\n",
       "      <td>13807</td>\n",
       "      <td>28</td>\n",
       "      <td>13835</td>\n",
       "    </tr>\n",
       "  </tbody>\n",
       "</table>\n",
       "</div>"
      ],
      "text/plain": [
       "Predict      0   1    All\n",
       "Actual                   \n",
       "0        12349  19  12368\n",
       "1         1458   9   1467\n",
       "All      13807  28  13835"
      ]
     },
     "execution_count": 76,
     "metadata": {},
     "output_type": "execute_result"
    }
   ],
   "source": [
    "pd.crosstab(pd.Series(y_test, name = 'Actual'), pd.Series(y_test_predict, name = 'Predict'), margins = True)"
   ]
  },
  {
   "cell_type": "code",
   "execution_count": 77,
   "metadata": {},
   "outputs": [
    {
     "name": "stdout",
     "output_type": "stream",
     "text": [
      "             precision    recall  f1-score   support\n",
      "\n",
      "          0       0.89      1.00      0.94     12368\n",
      "          1       0.32      0.01      0.01      1467\n",
      "\n",
      "avg / total       0.83      0.89      0.84     13835\n",
      "\n"
     ]
    }
   ],
   "source": [
    "report=classification_report(y_test, y_test_predict)\n",
    "print(report)"
   ]
  },
  {
   "cell_type": "code",
   "execution_count": 78,
   "metadata": {},
   "outputs": [
    {
     "name": "stdout",
     "output_type": "stream",
     "text": [
      "9 19 1458 12349\n"
     ]
    }
   ],
   "source": [
    "from sklearn.metrics import confusion_matrix\n",
    "\n",
    "tn, fp, fn, tp = confusion_matrix(y_test, y_test_predict).ravel()\n",
    "print(tp, fp, fn, tn)  # 1 1 1 1\n",
    "\n",
    "TPR=tp/(tp+fn)\n",
    "FPR=fp/(fp+tn)\n",
    "TNR=tn/(fp+tn)"
   ]
  },
  {
   "cell_type": "code",
   "execution_count": 79,
   "metadata": {},
   "outputs": [
    {
     "name": "stdout",
     "output_type": "stream",
     "text": [
      "Accuracy is 0.893\n",
      "Precision is 0.321\n",
      "Recall is 0.006\n",
      "AUC is 0.502\n",
      "TPR is 0.006\n",
      "FPR is 0.002\n",
      "TNR is 0.998\n"
     ]
    }
   ],
   "source": [
    "print(\"Accuracy is {0:.3f}\".format(accuracy_score(y_test, y_test_predict)))\n",
    "print(\"Precision is {0:.3f}\".format(precision_score(y_test, y_test_predict)))\n",
    "print(\"Recall is {0:.3f}\".format(recall_score(y_test, y_test_predict)))\n",
    "print(\"AUC is {0:.3f}\".format(roc_auc_score(y_test, y_test_predict)))\n",
    "print(\"TPR is {0:.3f}\".format(TPR))\n",
    "print(\"FPR is {0:.3f}\".format(FPR))\n",
    "print(\"TNR is {0:.3f}\".format(TNR))"
   ]
  },
  {
   "cell_type": "code",
   "execution_count": 80,
   "metadata": {},
   "outputs": [],
   "source": [
    "accuracy_rf_en = accuracy_score(y_test, y_test_predict)\n",
    "precision_rf_en = precision_score(y_test, y_test_predict)\n",
    "recall_rf_en = recall_score(y_test, y_test_predict)\n",
    "auc_rf_en = roc_auc_score(y_test, y_test_predict)\n",
    "\n",
    "TPR_rf_en=TPR\n",
    "FPR_rf_en=FPR\n",
    "TNR_rf_en=TNR"
   ]
  },
  {
   "cell_type": "code",
   "execution_count": 81,
   "metadata": {},
   "outputs": [
    {
     "data": {
      "image/png": "[encoded data removed]",
      "text/plain": [
       "<Figure size 720x432 with 1 Axes>"
      ]
     },
     "metadata": {
      "needs_background": "light"
     },
     "output_type": "display_data"
    }
   ],
   "source": [
    "# Create list of top most features based on importance\n",
    "feature_names = X_train.columns\n",
    "feature_imports = rf_en.feature_importances_\n",
    "most_imp_features = pd.DataFrame([f for f in zip(feature_names,feature_imports)], columns=[\"Feature\", \"Importance\"]).nlargest(10, \"Importance\")\n",
    "most_imp_features.sort_values(by=\"Importance\", inplace=True)\n",
    "plt.figure(figsize=(10,6))\n",
    "plt.barh(range(len(most_imp_features)), most_imp_features.Importance, align='center', alpha=0.8)\n",
    "plt.yticks(range(len(most_imp_features)), most_imp_features.Feature, fontsize=14)\n",
    "plt.xlabel('Importance')\n",
    "plt.title('Most important features - Random Forest (entropy)')\n",
    "plt.show()"
   ]
  }
 ],
 "metadata": {
  "kernelspec": {
   "display_name": "Python 3",
   "language": "python",
   "name": "python3"
  },
  "language_info": {
   "codemirror_mode": {
    "name": "ipython",
    "version": 3
   },
   "file_extension": ".py",
   "mimetype": "text/x-python",
   "name": "python",
   "nbconvert_exporter": "python",
   "pygments_lexer": "ipython3",
   "version": "3.7.3"
  }
 },
 "nbformat": 4,
 "nbformat_minor": 2
}
