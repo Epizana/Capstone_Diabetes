{
 "cells": [
  {
   "cell_type": "code",
   "execution_count": 1,
   "metadata": {},
   "outputs": [
    {
     "name": "stderr",
     "output_type": "stream",
     "text": [
      "C:\\Users\\csong\\Anaconda3\\lib\\site-packages\\sklearn\\ensemble\\weight_boosting.py:29: DeprecationWarning: numpy.core.umath_tests is an internal NumPy module and should not be imported. It will be removed in a future NumPy release.\n",
      "  from numpy.core.umath_tests import inner1d\n"
     ]
    }
   ],
   "source": [
    "import matplotlib.pyplot as plt\n",
    "from sklearn import linear_model\n",
    "import numpy as np\n",
    "import sklearn.ensemble\n",
    "from sklearn.metrics import mean_squared_error, r2_score\n",
    "from sklearn.feature_extraction import DictVectorizer\n",
    "import pandas as pd\n",
    "# import eli5\n",
    "# from eli5.sklearn import PermutationImportance\n",
    "\n",
    "%matplotlib inline"
   ]
  },
  {
   "cell_type": "code",
   "execution_count": 2,
   "metadata": {},
   "outputs": [],
   "source": [
    "# machine learning\n",
    "import warnings\n",
    "\n",
    "from sklearn.model_selection import cross_val_score, train_test_split, GridSearchCV, RandomizedSearchCV\n",
    "from sklearn.metrics import log_loss, accuracy_score, mean_squared_error, r2_score, precision_score, recall_score, roc_auc_score\n",
    "from sklearn.metrics import classification_report\n",
    "from  sklearn.metrics import precision_recall_fscore_support\n",
    "from sklearn.ensemble import RandomForestClassifier, AdaBoostClassifier, GradientBoostingClassifier, GradientBoostingRegressor\n",
    "from sklearn.neighbors import KNeighborsClassifier\n",
    "from sklearn.linear_model import SGDClassifier\n",
    "from sklearn.tree import DecisionTreeClassifier\n",
    "from sklearn.naive_bayes import GaussianNB\n",
    "from sklearn.discriminant_analysis import LinearDiscriminantAnalysis, QuadraticDiscriminantAnalysis\n",
    "from boruta import BorutaPy\n",
    "from xgboost import XGBClassifier, XGBRanker\n",
    "from scipy.stats import skew\n",
    "\n",
    "\n",
    "# print(__doc__)\n",
    "\n",
    "# Definitions\n",
    "pd.set_option('display.float_format', lambda x: '%.3f' % x)\n",
    "%matplotlib inline\n",
    "warnings.filterwarnings('ignore')"
   ]
  },
  {
   "cell_type": "code",
   "execution_count": 3,
   "metadata": {},
   "outputs": [
    {
     "name": "stdout",
     "output_type": "stream",
     "text": [
      "Dataset: Unique- Drop Patient encounter ID\n",
      "The shape of the unique train dataset (55815, 94)\n",
      "The shape of the unique test dataset  (22049, 94) \n"
     ]
    }
   ],
   "source": [
    "## Load the data set that got dummified to process feature selection.\n",
    "train= pd.read_csv('./data/Xing/unique_train_cleaned_25.csv')\n",
    "test= pd.read_csv('./data/Xing/unique_test_cleaned_25.csv')\n",
    "\n",
    "X_train= train.drop(['readmitted','encounter_id','patient_nbr'], axis=1)\n",
    "y_train= train['readmitted']\n",
    "\n",
    "\n",
    "\n",
    "X_test = test.drop(['readmitted','encounter_id','patient_nbr'], axis=1)\n",
    "y_test = test['readmitted']\n",
    "\n",
    "\n",
    "print(\"Dataset: Unique- Drop Patient encounter ID\")\n",
    "print('The shape of the unique train dataset {}'.format(train.shape))\n",
    "print('The shape of the unique test dataset  {} '.format(test.shape))"
   ]
  },
  {
   "cell_type": "markdown",
   "metadata": {},
   "source": [
    "# Logistic Regression"
   ]
  },
  {
   "cell_type": "code",
   "execution_count": 4,
   "metadata": {},
   "outputs": [
    {
     "name": "stdout",
     "output_type": "stream",
     "text": [
      "Train set Score: 91.93%\n",
      "Test Set score : 90.14%\n"
     ]
    }
   ],
   "source": [
    "from sklearn.model_selection import train_test_split\n",
    "from sklearn.linear_model import LogisticRegression\n",
    "from sklearn.model_selection import cross_val_score\n",
    "\n",
    "logreg = LogisticRegression(fit_intercept=True, penalty='l1')\n",
    "logreg.fit(X_train, y_train)\n",
    "print(\"Train set Score: {:.2%}\".format(logreg.score(X_train, y_train)))\n",
    "print(\"Test Set score : {:.2%}\".format(logreg.score(X_test, y_test)))"
   ]
  },
  {
   "cell_type": "markdown",
   "metadata": {},
   "source": [
    "- Highly overfitting."
   ]
  },
  {
   "cell_type": "code",
   "execution_count": 5,
   "metadata": {},
   "outputs": [],
   "source": [
    "y_test_predict = logreg.predict(X_test)"
   ]
  },
  {
   "cell_type": "code",
   "execution_count": 6,
   "metadata": {},
   "outputs": [
    {
     "data": {
      "text/html": [
       "<div>\n",
       "<style scoped>\n",
       "    .dataframe tbody tr th:only-of-type {\n",
       "        vertical-align: middle;\n",
       "    }\n",
       "\n",
       "    .dataframe tbody tr th {\n",
       "        vertical-align: top;\n",
       "    }\n",
       "\n",
       "    .dataframe thead th {\n",
       "        text-align: right;\n",
       "    }\n",
       "</style>\n",
       "<table border=\"1\" class=\"dataframe\">\n",
       "  <thead>\n",
       "    <tr style=\"text-align: right;\">\n",
       "      <th>Predict</th>\n",
       "      <th>0</th>\n",
       "      <th>1</th>\n",
       "      <th>All</th>\n",
       "    </tr>\n",
       "    <tr>\n",
       "      <th>Actual</th>\n",
       "      <th></th>\n",
       "      <th></th>\n",
       "      <th></th>\n",
       "    </tr>\n",
       "  </thead>\n",
       "  <tbody>\n",
       "    <tr>\n",
       "      <th>0</th>\n",
       "      <td>19854</td>\n",
       "      <td>26</td>\n",
       "      <td>19880</td>\n",
       "    </tr>\n",
       "    <tr>\n",
       "      <th>1</th>\n",
       "      <td>2148</td>\n",
       "      <td>21</td>\n",
       "      <td>2169</td>\n",
       "    </tr>\n",
       "    <tr>\n",
       "      <th>All</th>\n",
       "      <td>22002</td>\n",
       "      <td>47</td>\n",
       "      <td>22049</td>\n",
       "    </tr>\n",
       "  </tbody>\n",
       "</table>\n",
       "</div>"
      ],
      "text/plain": [
       "Predict      0   1    All\n",
       "Actual                   \n",
       "0        19854  26  19880\n",
       "1         2148  21   2169\n",
       "All      22002  47  22049"
      ]
     },
     "execution_count": 6,
     "metadata": {},
     "output_type": "execute_result"
    }
   ],
   "source": [
    "pd.crosstab(pd.Series(y_test, name = 'Actual'), pd.Series(y_test_predict, name = 'Predict'), margins = True)"
   ]
  },
  {
   "cell_type": "code",
   "execution_count": 7,
   "metadata": {},
   "outputs": [
    {
     "name": "stdout",
     "output_type": "stream",
     "text": [
      "             precision    recall  f1-score   support\n",
      "\n",
      "          0       0.90      1.00      0.95     19880\n",
      "          1       0.45      0.01      0.02      2169\n",
      "\n",
      "avg / total       0.86      0.90      0.86     22049\n",
      "\n"
     ]
    }
   ],
   "source": [
    "# Print Classification Report\n",
    "report=classification_report(y_test, y_test_predict)\n",
    "print(report)"
   ]
  },
  {
   "cell_type": "code",
   "execution_count": 8,
   "metadata": {},
   "outputs": [
    {
     "name": "stdout",
     "output_type": "stream",
     "text": [
      "19854 26 2148 21\n"
     ]
    }
   ],
   "source": [
    "from sklearn.metrics import confusion_matrix\n",
    "\n",
    "tp, fp, fn, tn = confusion_matrix(y_test, y_test_predict).ravel()\n",
    "print(tp, fp, fn, tn)  # 1 1 1 1\n",
    "\n",
    "TPR=tp/(tp+fn)\n",
    "FPR=fp/(fp+tn)\n",
    "TNR=tn/(fp+tn)"
   ]
  },
  {
   "cell_type": "code",
   "execution_count": 9,
   "metadata": {},
   "outputs": [
    {
     "name": "stdout",
     "output_type": "stream",
     "text": [
      "Accuracy is 0.901\n",
      "Precision is 0.447\n",
      "Recall is 0.010\n",
      "AUC is 0.504\n",
      "TPR is 0.902\n",
      "FPR is 0.553\n",
      "TNR is 0.447\n"
     ]
    }
   ],
   "source": [
    "from sklearn.metrics import accuracy_score, precision_score, recall_score\n",
    "print(\"Accuracy is {0:.3f}\".format(accuracy_score(y_test, y_test_predict)))\n",
    "print(\"Precision is {0:.3f}\".format(precision_score(y_test, y_test_predict)))\n",
    "print(\"Recall is {0:.3f}\".format(recall_score(y_test, y_test_predict)))\n",
    "print(\"AUC is {0:.3f}\".format(roc_auc_score(y_test, y_test_predict)))\n",
    "print(\"TPR is {0:.3f}\".format(TPR))\n",
    "print(\"FPR is {0:.3f}\".format(FPR))\n",
    "print(\"TNR is {0:.3f}\".format(TNR))"
   ]
  },
  {
   "cell_type": "code",
   "execution_count": 10,
   "metadata": {},
   "outputs": [],
   "source": [
    "accuracy_logreg = accuracy_score(y_test, y_test_predict)\n",
    "precision_logreg = precision_score(y_test, y_test_predict)\n",
    "recall_logreg = recall_score(y_test, y_test_predict)\n",
    "auc_logreg = roc_auc_score(y_test, y_test_predict)\n",
    "TPR_logreg=TPR\n",
    "FPR_logreg=FPR\n",
    "TNR_logreg=TNR"
   ]
  },
  {
   "cell_type": "code",
   "execution_count": 11,
   "metadata": {},
   "outputs": [],
   "source": [
    "coef_base=pd.DataFrame(zip(X_train.columns, np.transpose(logreg.coef_)),columns=['Features','Coefficients']).sort_values(by='Coefficients',ascending=False)"
   ]
  },
  {
   "cell_type": "code",
   "execution_count": 12,
   "metadata": {},
   "outputs": [
    {
     "data": {
      "text/html": [
       "<div>\n",
       "<style scoped>\n",
       "    .dataframe tbody tr th:only-of-type {\n",
       "        vertical-align: middle;\n",
       "    }\n",
       "\n",
       "    .dataframe tbody tr th {\n",
       "        vertical-align: top;\n",
       "    }\n",
       "\n",
       "    .dataframe thead th {\n",
       "        text-align: right;\n",
       "    }\n",
       "</style>\n",
       "<table border=\"1\" class=\"dataframe\">\n",
       "  <thead>\n",
       "    <tr style=\"text-align: right;\">\n",
       "      <th></th>\n",
       "      <th>Features</th>\n",
       "      <th>Coefficients</th>\n",
       "    </tr>\n",
       "  </thead>\n",
       "  <tbody>\n",
       "    <tr>\n",
       "      <th>72</th>\n",
       "      <td>acarbose_Up</td>\n",
       "      <td>[1.1165756241111715]</td>\n",
       "    </tr>\n",
       "    <tr>\n",
       "      <th>69</th>\n",
       "      <td>rosiglitazone_Up</td>\n",
       "      <td>[0.40706069045708115]</td>\n",
       "    </tr>\n",
       "    <tr>\n",
       "      <th>21</th>\n",
       "      <td>discharge_disposition_id_hospital</td>\n",
       "      <td>[0.34509955112384827]</td>\n",
       "    </tr>\n",
       "    <tr>\n",
       "      <th>7</th>\n",
       "      <td>number_inpatient</td>\n",
       "      <td>[0.33983444682365643]</td>\n",
       "    </tr>\n",
       "    <tr>\n",
       "      <th>90</th>\n",
       "      <td>diabetesMed_Yes</td>\n",
       "      <td>[0.3027352641662136]</td>\n",
       "    </tr>\n",
       "    <tr>\n",
       "      <th>61</th>\n",
       "      <td>glyburide_Steady</td>\n",
       "      <td>[0.1956688771637256]</td>\n",
       "    </tr>\n",
       "    <tr>\n",
       "      <th>37</th>\n",
       "      <td>max_glu_serum_Norm</td>\n",
       "      <td>[0.17802889340747582]</td>\n",
       "    </tr>\n",
       "    <tr>\n",
       "      <th>46</th>\n",
       "      <td>repaglinide_Up</td>\n",
       "      <td>[0.1731848531412619]</td>\n",
       "    </tr>\n",
       "    <tr>\n",
       "      <th>17</th>\n",
       "      <td>admission_type_id_na</td>\n",
       "      <td>[0.14816870054877473]</td>\n",
       "    </tr>\n",
       "    <tr>\n",
       "      <th>39</th>\n",
       "      <td>A1Cresult_None</td>\n",
       "      <td>[0.13182376993250652]</td>\n",
       "    </tr>\n",
       "  </tbody>\n",
       "</table>\n",
       "</div>"
      ],
      "text/plain": [
       "                             Features           Coefficients\n",
       "72                        acarbose_Up   [1.1165756241111715]\n",
       "69                   rosiglitazone_Up  [0.40706069045708115]\n",
       "21  discharge_disposition_id_hospital  [0.34509955112384827]\n",
       "7                    number_inpatient  [0.33983444682365643]\n",
       "90                    diabetesMed_Yes   [0.3027352641662136]\n",
       "61                   glyburide_Steady   [0.1956688771637256]\n",
       "37                 max_glu_serum_Norm  [0.17802889340747582]\n",
       "46                     repaglinide_Up   [0.1731848531412619]\n",
       "17               admission_type_id_na  [0.14816870054877473]\n",
       "39                     A1Cresult_None  [0.13182376993250652]"
      ]
     },
     "execution_count": 12,
     "metadata": {},
     "output_type": "execute_result"
    }
   ],
   "source": [
    "coef_base.head(10)"
   ]
  },
  {
   "cell_type": "markdown",
   "metadata": {},
   "source": [
    "#### Summary( Base Logistic Regression):\n",
    "  - Classification Error Type II --> The data distribution has highly unbalance between among the train dataset. Thus, we apply SMOTE."
   ]
  },
  {
   "cell_type": "markdown",
   "metadata": {},
   "source": [
    "#### Apply SMOTE"
   ]
  },
  {
   "cell_type": "code",
   "execution_count": 13,
   "metadata": {},
   "outputs": [
    {
     "name": "stdout",
     "output_type": "stream",
     "text": [
      "Original dataset shape Counter({0: 51329, 1: 4486})\n",
      "New dataset shape Counter({0: 51329, 1: 51329})\n"
     ]
    }
   ],
   "source": [
    "# Data balancing applied using SMOTE\n",
    "from imblearn.over_sampling import SMOTE\n",
    "\n",
    "from collections import Counter\n",
    "print('Original dataset shape {}'.format(Counter(y_train)))\n",
    "sm = SMOTE(random_state=20)\n",
    "X_train_SMOTE, y_train_SMOTE = sm.fit_sample(X_train, y_train)\n",
    "print('New dataset shape {}'.format(Counter(y_train_SMOTE)))"
   ]
  },
  {
   "cell_type": "code",
   "execution_count": 14,
   "metadata": {},
   "outputs": [],
   "source": [
    "#Put the new balanced dataset (Oversampled with SMOTE) in the dataframe\n",
    "X_train_SMOTE = pd.DataFrame(X_train_SMOTE, columns = list(X_train.columns))"
   ]
  },
  {
   "cell_type": "code",
   "execution_count": 15,
   "metadata": {},
   "outputs": [
    {
     "name": "stdout",
     "output_type": "stream",
     "text": [
      "Train set Score: 63.441%\n",
      "Test Set score : 63.069%\n"
     ]
    }
   ],
   "source": [
    "# Run the crossvalidation following by fit the SMOTE balanced data\n",
    "\n",
    "logreg = LogisticRegression(fit_intercept=True, penalty='l1')\n",
    "logreg.fit(X_train_SMOTE, y_train_SMOTE)\n",
    "print(\"Train set Score: {:.3%}\".format(logreg.score(X_train_SMOTE, y_train_SMOTE)))\n",
    "print(\"Test Set score : {:.3%}\".format(logreg.score(X_test, y_test)))"
   ]
  },
  {
   "cell_type": "code",
   "execution_count": 16,
   "metadata": {},
   "outputs": [],
   "source": [
    "# Check with the validation testset\n",
    "y_test_predict = logreg.predict(X_test)\n",
    "probability = logreg.predict_proba(X_test)"
   ]
  },
  {
   "cell_type": "code",
   "execution_count": 17,
   "metadata": {},
   "outputs": [
    {
     "data": {
      "text/html": [
       "<div>\n",
       "<style scoped>\n",
       "    .dataframe tbody tr th:only-of-type {\n",
       "        vertical-align: middle;\n",
       "    }\n",
       "\n",
       "    .dataframe tbody tr th {\n",
       "        vertical-align: top;\n",
       "    }\n",
       "\n",
       "    .dataframe thead th {\n",
       "        text-align: right;\n",
       "    }\n",
       "</style>\n",
       "<table border=\"1\" class=\"dataframe\">\n",
       "  <thead>\n",
       "    <tr style=\"text-align: right;\">\n",
       "      <th>Predict</th>\n",
       "      <th>0</th>\n",
       "      <th>1</th>\n",
       "      <th>All</th>\n",
       "    </tr>\n",
       "    <tr>\n",
       "      <th>Actual</th>\n",
       "      <th></th>\n",
       "      <th></th>\n",
       "      <th></th>\n",
       "    </tr>\n",
       "  </thead>\n",
       "  <tbody>\n",
       "    <tr>\n",
       "      <th>0</th>\n",
       "      <td>12726</td>\n",
       "      <td>7154</td>\n",
       "      <td>19880</td>\n",
       "    </tr>\n",
       "    <tr>\n",
       "      <th>1</th>\n",
       "      <td>989</td>\n",
       "      <td>1180</td>\n",
       "      <td>2169</td>\n",
       "    </tr>\n",
       "    <tr>\n",
       "      <th>All</th>\n",
       "      <td>13715</td>\n",
       "      <td>8334</td>\n",
       "      <td>22049</td>\n",
       "    </tr>\n",
       "  </tbody>\n",
       "</table>\n",
       "</div>"
      ],
      "text/plain": [
       "Predict      0     1    All\n",
       "Actual                     \n",
       "0        12726  7154  19880\n",
       "1          989  1180   2169\n",
       "All      13715  8334  22049"
      ]
     },
     "execution_count": 17,
     "metadata": {},
     "output_type": "execute_result"
    }
   ],
   "source": [
    "pd.crosstab(pd.Series(y_test, name = 'Actual'), pd.Series(y_test_predict, name = 'Predict'), margins = True)"
   ]
  },
  {
   "cell_type": "code",
   "execution_count": 18,
   "metadata": {},
   "outputs": [
    {
     "name": "stdout",
     "output_type": "stream",
     "text": [
      "             precision    recall  f1-score   support\n",
      "\n",
      "          0       0.93      0.64      0.76     19880\n",
      "          1       0.14      0.54      0.22      2169\n",
      "\n",
      "avg / total       0.85      0.63      0.71     22049\n",
      "\n"
     ]
    }
   ],
   "source": [
    "report=classification_report(y_test, y_test_predict)\n",
    "print(report)"
   ]
  },
  {
   "cell_type": "code",
   "execution_count": 19,
   "metadata": {},
   "outputs": [
    {
     "name": "stdout",
     "output_type": "stream",
     "text": [
      "12726 7154 989 1180\n"
     ]
    }
   ],
   "source": [
    "from sklearn.metrics import confusion_matrix\n",
    "\n",
    "tp, fp, fn, tn = confusion_matrix(y_test, y_test_predict).ravel()\n",
    "print(tp, fp, fn, tn)  # 1 1 1 1\n",
    "\n",
    "TPR=tp/(tp+fn)\n",
    "FPR=fp/(fp+tn)\n",
    "TNR=tn/(fp+tn)"
   ]
  },
  {
   "cell_type": "code",
   "execution_count": 20,
   "metadata": {},
   "outputs": [
    {
     "name": "stdout",
     "output_type": "stream",
     "text": [
      "Accuracy is 0.631\n",
      "Precision is 0.142\n",
      "Recall is 0.544\n",
      "AUC is 0.592\n",
      "TPR is 0.928\n",
      "FPR is 0.858\n",
      "TNR is 0.142\n"
     ]
    }
   ],
   "source": [
    "from sklearn.metrics import accuracy_score, precision_score, recall_score\n",
    "print(\"Accuracy is {0:.3f}\".format(accuracy_score(y_test, y_test_predict)))\n",
    "print(\"Precision is {0:.3f}\".format(precision_score(y_test, y_test_predict)))\n",
    "print(\"Recall is {0:.3f}\".format(recall_score(y_test, y_test_predict)))\n",
    "print(\"AUC is {0:.3f}\".format(roc_auc_score(y_test, y_test_predict)))\n",
    "print(\"TPR is {0:.3f}\".format(TPR))\n",
    "print(\"FPR is {0:.3f}\".format(FPR))\n",
    "print(\"TNR is {0:.3f}\".format(TNR))"
   ]
  },
  {
   "cell_type": "code",
   "execution_count": 21,
   "metadata": {},
   "outputs": [],
   "source": [
    "accuracy_logreg = accuracy_score(y_test, y_test_predict)\n",
    "precision_logreg = precision_score(y_test, y_test_predict)\n",
    "recall_logreg = recall_score(y_test, y_test_predict)\n",
    "auc_logreg = roc_auc_score(y_test, y_test_predict)\n",
    "TPR_logreg=TPR\n",
    "FPR_logreg=FPR\n",
    "TNR_logreg=TNR"
   ]
  },
  {
   "cell_type": "markdown",
   "metadata": {},
   "source": [
    "#### Apply 'Class_weight' = balanced"
   ]
  },
  {
   "cell_type": "code",
   "execution_count": 22,
   "metadata": {},
   "outputs": [
    {
     "name": "stdout",
     "output_type": "stream",
     "text": [
      "Train set Score: 63.441%\n",
      "Test Set score : 63.078%\n"
     ]
    }
   ],
   "source": [
    "# Turn on Class-weight balance\n",
    "\n",
    "logreg = LogisticRegression(fit_intercept=True, penalty='l1',class_weight='balanced')\n",
    "logreg.fit(X_train_SMOTE, y_train_SMOTE)\n",
    "print(\"Train set Score: {:.3%}\".format(logreg.score(X_train_SMOTE, y_train_SMOTE)))\n",
    "print(\"Test Set score : {:.3%}\".format(logreg.score(X_test, y_test)))"
   ]
  },
  {
   "cell_type": "code",
   "execution_count": 23,
   "metadata": {},
   "outputs": [],
   "source": [
    "# Check with the validation testset\n",
    "y_test_predict = logreg.predict(X_test)\n",
    "probability = logreg.predict_proba(X_test)"
   ]
  },
  {
   "cell_type": "code",
   "execution_count": 24,
   "metadata": {},
   "outputs": [
    {
     "data": {
      "text/html": [
       "<div>\n",
       "<style scoped>\n",
       "    .dataframe tbody tr th:only-of-type {\n",
       "        vertical-align: middle;\n",
       "    }\n",
       "\n",
       "    .dataframe tbody tr th {\n",
       "        vertical-align: top;\n",
       "    }\n",
       "\n",
       "    .dataframe thead th {\n",
       "        text-align: right;\n",
       "    }\n",
       "</style>\n",
       "<table border=\"1\" class=\"dataframe\">\n",
       "  <thead>\n",
       "    <tr style=\"text-align: right;\">\n",
       "      <th>Predict</th>\n",
       "      <th>0</th>\n",
       "      <th>1</th>\n",
       "      <th>All</th>\n",
       "    </tr>\n",
       "    <tr>\n",
       "      <th>Actual</th>\n",
       "      <th></th>\n",
       "      <th></th>\n",
       "      <th></th>\n",
       "    </tr>\n",
       "  </thead>\n",
       "  <tbody>\n",
       "    <tr>\n",
       "      <th>0</th>\n",
       "      <td>12728</td>\n",
       "      <td>7152</td>\n",
       "      <td>19880</td>\n",
       "    </tr>\n",
       "    <tr>\n",
       "      <th>1</th>\n",
       "      <td>989</td>\n",
       "      <td>1180</td>\n",
       "      <td>2169</td>\n",
       "    </tr>\n",
       "    <tr>\n",
       "      <th>All</th>\n",
       "      <td>13717</td>\n",
       "      <td>8332</td>\n",
       "      <td>22049</td>\n",
       "    </tr>\n",
       "  </tbody>\n",
       "</table>\n",
       "</div>"
      ],
      "text/plain": [
       "Predict      0     1    All\n",
       "Actual                     \n",
       "0        12728  7152  19880\n",
       "1          989  1180   2169\n",
       "All      13717  8332  22049"
      ]
     },
     "execution_count": 24,
     "metadata": {},
     "output_type": "execute_result"
    }
   ],
   "source": [
    "pd.crosstab(pd.Series(y_test, name = 'Actual'), pd.Series(y_test_predict, name = 'Predict'), margins = True)"
   ]
  },
  {
   "cell_type": "code",
   "execution_count": 25,
   "metadata": {},
   "outputs": [
    {
     "name": "stdout",
     "output_type": "stream",
     "text": [
      "             precision    recall  f1-score   support\n",
      "\n",
      "          0       0.93      0.64      0.76     19880\n",
      "          1       0.14      0.54      0.22      2169\n",
      "\n",
      "avg / total       0.85      0.63      0.71     22049\n",
      "\n"
     ]
    }
   ],
   "source": [
    "report=classification_report(y_test, y_test_predict)\n",
    "print(report)"
   ]
  },
  {
   "cell_type": "code",
   "execution_count": 26,
   "metadata": {},
   "outputs": [
    {
     "name": "stdout",
     "output_type": "stream",
     "text": [
      "12728 7152 989 1180\n"
     ]
    }
   ],
   "source": [
    "from sklearn.metrics import confusion_matrix\n",
    "\n",
    "tp, fp, fn, tn = confusion_matrix(y_test, y_test_predict).ravel()\n",
    "print(tp, fp, fn, tn)  # 1 1 1 1\n",
    "\n",
    "TPR=tp/(tp+fn)\n",
    "FPR=fp/(fp+tn)\n",
    "TNR=tn/(fp+tn)"
   ]
  },
  {
   "cell_type": "code",
   "execution_count": 27,
   "metadata": {},
   "outputs": [
    {
     "name": "stdout",
     "output_type": "stream",
     "text": [
      "Accuracy is 0.631\n",
      "Precision is 0.142\n",
      "Recall is 0.544\n",
      "AUC is 0.592\n",
      "TPR is 0.928\n",
      "FPR is 0.858\n",
      "TNR is 0.142\n"
     ]
    }
   ],
   "source": [
    "from sklearn.metrics import accuracy_score, precision_score, recall_score\n",
    "print(\"Accuracy is {0:.3f}\".format(accuracy_score(y_test, y_test_predict)))\n",
    "print(\"Precision is {0:.3f}\".format(precision_score(y_test, y_test_predict)))\n",
    "print(\"Recall is {0:.3f}\".format(recall_score(y_test, y_test_predict)))\n",
    "print(\"AUC is {0:.3f}\".format(roc_auc_score(y_test, y_test_predict)))\n",
    "print(\"TPR is {0:.3f}\".format(TPR))\n",
    "print(\"FPR is {0:.3f}\".format(FPR))\n",
    "print(\"TNR is {0:.3f}\".format(TNR))"
   ]
  },
  {
   "cell_type": "code",
   "execution_count": 28,
   "metadata": {},
   "outputs": [],
   "source": [
    "accuracy_logreg = accuracy_score(y_test, y_test_predict)\n",
    "precision_logreg = precision_score(y_test, y_test_predict)\n",
    "recall_logreg = recall_score(y_test, y_test_predict)\n",
    "auc_logreg = roc_auc_score(y_test, y_test_predict)\n",
    "TPR_logreg=TPR\n",
    "FPR_logreg=FPR\n",
    "TNR_logreg=TNR"
   ]
  },
  {
   "cell_type": "code",
   "execution_count": 29,
   "metadata": {},
   "outputs": [],
   "source": [
    "coef_SMOTE=pd.DataFrame(zip(X_train_SMOTE.columns, np.transpose(logreg.coef_)),columns=['Features','Coefficients']).sort_values(by='Coefficients',ascending=False)"
   ]
  },
  {
   "cell_type": "code",
   "execution_count": 30,
   "metadata": {},
   "outputs": [
    {
     "data": {
      "text/html": [
       "<div>\n",
       "<style scoped>\n",
       "    .dataframe tbody tr th:only-of-type {\n",
       "        vertical-align: middle;\n",
       "    }\n",
       "\n",
       "    .dataframe tbody tr th {\n",
       "        vertical-align: top;\n",
       "    }\n",
       "\n",
       "    .dataframe thead th {\n",
       "        text-align: right;\n",
       "    }\n",
       "</style>\n",
       "<table border=\"1\" class=\"dataframe\">\n",
       "  <thead>\n",
       "    <tr style=\"text-align: right;\">\n",
       "      <th></th>\n",
       "      <th>Features</th>\n",
       "      <th>Coefficients</th>\n",
       "    </tr>\n",
       "  </thead>\n",
       "  <tbody>\n",
       "    <tr>\n",
       "      <th>72</th>\n",
       "      <td>acarbose_Up</td>\n",
       "      <td>[3.1922356432534857]</td>\n",
       "    </tr>\n",
       "    <tr>\n",
       "      <th>69</th>\n",
       "      <td>rosiglitazone_Up</td>\n",
       "      <td>[1.0489523153325173]</td>\n",
       "    </tr>\n",
       "    <tr>\n",
       "      <th>68</th>\n",
       "      <td>rosiglitazone_Steady</td>\n",
       "      <td>[0.9898040304791632]</td>\n",
       "    </tr>\n",
       "    <tr>\n",
       "      <th>46</th>\n",
       "      <td>repaglinide_Up</td>\n",
       "      <td>[0.6189378492556349]</td>\n",
       "    </tr>\n",
       "    <tr>\n",
       "      <th>45</th>\n",
       "      <td>repaglinide_Steady</td>\n",
       "      <td>[0.6009170439135415]</td>\n",
       "    </tr>\n",
       "    <tr>\n",
       "      <th>67</th>\n",
       "      <td>rosiglitazone_No</td>\n",
       "      <td>[0.5743764427969822]</td>\n",
       "    </tr>\n",
       "    <tr>\n",
       "      <th>90</th>\n",
       "      <td>diabetesMed_Yes</td>\n",
       "      <td>[0.5078628577201377]</td>\n",
       "    </tr>\n",
       "    <tr>\n",
       "      <th>50</th>\n",
       "      <td>chlorpropamide_No</td>\n",
       "      <td>[0.5014387586105011]</td>\n",
       "    </tr>\n",
       "    <tr>\n",
       "      <th>61</th>\n",
       "      <td>glyburide_Steady</td>\n",
       "      <td>[0.4707528554935813]</td>\n",
       "    </tr>\n",
       "    <tr>\n",
       "      <th>7</th>\n",
       "      <td>number_inpatient</td>\n",
       "      <td>[0.42083825374513034]</td>\n",
       "    </tr>\n",
       "  </tbody>\n",
       "</table>\n",
       "</div>"
      ],
      "text/plain": [
       "                Features           Coefficients\n",
       "72           acarbose_Up   [3.1922356432534857]\n",
       "69      rosiglitazone_Up   [1.0489523153325173]\n",
       "68  rosiglitazone_Steady   [0.9898040304791632]\n",
       "46        repaglinide_Up   [0.6189378492556349]\n",
       "45    repaglinide_Steady   [0.6009170439135415]\n",
       "67      rosiglitazone_No   [0.5743764427969822]\n",
       "90       diabetesMed_Yes   [0.5078628577201377]\n",
       "50     chlorpropamide_No   [0.5014387586105011]\n",
       "61      glyburide_Steady   [0.4707528554935813]\n",
       "7       number_inpatient  [0.42083825374513034]"
      ]
     },
     "execution_count": 30,
     "metadata": {},
     "output_type": "execute_result"
    }
   ],
   "source": [
    "coef_SMOTE.head(10)"
   ]
  },
  {
   "cell_type": "markdown",
   "metadata": {},
   "source": [
    "#### Apply RandomizedSearch"
   ]
  },
  {
   "cell_type": "code",
   "execution_count": 31,
   "metadata": {},
   "outputs": [
    {
     "data": {
      "text/plain": [
       "{'C': 2.4942547871438894, 'penalty': 'l2'}"
      ]
     },
     "execution_count": 31,
     "metadata": {},
     "output_type": "execute_result"
    }
   ],
   "source": [
    "# Apply randomizedsearch to find the optimum \"C\"\n",
    "\n",
    "from sklearn.linear_model import LogisticRegression\n",
    "from sklearn.model_selection import RandomizedSearchCV\n",
    "from scipy.stats import uniform\n",
    "\n",
    "logistic = LogisticRegression(solver='saga', tol=1e-2, max_iter=200,\n",
    "                              random_state=0)\n",
    "distributions = dict(C=uniform(loc=0, scale=4),\n",
    "                     penalty=['l2', 'l1'])\n",
    "clf = RandomizedSearchCV(logistic, distributions, random_state=0)\n",
    "search = clf.fit(X_train_SMOTE, y_train_SMOTE)\n",
    "search.best_params_\n"
   ]
  },
  {
   "cell_type": "code",
   "execution_count": 32,
   "metadata": {},
   "outputs": [
    {
     "name": "stdout",
     "output_type": "stream",
     "text": [
      "Train set Score: 63.446%\n",
      "Test Set score : 63.096%\n"
     ]
    }
   ],
   "source": [
    "logreg = LogisticRegression(fit_intercept=True, penalty='l1',class_weight='balanced',C=2.195254015709299)\n",
    "logreg.fit(X_train_SMOTE, y_train_SMOTE)\n",
    "print(\"Train set Score: {:.3%}\".format(logreg.score(X_train_SMOTE, y_train_SMOTE)))\n",
    "print(\"Test Set score : {:.3%}\".format(logreg.score(X_test, y_test)))"
   ]
  },
  {
   "cell_type": "code",
   "execution_count": 33,
   "metadata": {},
   "outputs": [],
   "source": [
    "# Check with the validation testset\n",
    "y_test_predict = logreg.predict(X_test)\n",
    "probability = logreg.predict_proba(X_test)"
   ]
  },
  {
   "cell_type": "code",
   "execution_count": 34,
   "metadata": {},
   "outputs": [
    {
     "data": {
      "text/html": [
       "<div>\n",
       "<style scoped>\n",
       "    .dataframe tbody tr th:only-of-type {\n",
       "        vertical-align: middle;\n",
       "    }\n",
       "\n",
       "    .dataframe tbody tr th {\n",
       "        vertical-align: top;\n",
       "    }\n",
       "\n",
       "    .dataframe thead th {\n",
       "        text-align: right;\n",
       "    }\n",
       "</style>\n",
       "<table border=\"1\" class=\"dataframe\">\n",
       "  <thead>\n",
       "    <tr style=\"text-align: right;\">\n",
       "      <th>Predict</th>\n",
       "      <th>0</th>\n",
       "      <th>1</th>\n",
       "      <th>All</th>\n",
       "    </tr>\n",
       "    <tr>\n",
       "      <th>Actual</th>\n",
       "      <th></th>\n",
       "      <th></th>\n",
       "      <th></th>\n",
       "    </tr>\n",
       "  </thead>\n",
       "  <tbody>\n",
       "    <tr>\n",
       "      <th>0</th>\n",
       "      <td>12732</td>\n",
       "      <td>7148</td>\n",
       "      <td>19880</td>\n",
       "    </tr>\n",
       "    <tr>\n",
       "      <th>1</th>\n",
       "      <td>989</td>\n",
       "      <td>1180</td>\n",
       "      <td>2169</td>\n",
       "    </tr>\n",
       "    <tr>\n",
       "      <th>All</th>\n",
       "      <td>13721</td>\n",
       "      <td>8328</td>\n",
       "      <td>22049</td>\n",
       "    </tr>\n",
       "  </tbody>\n",
       "</table>\n",
       "</div>"
      ],
      "text/plain": [
       "Predict      0     1    All\n",
       "Actual                     \n",
       "0        12732  7148  19880\n",
       "1          989  1180   2169\n",
       "All      13721  8328  22049"
      ]
     },
     "execution_count": 34,
     "metadata": {},
     "output_type": "execute_result"
    }
   ],
   "source": [
    "pd.crosstab(pd.Series(y_test, name = 'Actual'), pd.Series(y_test_predict, name = 'Predict'), margins = True)"
   ]
  },
  {
   "cell_type": "code",
   "execution_count": 35,
   "metadata": {},
   "outputs": [
    {
     "name": "stdout",
     "output_type": "stream",
     "text": [
      "             precision    recall  f1-score   support\n",
      "\n",
      "          0       0.93      0.64      0.76     19880\n",
      "          1       0.14      0.54      0.22      2169\n",
      "\n",
      "avg / total       0.85      0.63      0.71     22049\n",
      "\n"
     ]
    }
   ],
   "source": [
    "report=classification_report(y_test, y_test_predict)\n",
    "print(report)"
   ]
  },
  {
   "cell_type": "code",
   "execution_count": 36,
   "metadata": {},
   "outputs": [
    {
     "name": "stdout",
     "output_type": "stream",
     "text": [
      "12732 7148 989 1180\n"
     ]
    }
   ],
   "source": [
    "from sklearn.metrics import confusion_matrix\n",
    "\n",
    "tp, fp, fn, tn = confusion_matrix(y_test, y_test_predict).ravel()\n",
    "print(tp, fp, fn, tn)  # 1 1 1 1\n",
    "\n",
    "TPR=tp/(tp+fn)\n",
    "FPR=fp/(fp+tn)\n",
    "TNR=tn/(fp+tn)"
   ]
  },
  {
   "cell_type": "code",
   "execution_count": 37,
   "metadata": {},
   "outputs": [
    {
     "name": "stdout",
     "output_type": "stream",
     "text": [
      "Accuracy is 0.631\n",
      "Precision is 0.142\n",
      "Recall is 0.544\n",
      "AUC is 0.592\n",
      "TPR is 0.928\n",
      "FPR is 0.858\n",
      "TNR is 0.142\n"
     ]
    }
   ],
   "source": [
    "from sklearn.metrics import accuracy_score, precision_score, recall_score\n",
    "print(\"Accuracy is {0:.3f}\".format(accuracy_score(y_test, y_test_predict)))\n",
    "print(\"Precision is {0:.3f}\".format(precision_score(y_test, y_test_predict)))\n",
    "print(\"Recall is {0:.3f}\".format(recall_score(y_test, y_test_predict)))\n",
    "print(\"AUC is {0:.3f}\".format(roc_auc_score(y_test, y_test_predict)))\n",
    "print(\"TPR is {0:.3f}\".format(TPR))\n",
    "print(\"FPR is {0:.3f}\".format(FPR))\n",
    "print(\"TNR is {0:.3f}\".format(TNR))"
   ]
  },
  {
   "cell_type": "code",
   "execution_count": 38,
   "metadata": {},
   "outputs": [],
   "source": [
    "accuracy_logreg = accuracy_score(y_test, y_test_predict)\n",
    "precision_logreg = precision_score(y_test, y_test_predict)\n",
    "recall_logreg = recall_score(y_test, y_test_predict)\n",
    "auc_logreg = roc_auc_score(y_test, y_test_predict)\n",
    "TPR_logreg=TPR\n",
    "FPR_logreg=FPR\n",
    "TNR_logreg=TNR"
   ]
  },
  {
   "cell_type": "code",
   "execution_count": 39,
   "metadata": {},
   "outputs": [],
   "source": [
    "coef_random_search=pd.DataFrame(zip(X_train_SMOTE.columns, np.transpose(logreg.coef_)),columns=['Features','Coefficients']).sort_values(by='Coefficients',ascending=False)"
   ]
  },
  {
   "cell_type": "code",
   "execution_count": 40,
   "metadata": {},
   "outputs": [
    {
     "data": {
      "text/html": [
       "<div>\n",
       "<style scoped>\n",
       "    .dataframe tbody tr th:only-of-type {\n",
       "        vertical-align: middle;\n",
       "    }\n",
       "\n",
       "    .dataframe tbody tr th {\n",
       "        vertical-align: top;\n",
       "    }\n",
       "\n",
       "    .dataframe thead th {\n",
       "        text-align: right;\n",
       "    }\n",
       "</style>\n",
       "<table border=\"1\" class=\"dataframe\">\n",
       "  <thead>\n",
       "    <tr style=\"text-align: right;\">\n",
       "      <th></th>\n",
       "      <th>Features</th>\n",
       "      <th>Coefficients</th>\n",
       "    </tr>\n",
       "  </thead>\n",
       "  <tbody>\n",
       "    <tr>\n",
       "      <th>72</th>\n",
       "      <td>acarbose_Up</td>\n",
       "      <td>[3.695337667182958]</td>\n",
       "    </tr>\n",
       "    <tr>\n",
       "      <th>69</th>\n",
       "      <td>rosiglitazone_Up</td>\n",
       "      <td>[1.1767675352305853]</td>\n",
       "    </tr>\n",
       "    <tr>\n",
       "      <th>68</th>\n",
       "      <td>rosiglitazone_Steady</td>\n",
       "      <td>[1.0646522453264167]</td>\n",
       "    </tr>\n",
       "    <tr>\n",
       "      <th>67</th>\n",
       "      <td>rosiglitazone_No</td>\n",
       "      <td>[0.7009128424640775]</td>\n",
       "    </tr>\n",
       "    <tr>\n",
       "      <th>46</th>\n",
       "      <td>repaglinide_Up</td>\n",
       "      <td>[0.6353822548054157]</td>\n",
       "    </tr>\n",
       "    <tr>\n",
       "      <th>45</th>\n",
       "      <td>repaglinide_Steady</td>\n",
       "      <td>[0.5544220439938395]</td>\n",
       "    </tr>\n",
       "    <tr>\n",
       "      <th>90</th>\n",
       "      <td>diabetesMed_Yes</td>\n",
       "      <td>[0.5080106540778454]</td>\n",
       "    </tr>\n",
       "    <tr>\n",
       "      <th>61</th>\n",
       "      <td>glyburide_Steady</td>\n",
       "      <td>[0.44747985753754926]</td>\n",
       "    </tr>\n",
       "    <tr>\n",
       "      <th>7</th>\n",
       "      <td>number_inpatient</td>\n",
       "      <td>[0.42102672890710485]</td>\n",
       "    </tr>\n",
       "    <tr>\n",
       "      <th>21</th>\n",
       "      <td>discharge_disposition_id_hospital</td>\n",
       "      <td>[0.39119300981063465]</td>\n",
       "    </tr>\n",
       "  </tbody>\n",
       "</table>\n",
       "</div>"
      ],
      "text/plain": [
       "                             Features           Coefficients\n",
       "72                        acarbose_Up    [3.695337667182958]\n",
       "69                   rosiglitazone_Up   [1.1767675352305853]\n",
       "68               rosiglitazone_Steady   [1.0646522453264167]\n",
       "67                   rosiglitazone_No   [0.7009128424640775]\n",
       "46                     repaglinide_Up   [0.6353822548054157]\n",
       "45                 repaglinide_Steady   [0.5544220439938395]\n",
       "90                    diabetesMed_Yes   [0.5080106540778454]\n",
       "61                   glyburide_Steady  [0.44747985753754926]\n",
       "7                    number_inpatient  [0.42102672890710485]\n",
       "21  discharge_disposition_id_hospital  [0.39119300981063465]"
      ]
     },
     "execution_count": 40,
     "metadata": {},
     "output_type": "execute_result"
    }
   ],
   "source": [
    "coef_random_search.head(10)"
   ]
  },
  {
   "cell_type": "code",
   "execution_count": 41,
   "metadata": {},
   "outputs": [],
   "source": [
    "# import statsmodels.api as sm\n",
    "# logit = sm.Logit(X_train_SMOTE, y_train_SMOTE)\n",
    "\n",
    "# result = logit.fit()\n",
    "# print(result.summary())"
   ]
  },
  {
   "cell_type": "markdown",
   "metadata": {},
   "source": [
    "# Decision Tree Clssifier - \"Entropy\""
   ]
  },
  {
   "cell_type": "markdown",
   "metadata": {},
   "source": [
    "- For this decision tree classifier, I developed the model based on the reference model (logistic regression with SMOTE)"
   ]
  },
  {
   "cell_type": "code",
   "execution_count": 42,
   "metadata": {},
   "outputs": [
    {
     "name": "stdout",
     "output_type": "stream",
     "text": [
      "Original dataset shape Counter({0: 51329, 1: 4486})\n",
      "New dataset shape Counter({0: 51329, 1: 51329})\n"
     ]
    }
   ],
   "source": [
    "# Data balancing applied using SMOTE\n",
    "from imblearn.over_sampling import SMOTE\n",
    "\n",
    "from collections import Counter\n",
    "print('Original dataset shape {}'.format(Counter(y_train)))\n",
    "sm = SMOTE(random_state=20)\n",
    "X_train_SMOTE_dt, y_train_SMOTE_dt = sm.fit_sample(X_train, y_train)\n",
    "print('New dataset shape {}'.format(Counter(y_train_SMOTE_dt)))"
   ]
  },
  {
   "cell_type": "code",
   "execution_count": 43,
   "metadata": {},
   "outputs": [
    {
     "data": {
      "text/plain": [
       "DecisionTreeClassifier(class_weight=None, criterion='entropy', max_depth=28,\n",
       "            max_features=None, max_leaf_nodes=None,\n",
       "            min_impurity_decrease=0.0, min_impurity_split=None,\n",
       "            min_samples_leaf=1, min_samples_split=10,\n",
       "            min_weight_fraction_leaf=0.0, presort=False, random_state=None,\n",
       "            splitter='best')"
      ]
     },
     "execution_count": 43,
     "metadata": {},
     "output_type": "execute_result"
    }
   ],
   "source": [
    "from sklearn.tree import DecisionTreeClassifier\n",
    "dt_en = DecisionTreeClassifier(max_depth=28, criterion = \"entropy\", min_samples_split=10)\n",
    "dt_en.fit(X_train_SMOTE_dt, y_train_SMOTE_dt)"
   ]
  },
  {
   "cell_type": "code",
   "execution_count": 44,
   "metadata": {},
   "outputs": [
    {
     "name": "stdout",
     "output_type": "stream",
     "text": [
      "Train set Score: 95.555%\n",
      "Test Set score : 85.301%\n"
     ]
    }
   ],
   "source": [
    "print(\"Train set Score: {:.3%}\".format(dt_en.score(X_train, y_train)))\n",
    "print(\"Test Set score : {:.3%}\".format(dt_en.score(X_test, y_test)))"
   ]
  },
  {
   "cell_type": "code",
   "execution_count": 45,
   "metadata": {},
   "outputs": [],
   "source": [
    "y_test_predict = dt_en.predict(X_test)"
   ]
  },
  {
   "cell_type": "code",
   "execution_count": 46,
   "metadata": {},
   "outputs": [
    {
     "data": {
      "text/html": [
       "<div>\n",
       "<style scoped>\n",
       "    .dataframe tbody tr th:only-of-type {\n",
       "        vertical-align: middle;\n",
       "    }\n",
       "\n",
       "    .dataframe tbody tr th {\n",
       "        vertical-align: top;\n",
       "    }\n",
       "\n",
       "    .dataframe thead th {\n",
       "        text-align: right;\n",
       "    }\n",
       "</style>\n",
       "<table border=\"1\" class=\"dataframe\">\n",
       "  <thead>\n",
       "    <tr style=\"text-align: right;\">\n",
       "      <th>Predict</th>\n",
       "      <th>0</th>\n",
       "      <th>1</th>\n",
       "      <th>All</th>\n",
       "    </tr>\n",
       "    <tr>\n",
       "      <th>Actual</th>\n",
       "      <th></th>\n",
       "      <th></th>\n",
       "      <th></th>\n",
       "    </tr>\n",
       "  </thead>\n",
       "  <tbody>\n",
       "    <tr>\n",
       "      <th>0</th>\n",
       "      <td>18581</td>\n",
       "      <td>1299</td>\n",
       "      <td>19880</td>\n",
       "    </tr>\n",
       "    <tr>\n",
       "      <th>1</th>\n",
       "      <td>1942</td>\n",
       "      <td>227</td>\n",
       "      <td>2169</td>\n",
       "    </tr>\n",
       "    <tr>\n",
       "      <th>All</th>\n",
       "      <td>20523</td>\n",
       "      <td>1526</td>\n",
       "      <td>22049</td>\n",
       "    </tr>\n",
       "  </tbody>\n",
       "</table>\n",
       "</div>"
      ],
      "text/plain": [
       "Predict      0     1    All\n",
       "Actual                     \n",
       "0        18581  1299  19880\n",
       "1         1942   227   2169\n",
       "All      20523  1526  22049"
      ]
     },
     "execution_count": 46,
     "metadata": {},
     "output_type": "execute_result"
    }
   ],
   "source": [
    "pd.crosstab(pd.Series(y_test, name = 'Actual'), pd.Series(y_test_predict, name = 'Predict'), margins = True)"
   ]
  },
  {
   "cell_type": "code",
   "execution_count": 47,
   "metadata": {},
   "outputs": [
    {
     "name": "stdout",
     "output_type": "stream",
     "text": [
      "             precision    recall  f1-score   support\n",
      "\n",
      "          0       0.91      0.93      0.92     19880\n",
      "          1       0.15      0.10      0.12      2169\n",
      "\n",
      "avg / total       0.83      0.85      0.84     22049\n",
      "\n"
     ]
    }
   ],
   "source": [
    "report=classification_report(y_test, y_test_predict)\n",
    "print(report)"
   ]
  },
  {
   "cell_type": "code",
   "execution_count": 48,
   "metadata": {},
   "outputs": [
    {
     "name": "stdout",
     "output_type": "stream",
     "text": [
      "18581 1299 1942 227\n"
     ]
    }
   ],
   "source": [
    "from sklearn.metrics import confusion_matrix\n",
    "\n",
    "tp, fp, fn, tn = confusion_matrix(y_test, y_test_predict).ravel()\n",
    "print(tp, fp, fn, tn)  # 1 1 1 1\n",
    "\n",
    "TPR=tp/(tp+fn)\n",
    "FPR=fp/(fp+tn)\n",
    "TNR=tn/(fp+tn)"
   ]
  },
  {
   "cell_type": "code",
   "execution_count": 49,
   "metadata": {},
   "outputs": [
    {
     "name": "stdout",
     "output_type": "stream",
     "text": [
      "Accuracy is 0.853\n",
      "Precision is 0.149\n",
      "Recall is 0.105\n",
      "AUC is 0.520\n",
      "TPR is 0.905\n",
      "FPR is 0.851\n",
      "TNR is 0.149\n"
     ]
    }
   ],
   "source": [
    "from sklearn.metrics import accuracy_score, precision_score, recall_score\n",
    "print(\"Accuracy is {0:.3f}\".format(accuracy_score(y_test, y_test_predict)))\n",
    "print(\"Precision is {0:.3f}\".format(precision_score(y_test, y_test_predict)))\n",
    "print(\"Recall is {0:.3f}\".format(recall_score(y_test, y_test_predict)))\n",
    "print(\"AUC is {0:.3f}\".format(roc_auc_score(y_test, y_test_predict)))\n",
    "print(\"TPR is {0:.3f}\".format(TPR))\n",
    "print(\"FPR is {0:.3f}\".format(FPR))\n",
    "print(\"TNR is {0:.3f}\".format(TNR))"
   ]
  },
  {
   "cell_type": "code",
   "execution_count": 50,
   "metadata": {},
   "outputs": [],
   "source": [
    "accuracy_dt_en = accuracy_score(y_test, y_test_predict)\n",
    "precision_dt_en = precision_score(y_test, y_test_predict)\n",
    "recall_dt_en = recall_score(y_test, y_test_predict)\n",
    "auc_dt_en = roc_auc_score(y_test, y_test_predict)\n",
    "TPR_dt_en=TPR\n",
    "FPR_ldt_en=FPR\n",
    "TNR_dt_en=TNR"
   ]
  },
  {
   "cell_type": "code",
   "execution_count": 51,
   "metadata": {},
   "outputs": [
    {
     "data": {
      "image/png": "[encoded data removed]",
      "text/plain": [
       "<IPython.core.display.Image object>"
      ]
     },
     "execution_count": 51,
     "metadata": {},
     "output_type": "execute_result"
    }
   ],
   "source": [
    "# Visualizaing decision tree for Question 2 - detailed feature set\n",
    "import graphviz\n",
    "from IPython.display import Image\n",
    "import pydotplus\n",
    "from sklearn import tree\n",
    "dot_dt_q2 = tree.export_graphviz(dt_en, out_file=\"dt_q2.dot\", feature_names=X_train.columns, max_depth=2,\n",
    "                                 class_names=[\"No\",\"Readm\"], filled=True, rounded=True, special_characters=True)\n",
    "graph_dt_q2 = pydotplus.graph_from_dot_file('dt_q2.dot')\n",
    "Image(graph_dt_q2.create_png())"
   ]
  },
  {
   "cell_type": "code",
   "execution_count": 52,
   "metadata": {},
   "outputs": [
    {
     "name": "stdout",
     "output_type": "stream",
     "text": [
      "                          Feature  Importance\n",
      "22    discharge_disposition_id_na       0.018\n",
      "1                time_in_hospital       0.018\n",
      "4                 num_medications       0.026\n",
      "80                 insulin_Steady       0.026\n",
      "79                     insulin_No       0.027\n",
      "2              num_lab_procedures       0.033\n",
      "12                 race_Caucasian       0.074\n",
      "16                    gender_Male       0.091\n",
      "20  discharge_disposition_id_home       0.167\n",
      "7                number_inpatient       0.297\n"
     ]
    },
    {
     "data": {
      "image/png": "[encoded data removed]",
      "text/plain": [
       "<Figure size 720x432 with 1 Axes>"
      ]
     },
     "metadata": {
      "needs_background": "light"
     },
     "output_type": "display_data"
    }
   ],
   "source": [
    "# Create list of top most features based on importance\n",
    "feature_names = X_train.columns\n",
    "feature_imports = dt_en.feature_importances_\n",
    "most_imp_features = pd.DataFrame([f for f in zip(feature_names,feature_imports)], columns=[\"Feature\", \"Importance\"]).nlargest(10, \"Importance\")\n",
    "most_imp_features.sort_values(by=\"Importance\", inplace=True)\n",
    "print(most_imp_features)\n",
    "plt.figure(figsize=(10,6))\n",
    "plt.barh(range(len(most_imp_features)), most_imp_features.Importance, align='center', alpha=0.8)\n",
    "plt.yticks(range(len(most_imp_features)), most_imp_features.Feature, fontsize=14)\n",
    "plt.xlabel('Importance')\n",
    "plt.title('Most important features - Decision Tree (entropy function)')\n",
    "plt.show()"
   ]
  },
  {
   "cell_type": "markdown",
   "metadata": {},
   "source": [
    "# Decision Tree Classifier : \"Gini\""
   ]
  },
  {
   "cell_type": "code",
   "execution_count": 53,
   "metadata": {},
   "outputs": [
    {
     "data": {
      "text/plain": [
       "DecisionTreeClassifier(class_weight=None, criterion='gini', max_depth=28,\n",
       "            max_features=None, max_leaf_nodes=None,\n",
       "            min_impurity_decrease=0.0, min_impurity_split=None,\n",
       "            min_samples_leaf=1, min_samples_split=10,\n",
       "            min_weight_fraction_leaf=0.0, presort=False, random_state=None,\n",
       "            splitter='best')"
      ]
     },
     "execution_count": 53,
     "metadata": {},
     "output_type": "execute_result"
    }
   ],
   "source": [
    "from sklearn.tree import DecisionTreeClassifier\n",
    "dt_g = DecisionTreeClassifier(max_depth=28, criterion = \"gini\", min_samples_split=10)\n",
    "dt_g.fit(X_train_SMOTE_dt, y_train_SMOTE_dt)"
   ]
  },
  {
   "cell_type": "code",
   "execution_count": 54,
   "metadata": {},
   "outputs": [
    {
     "name": "stdout",
     "output_type": "stream",
     "text": [
      "Train set Score: 97.182%\n",
      "Test Set score : 85.904%\n"
     ]
    }
   ],
   "source": [
    "print(\"Train set Score: {:.3%}\".format(dt_g.score(X_train_SMOTE_dt, y_train_SMOTE_dt)))\n",
    "print(\"Test Set score : {:.3%}\".format(dt_g.score(X_test, y_test)))"
   ]
  },
  {
   "cell_type": "code",
   "execution_count": 55,
   "metadata": {},
   "outputs": [],
   "source": [
    "y_test_predict = dt_g.predict(X_test)"
   ]
  },
  {
   "cell_type": "code",
   "execution_count": 56,
   "metadata": {},
   "outputs": [
    {
     "data": {
      "text/html": [
       "<div>\n",
       "<style scoped>\n",
       "    .dataframe tbody tr th:only-of-type {\n",
       "        vertical-align: middle;\n",
       "    }\n",
       "\n",
       "    .dataframe tbody tr th {\n",
       "        vertical-align: top;\n",
       "    }\n",
       "\n",
       "    .dataframe thead th {\n",
       "        text-align: right;\n",
       "    }\n",
       "</style>\n",
       "<table border=\"1\" class=\"dataframe\">\n",
       "  <thead>\n",
       "    <tr style=\"text-align: right;\">\n",
       "      <th>Predict</th>\n",
       "      <th>0</th>\n",
       "      <th>1</th>\n",
       "      <th>All</th>\n",
       "    </tr>\n",
       "    <tr>\n",
       "      <th>Actual</th>\n",
       "      <th></th>\n",
       "      <th></th>\n",
       "      <th></th>\n",
       "    </tr>\n",
       "  </thead>\n",
       "  <tbody>\n",
       "    <tr>\n",
       "      <th>0</th>\n",
       "      <td>18744</td>\n",
       "      <td>1136</td>\n",
       "      <td>19880</td>\n",
       "    </tr>\n",
       "    <tr>\n",
       "      <th>1</th>\n",
       "      <td>1972</td>\n",
       "      <td>197</td>\n",
       "      <td>2169</td>\n",
       "    </tr>\n",
       "    <tr>\n",
       "      <th>All</th>\n",
       "      <td>20716</td>\n",
       "      <td>1333</td>\n",
       "      <td>22049</td>\n",
       "    </tr>\n",
       "  </tbody>\n",
       "</table>\n",
       "</div>"
      ],
      "text/plain": [
       "Predict      0     1    All\n",
       "Actual                     \n",
       "0        18744  1136  19880\n",
       "1         1972   197   2169\n",
       "All      20716  1333  22049"
      ]
     },
     "execution_count": 56,
     "metadata": {},
     "output_type": "execute_result"
    }
   ],
   "source": [
    "pd.crosstab(pd.Series(y_test, name = 'Actual'), pd.Series(y_test_predict, name = 'Predict'), margins = True)"
   ]
  },
  {
   "cell_type": "code",
   "execution_count": 57,
   "metadata": {},
   "outputs": [
    {
     "name": "stdout",
     "output_type": "stream",
     "text": [
      "             precision    recall  f1-score   support\n",
      "\n",
      "          0       0.90      0.94      0.92     19880\n",
      "          1       0.15      0.09      0.11      2169\n",
      "\n",
      "avg / total       0.83      0.86      0.84     22049\n",
      "\n"
     ]
    }
   ],
   "source": [
    "report=classification_report(y_test, y_test_predict)\n",
    "print(report)"
   ]
  },
  {
   "cell_type": "code",
   "execution_count": 58,
   "metadata": {},
   "outputs": [
    {
     "name": "stdout",
     "output_type": "stream",
     "text": [
      "18744 1136 1972 197\n"
     ]
    }
   ],
   "source": [
    "from sklearn.metrics import confusion_matrix\n",
    "\n",
    "tp, fp, fn, tn = confusion_matrix(y_test, y_test_predict).ravel()\n",
    "print(tp, fp, fn, tn)  # 1 1 1 1\n",
    "\n",
    "TPR=tp/(tp+fn)\n",
    "FPR=fp/(fp+tn)\n",
    "TNR=tn/(fp+tn)"
   ]
  },
  {
   "cell_type": "code",
   "execution_count": 59,
   "metadata": {},
   "outputs": [
    {
     "name": "stdout",
     "output_type": "stream",
     "text": [
      "Accuracy is 0.859\n",
      "Precision is 0.148\n",
      "Recall is 0.091\n",
      "AUC is 0.517\n",
      "TPR is 0.905\n",
      "FPR is 0.852\n",
      "TNR is 0.148\n"
     ]
    }
   ],
   "source": [
    "from sklearn.metrics import accuracy_score, precision_score, recall_score\n",
    "print(\"Accuracy is {0:.3f}\".format(accuracy_score(y_test, y_test_predict)))\n",
    "print(\"Precision is {0:.3f}\".format(precision_score(y_test, y_test_predict)))\n",
    "print(\"Recall is {0:.3f}\".format(recall_score(y_test, y_test_predict)))\n",
    "print(\"AUC is {0:.3f}\".format(roc_auc_score(y_test, y_test_predict)))\n",
    "print(\"TPR is {0:.3f}\".format(TPR))\n",
    "print(\"FPR is {0:.3f}\".format(FPR))\n",
    "print(\"TNR is {0:.3f}\".format(TNR))"
   ]
  },
  {
   "cell_type": "code",
   "execution_count": 60,
   "metadata": {},
   "outputs": [],
   "source": [
    "accuracy_dt_g = accuracy_score(y_test, y_test_predict)\n",
    "precision_dt_g = precision_score(y_test, y_test_predict)\n",
    "recall_dt_g = recall_score(y_test, y_test_predict)\n",
    "auc_dt_g = roc_auc_score(y_test, y_test_predict)"
   ]
  },
  {
   "cell_type": "code",
   "execution_count": 61,
   "metadata": {},
   "outputs": [
    {
     "data": {
      "image/png": "[encoded data removed]",
      "text/plain": [
       "<IPython.core.display.Image object>"
      ]
     },
     "execution_count": 61,
     "metadata": {},
     "output_type": "execute_result"
    }
   ],
   "source": [
    "# Visualizaing decision tree for Question 2 - detailed feature set\n",
    "import graphviz\n",
    "from IPython.display import Image\n",
    "import pydotplus\n",
    "from sklearn import tree\n",
    "dot_dt_q2 = tree.export_graphviz(dt_g, out_file=\"dt_q2.dot\", feature_names=X_train.columns, max_depth=2,\n",
    "                                 class_names=[\"No\",\"Readm\"], filled=True, rounded=True, special_characters=True)\n",
    "graph_dt_q2 = pydotplus.graph_from_dot_file('dt_q2.dot')\n",
    "Image(graph_dt_q2.create_png())"
   ]
  },
  {
   "cell_type": "code",
   "execution_count": 62,
   "metadata": {},
   "outputs": [
    {
     "name": "stdout",
     "output_type": "stream",
     "text": [
      "                          Feature  Importance\n",
      "4                 num_medications       0.016\n",
      "57                   glipizide_No       0.018\n",
      "2              num_lab_procedures       0.019\n",
      "79                     insulin_No       0.020\n",
      "22    discharge_disposition_id_na       0.020\n",
      "9               med_dosage_change       0.030\n",
      "12                 race_Caucasian       0.080\n",
      "16                    gender_Male       0.099\n",
      "20  discharge_disposition_id_home       0.189\n",
      "7                number_inpatient       0.319\n"
     ]
    },
    {
     "data": {
      "image/png": "[encoded data removed]",
      "text/plain": [
       "<Figure size 720x432 with 1 Axes>"
      ]
     },
     "metadata": {
      "needs_background": "light"
     },
     "output_type": "display_data"
    }
   ],
   "source": [
    "# Create list of top most features based on importance\n",
    "feature_names = X_train.columns\n",
    "feature_imports = dt_g.feature_importances_\n",
    "most_imp_features = pd.DataFrame([f for f in zip(feature_names,feature_imports)], columns=[\"Feature\", \"Importance\"]).nlargest(10, \"Importance\")\n",
    "most_imp_features.sort_values(by=\"Importance\", inplace=True)\n",
    "print(most_imp_features)\n",
    "plt.figure(figsize=(10,6))\n",
    "plt.barh(range(len(most_imp_features)), most_imp_features.Importance, align='center', alpha=0.8)\n",
    "plt.yticks(range(len(most_imp_features)), most_imp_features.Feature, fontsize=14)\n",
    "plt.xlabel('Importance')\n",
    "plt.title('Most important features - Decision Tree (Gini function)')\n",
    "plt.show()"
   ]
  },
  {
   "cell_type": "markdown",
   "metadata": {},
   "source": [
    "# Random Forest Classifier : \"Gini\"\n"
   ]
  },
  {
   "cell_type": "code",
   "execution_count": 63,
   "metadata": {},
   "outputs": [
    {
     "name": "stdout",
     "output_type": "stream",
     "text": [
      "Original dataset shape Counter({0: 51329, 1: 4486})\n",
      "New dataset shape Counter({0: 51329, 1: 51329})\n"
     ]
    }
   ],
   "source": [
    "# Data balancing applied using SMOTE\n",
    "from imblearn.over_sampling import SMOTE\n",
    "\n",
    "from collections import Counter\n",
    "print('Original dataset shape {}'.format(Counter(y_train)))\n",
    "sm = SMOTE(random_state=20)\n",
    "X_train_SMOTE_rf, y_train_SMOTE_rf = sm.fit_sample(X_train, y_train)\n",
    "print('New dataset shape {}'.format(Counter(y_train_SMOTE_rf)))"
   ]
  },
  {
   "cell_type": "code",
   "execution_count": 64,
   "metadata": {},
   "outputs": [
    {
     "data": {
      "text/plain": [
       "RandomForestClassifier(bootstrap=True, class_weight=None, criterion='gini',\n",
       "            max_depth=25, max_features='auto', max_leaf_nodes=None,\n",
       "            min_impurity_decrease=0.0, min_impurity_split=None,\n",
       "            min_samples_leaf=1, min_samples_split=10,\n",
       "            min_weight_fraction_leaf=0.0, n_estimators=10, n_jobs=1,\n",
       "            oob_score=False, random_state=None, verbose=0,\n",
       "            warm_start=False)"
      ]
     },
     "execution_count": 64,
     "metadata": {},
     "output_type": "execute_result"
    }
   ],
   "source": [
    "from sklearn.ensemble import RandomForestClassifier\n",
    "rf_gini = RandomForestClassifier(n_estimators = 10, max_depth=25, criterion = \"gini\", min_samples_split=10)\n",
    "rf_gini.fit(X_train_SMOTE_rf, y_train_SMOTE_rf)"
   ]
  },
  {
   "cell_type": "code",
   "execution_count": 65,
   "metadata": {},
   "outputs": [
    {
     "name": "stdout",
     "output_type": "stream",
     "text": [
      "Train set Score: 96.159%\n",
      "Test Set score : 90.127%\n"
     ]
    }
   ],
   "source": [
    "print(\"Train set Score: {:.3%}\".format(rf_gini.score(X_train_SMOTE_rf, y_train_SMOTE_rf)))\n",
    "print(\"Test Set score : {:.3%}\".format(rf_gini.score(X_test, y_test)))"
   ]
  },
  {
   "cell_type": "code",
   "execution_count": 66,
   "metadata": {},
   "outputs": [],
   "source": [
    "y_test_predict = rf_gini.predict(X_test)"
   ]
  },
  {
   "cell_type": "code",
   "execution_count": 67,
   "metadata": {},
   "outputs": [
    {
     "data": {
      "text/html": [
       "<div>\n",
       "<style scoped>\n",
       "    .dataframe tbody tr th:only-of-type {\n",
       "        vertical-align: middle;\n",
       "    }\n",
       "\n",
       "    .dataframe tbody tr th {\n",
       "        vertical-align: top;\n",
       "    }\n",
       "\n",
       "    .dataframe thead th {\n",
       "        text-align: right;\n",
       "    }\n",
       "</style>\n",
       "<table border=\"1\" class=\"dataframe\">\n",
       "  <thead>\n",
       "    <tr style=\"text-align: right;\">\n",
       "      <th>Predict</th>\n",
       "      <th>0</th>\n",
       "      <th>1</th>\n",
       "      <th>All</th>\n",
       "    </tr>\n",
       "    <tr>\n",
       "      <th>Actual</th>\n",
       "      <th></th>\n",
       "      <th></th>\n",
       "      <th></th>\n",
       "    </tr>\n",
       "  </thead>\n",
       "  <tbody>\n",
       "    <tr>\n",
       "      <th>0</th>\n",
       "      <td>19861</td>\n",
       "      <td>19</td>\n",
       "      <td>19880</td>\n",
       "    </tr>\n",
       "    <tr>\n",
       "      <th>1</th>\n",
       "      <td>2158</td>\n",
       "      <td>11</td>\n",
       "      <td>2169</td>\n",
       "    </tr>\n",
       "    <tr>\n",
       "      <th>All</th>\n",
       "      <td>22019</td>\n",
       "      <td>30</td>\n",
       "      <td>22049</td>\n",
       "    </tr>\n",
       "  </tbody>\n",
       "</table>\n",
       "</div>"
      ],
      "text/plain": [
       "Predict      0   1    All\n",
       "Actual                   \n",
       "0        19861  19  19880\n",
       "1         2158  11   2169\n",
       "All      22019  30  22049"
      ]
     },
     "execution_count": 67,
     "metadata": {},
     "output_type": "execute_result"
    }
   ],
   "source": [
    "pd.crosstab(pd.Series(y_test, name = 'Actual'), pd.Series(y_test_predict, name = 'Predict'), margins = True)"
   ]
  },
  {
   "cell_type": "code",
   "execution_count": 68,
   "metadata": {},
   "outputs": [
    {
     "name": "stdout",
     "output_type": "stream",
     "text": [
      "             precision    recall  f1-score   support\n",
      "\n",
      "          0       0.90      1.00      0.95     19880\n",
      "          1       0.37      0.01      0.01      2169\n",
      "\n",
      "avg / total       0.85      0.90      0.86     22049\n",
      "\n"
     ]
    }
   ],
   "source": [
    "report=classification_report(y_test, y_test_predict)\n",
    "print(report)"
   ]
  },
  {
   "cell_type": "code",
   "execution_count": 69,
   "metadata": {},
   "outputs": [
    {
     "name": "stdout",
     "output_type": "stream",
     "text": [
      "19861 19 2158 11\n"
     ]
    }
   ],
   "source": [
    "from sklearn.metrics import confusion_matrix\n",
    "\n",
    "tp, fp, fn, tn = confusion_matrix(y_test, y_test_predict).ravel()\n",
    "print(tp, fp, fn, tn)  # 1 1 1 1\n",
    "\n",
    "TPR=tp/(tp+fn)\n",
    "FPR=fp/(fp+tn)\n",
    "TNR=tn/(fp+tn)"
   ]
  },
  {
   "cell_type": "code",
   "execution_count": 70,
   "metadata": {},
   "outputs": [
    {
     "name": "stdout",
     "output_type": "stream",
     "text": [
      "Accuracy is 0.901\n",
      "Precision is 0.367\n",
      "Recall is 0.005\n",
      "AUC is 0.502\n",
      "TPR is 0.902\n",
      "FPR is 0.633\n",
      "TNR is 0.367\n"
     ]
    }
   ],
   "source": [
    "print(\"Accuracy is {0:.3f}\".format(accuracy_score(y_test, y_test_predict)))\n",
    "print(\"Precision is {0:.3f}\".format(precision_score(y_test, y_test_predict)))\n",
    "print(\"Recall is {0:.3f}\".format(recall_score(y_test, y_test_predict)))\n",
    "print(\"AUC is {0:.3f}\".format(roc_auc_score(y_test, y_test_predict)))\n",
    "print(\"TPR is {0:.3f}\".format(TPR))\n",
    "print(\"FPR is {0:.3f}\".format(FPR))\n",
    "print(\"TNR is {0:.3f}\".format(TNR))"
   ]
  },
  {
   "cell_type": "code",
   "execution_count": 71,
   "metadata": {},
   "outputs": [],
   "source": [
    "accuracy_rf_g = accuracy_score(y_test, y_test_predict)\n",
    "precision_rf_g = precision_score(y_test, y_test_predict)\n",
    "recall_rf_g = recall_score(y_test, y_test_predict)\n",
    "auc_rf_g = roc_auc_score(y_test, y_test_predict)\n",
    "\n",
    "TPR_rf_g=TPR\n",
    "FPR_rf_g=FPR\n",
    "TNR_rf_g=TNR"
   ]
  },
  {
   "cell_type": "code",
   "execution_count": 72,
   "metadata": {},
   "outputs": [
    {
     "data": {
      "image/png": "[encoded data removed]",
      "text/plain": [
       "<Figure size 720x432 with 1 Axes>"
      ]
     },
     "metadata": {
      "needs_background": "light"
     },
     "output_type": "display_data"
    }
   ],
   "source": [
    "# Create list of top most features based on importance\n",
    "feature_names = X_train.columns\n",
    "feature_imports = rf_gini.feature_importances_\n",
    "most_imp_features = pd.DataFrame([f for f in zip(feature_names,feature_imports)], columns=[\"Feature\", \"Importance\"]).nlargest(10, \"Importance\")\n",
    "most_imp_features.sort_values(by=\"Importance\", inplace=True)\n",
    "plt.figure(figsize=(10,6))\n",
    "plt.barh(range(len(most_imp_features)), most_imp_features.Importance, align='center', alpha=0.8)\n",
    "plt.yticks(range(len(most_imp_features)), most_imp_features.Feature, fontsize=14)\n",
    "plt.xlabel('Importance')\n",
    "plt.title('Most important features - Random Forest (gini)')\n",
    "plt.show()"
   ]
  },
  {
   "cell_type": "markdown",
   "metadata": {},
   "source": [
    "# Random Forest Classifier : \"Entropy\"\n"
   ]
  },
  {
   "cell_type": "code",
   "execution_count": 73,
   "metadata": {},
   "outputs": [
    {
     "data": {
      "text/plain": [
       "RandomForestClassifier(bootstrap=True, class_weight=None, criterion='entropy',\n",
       "            max_depth=25, max_features='auto', max_leaf_nodes=None,\n",
       "            min_impurity_decrease=0.0, min_impurity_split=None,\n",
       "            min_samples_leaf=1, min_samples_split=10,\n",
       "            min_weight_fraction_leaf=0.0, n_estimators=10, n_jobs=1,\n",
       "            oob_score=False, random_state=None, verbose=0,\n",
       "            warm_start=False)"
      ]
     },
     "execution_count": 73,
     "metadata": {},
     "output_type": "execute_result"
    }
   ],
   "source": [
    "from sklearn.ensemble import RandomForestClassifier\n",
    "rf_en = RandomForestClassifier(n_estimators = 10, max_depth=25, criterion = \"entropy\", min_samples_split=10)\n",
    "rf_en.fit(X_train_SMOTE_rf, y_train_SMOTE_rf)"
   ]
  },
  {
   "cell_type": "code",
   "execution_count": 74,
   "metadata": {},
   "outputs": [
    {
     "name": "stdout",
     "output_type": "stream",
     "text": [
      "Train set Score: 96.120%\n",
      "Test Set score : 90.090%\n"
     ]
    }
   ],
   "source": [
    "print(\"Train set Score: {:.3%}\".format(rf_en.score(X_train_SMOTE_rf, y_train_SMOTE_rf)))\n",
    "print(\"Test Set score : {:.3%}\".format(rf_en.score(X_test, y_test)))"
   ]
  },
  {
   "cell_type": "code",
   "execution_count": 75,
   "metadata": {},
   "outputs": [],
   "source": [
    "y_test_predict = rf_en.predict(X_test)"
   ]
  },
  {
   "cell_type": "code",
   "execution_count": 76,
   "metadata": {},
   "outputs": [
    {
     "data": {
      "text/html": [
       "<div>\n",
       "<style scoped>\n",
       "    .dataframe tbody tr th:only-of-type {\n",
       "        vertical-align: middle;\n",
       "    }\n",
       "\n",
       "    .dataframe tbody tr th {\n",
       "        vertical-align: top;\n",
       "    }\n",
       "\n",
       "    .dataframe thead th {\n",
       "        text-align: right;\n",
       "    }\n",
       "</style>\n",
       "<table border=\"1\" class=\"dataframe\">\n",
       "  <thead>\n",
       "    <tr style=\"text-align: right;\">\n",
       "      <th>Predict</th>\n",
       "      <th>0</th>\n",
       "      <th>1</th>\n",
       "      <th>All</th>\n",
       "    </tr>\n",
       "    <tr>\n",
       "      <th>Actual</th>\n",
       "      <th></th>\n",
       "      <th></th>\n",
       "      <th></th>\n",
       "    </tr>\n",
       "  </thead>\n",
       "  <tbody>\n",
       "    <tr>\n",
       "      <th>0</th>\n",
       "      <td>19854</td>\n",
       "      <td>26</td>\n",
       "      <td>19880</td>\n",
       "    </tr>\n",
       "    <tr>\n",
       "      <th>1</th>\n",
       "      <td>2159</td>\n",
       "      <td>10</td>\n",
       "      <td>2169</td>\n",
       "    </tr>\n",
       "    <tr>\n",
       "      <th>All</th>\n",
       "      <td>22013</td>\n",
       "      <td>36</td>\n",
       "      <td>22049</td>\n",
       "    </tr>\n",
       "  </tbody>\n",
       "</table>\n",
       "</div>"
      ],
      "text/plain": [
       "Predict      0   1    All\n",
       "Actual                   \n",
       "0        19854  26  19880\n",
       "1         2159  10   2169\n",
       "All      22013  36  22049"
      ]
     },
     "execution_count": 76,
     "metadata": {},
     "output_type": "execute_result"
    }
   ],
   "source": [
    "pd.crosstab(pd.Series(y_test, name = 'Actual'), pd.Series(y_test_predict, name = 'Predict'), margins = True)"
   ]
  },
  {
   "cell_type": "code",
   "execution_count": 77,
   "metadata": {},
   "outputs": [
    {
     "name": "stdout",
     "output_type": "stream",
     "text": [
      "             precision    recall  f1-score   support\n",
      "\n",
      "          0       0.90      1.00      0.95     19880\n",
      "          1       0.28      0.00      0.01      2169\n",
      "\n",
      "avg / total       0.84      0.90      0.86     22049\n",
      "\n"
     ]
    }
   ],
   "source": [
    "report=classification_report(y_test, y_test_predict)\n",
    "print(report)"
   ]
  },
  {
   "cell_type": "code",
   "execution_count": 78,
   "metadata": {},
   "outputs": [
    {
     "name": "stdout",
     "output_type": "stream",
     "text": [
      "19854 26 2159 10\n"
     ]
    }
   ],
   "source": [
    "from sklearn.metrics import confusion_matrix\n",
    "\n",
    "tp, fp, fn, tn = confusion_matrix(y_test, y_test_predict).ravel()\n",
    "print(tp, fp, fn, tn)  # 1 1 1 1\n",
    "\n",
    "TPR=tp/(tp+fn)\n",
    "FPR=fp/(fp+tn)\n",
    "TNR=tn/(fp+tn)"
   ]
  },
  {
   "cell_type": "code",
   "execution_count": 79,
   "metadata": {},
   "outputs": [
    {
     "name": "stdout",
     "output_type": "stream",
     "text": [
      "Accuracy is 0.901\n",
      "Precision is 0.278\n",
      "Recall is 0.005\n",
      "AUC is 0.502\n",
      "TPR is 0.902\n",
      "FPR is 0.722\n",
      "TNR is 0.278\n"
     ]
    }
   ],
   "source": [
    "print(\"Accuracy is {0:.3f}\".format(accuracy_score(y_test, y_test_predict)))\n",
    "print(\"Precision is {0:.3f}\".format(precision_score(y_test, y_test_predict)))\n",
    "print(\"Recall is {0:.3f}\".format(recall_score(y_test, y_test_predict)))\n",
    "print(\"AUC is {0:.3f}\".format(roc_auc_score(y_test, y_test_predict)))\n",
    "print(\"TPR is {0:.3f}\".format(TPR))\n",
    "print(\"FPR is {0:.3f}\".format(FPR))\n",
    "print(\"TNR is {0:.3f}\".format(TNR))"
   ]
  },
  {
   "cell_type": "code",
   "execution_count": 80,
   "metadata": {},
   "outputs": [],
   "source": [
    "accuracy_rf_en = accuracy_score(y_test, y_test_predict)\n",
    "precision_rf_en = precision_score(y_test, y_test_predict)\n",
    "recall_rf_en = recall_score(y_test, y_test_predict)\n",
    "auc_rf_en = roc_auc_score(y_test, y_test_predict)\n",
    "\n",
    "TPR_rf_en=TPR\n",
    "FPR_rf_en=FPR\n",
    "TNR_rf_en=TNR"
   ]
  },
  {
   "cell_type": "code",
   "execution_count": 81,
   "metadata": {},
   "outputs": [
    {
     "data": {
      "image/png": "[encoded data removed]",
      "text/plain": [
       "<Figure size 720x432 with 1 Axes>"
      ]
     },
     "metadata": {
      "needs_background": "light"
     },
     "output_type": "display_data"
    }
   ],
   "source": [
    "# Create list of top most features based on importance\n",
    "feature_names = X_train.columns\n",
    "feature_imports = rf_en.feature_importances_\n",
    "most_imp_features = pd.DataFrame([f for f in zip(feature_names,feature_imports)], columns=[\"Feature\", \"Importance\"]).nlargest(10, \"Importance\")\n",
    "most_imp_features.sort_values(by=\"Importance\", inplace=True)\n",
    "plt.figure(figsize=(10,6))\n",
    "plt.barh(range(len(most_imp_features)), most_imp_features.Importance, align='center', alpha=0.8)\n",
    "plt.yticks(range(len(most_imp_features)), most_imp_features.Feature, fontsize=14)\n",
    "plt.xlabel('Importance')\n",
    "plt.title('Most important features - Random Forest (entropy)')\n",
    "plt.show()"
   ]
  }
 ],
 "metadata": {
  "kernelspec": {
   "display_name": "Python 3",
   "language": "python",
   "name": "python3"
  },
  "language_info": {
   "codemirror_mode": {
    "name": "ipython",
    "version": 3
   },
   "file_extension": ".py",
   "mimetype": "text/x-python",
   "name": "python",
   "nbconvert_exporter": "python",
   "pygments_lexer": "ipython3",
   "version": "3.7.3"
  }
 },
 "nbformat": 4,
 "nbformat_minor": 2
}
