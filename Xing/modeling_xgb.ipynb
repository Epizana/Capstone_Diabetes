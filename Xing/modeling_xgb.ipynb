{
 "cells": [
  {
   "cell_type": "code",
   "execution_count": 1,
   "metadata": {},
   "outputs": [],
   "source": [
    "import numpy as np\n",
    "import pandas as pd\n",
    "from sklearn.linear_model import Ridge, Lasso, ElasticNet, LinearRegression\n",
    "from scipy.special import boxcox1p\n",
    "from scipy.stats import boxcox_normmax\n",
    "from scipy import stats\n",
    "import statistics\n",
    "import warnings\n",
    "warnings.filterwarnings('ignore')\n",
    "%matplotlib inline\n",
    "import matplotlib.pyplot as plt\n",
    "from sklearn.metrics import r2_score, mean_squared_error, mean_squared_error, make_scorer\n",
    "import seaborn as sns\n",
    "import os\n",
    "from scipy.stats import skew, probplot, norm\n",
    "import sklearn.model_selection as ms\n",
    "from sklearn.ensemble import RandomForestRegressor\n",
    "from pprint import pprint\n",
    "from sklearn.ensemble import GradientBoostingRegressor\n",
    "from sklearn.svm import SVR\n",
    "from sklearn.preprocessing import StandardScaler\n",
    "from sklearn.linear_model import ElasticNetCV, LassoCV, Lasso, ElasticNet \n",
    "from sklearn.model_selection import GridSearchCV, RandomizedSearchCV\n",
    "from sklearn.pipeline import make_pipeline\n",
    "from sklearn.preprocessing import RobustScaler\n",
    "from sklearn.model_selection import KFold, cross_val_score, StratifiedKFold \n",
    "from sklearn.model_selection import train_test_split\n",
    "from sklearn import linear_model\n",
    "from xgboost import XGBRegressor\n",
    "# from lightgbm import LGBMRegressor"
   ]
  },
  {
   "cell_type": "markdown",
   "metadata": {},
   "source": [
    "function to visualize the frequency of each unique value in each feature"
   ]
  },
  {
   "cell_type": "code",
   "execution_count": 2,
   "metadata": {},
   "outputs": [],
   "source": [
    "#function to summarize feature\n",
    "def summarize_feature(dataframe,feature):\n",
    "    feature_summary = {'values':dataframe[feature].value_counts().index.tolist(),\n",
    "                     'counts':dataframe[feature].value_counts().values.tolist(),\n",
    "                     'frequency': dataframe[feature].value_counts(normalize = True).values.tolist()}\n",
    "    feature_summary = pd.DataFrame(feature_summary)\n",
    "    return feature_summary\n"
   ]
  },
  {
   "cell_type": "markdown",
   "metadata": {},
   "source": [
    "# XGBOOST modeling"
   ]
  },
  {
   "cell_type": "markdown",
   "metadata": {},
   "source": [
    "### importing data"
   ]
  },
  {
   "cell_type": "code",
   "execution_count": 3,
   "metadata": {},
   "outputs": [
    {
     "name": "stdout",
     "output_type": "stream",
     "text": [
      "whole_train_cleaned dataset has (52825, 94)\n",
      "whole_test_cleaned dataset has (25902, 94)\n"
     ]
    }
   ],
   "source": [
    "train_df = pd.read_csv('./standardized splits/30/unique_train_cleaned_30.csv')\n",
    "test_df = pd.read_csv('./standardized splits/30/unique_test_cleaned_30.csv')\n",
    "\n",
    "print(f'whole_train_cleaned dataset has {train_df.shape}')\n",
    "print(f'whole_test_cleaned dataset has {test_df.shape}')\n"
   ]
  },
  {
   "cell_type": "code",
   "execution_count": 5,
   "metadata": {},
   "outputs": [],
   "source": [
    "#dropping the columns encounter_id and patient_nbr\n",
    "train_df = train_df.drop(['encounter_id','patient_nbr'], axis = 1)\n",
    "test_df = test_df.drop(['encounter_id','patient_nbr'], axis = 1)\n"
   ]
  },
  {
   "cell_type": "code",
   "execution_count": 6,
   "metadata": {},
   "outputs": [
    {
     "data": {
      "text/html": [
       "<div>\n",
       "<style scoped>\n",
       "    .dataframe tbody tr th:only-of-type {\n",
       "        vertical-align: middle;\n",
       "    }\n",
       "\n",
       "    .dataframe tbody tr th {\n",
       "        vertical-align: top;\n",
       "    }\n",
       "\n",
       "    .dataframe thead th {\n",
       "        text-align: right;\n",
       "    }\n",
       "</style>\n",
       "<table border=\"1\" class=\"dataframe\">\n",
       "  <thead>\n",
       "    <tr style=\"text-align: right;\">\n",
       "      <th></th>\n",
       "      <th>age</th>\n",
       "      <th>time_in_hospital</th>\n",
       "      <th>num_lab_procedures</th>\n",
       "      <th>num_procedures</th>\n",
       "      <th>num_medications</th>\n",
       "      <th>number_outpatient</th>\n",
       "      <th>number_emergency</th>\n",
       "      <th>number_inpatient</th>\n",
       "      <th>number_diagnoses</th>\n",
       "      <th>readmitted</th>\n",
       "      <th>...</th>\n",
       "      <th>insulin_Up</th>\n",
       "      <th>glyburide-metformin_No</th>\n",
       "      <th>glyburide-metformin_Steady</th>\n",
       "      <th>glyburide-metformin_Up</th>\n",
       "      <th>glipizide-metformin_Steady</th>\n",
       "      <th>glimepiride-pioglitazone_Steady</th>\n",
       "      <th>metformin-rosiglitazone_Steady</th>\n",
       "      <th>metformin-pioglitazone_Steady</th>\n",
       "      <th>change_No</th>\n",
       "      <th>diabetesMed_Yes</th>\n",
       "    </tr>\n",
       "  </thead>\n",
       "  <tbody>\n",
       "    <tr>\n",
       "      <th>40710</th>\n",
       "      <td>1.834779</td>\n",
       "      <td>0.545888</td>\n",
       "      <td>-0.607251</td>\n",
       "      <td>-0.783594</td>\n",
       "      <td>-0.368051</td>\n",
       "      <td>-0.291878</td>\n",
       "      <td>-0.2116</td>\n",
       "      <td>-0.500531</td>\n",
       "      <td>0.823365</td>\n",
       "      <td>0</td>\n",
       "      <td>...</td>\n",
       "      <td>0</td>\n",
       "      <td>1</td>\n",
       "      <td>0</td>\n",
       "      <td>0</td>\n",
       "      <td>0</td>\n",
       "      <td>0</td>\n",
       "      <td>0</td>\n",
       "      <td>0</td>\n",
       "      <td>1</td>\n",
       "      <td>1</td>\n",
       "    </tr>\n",
       "    <tr>\n",
       "      <th>45411</th>\n",
       "      <td>-0.673794</td>\n",
       "      <td>-0.464698</td>\n",
       "      <td>0.973579</td>\n",
       "      <td>-0.783594</td>\n",
       "      <td>0.373126</td>\n",
       "      <td>-0.291878</td>\n",
       "      <td>-0.2116</td>\n",
       "      <td>-0.500531</td>\n",
       "      <td>0.823365</td>\n",
       "      <td>0</td>\n",
       "      <td>...</td>\n",
       "      <td>0</td>\n",
       "      <td>1</td>\n",
       "      <td>0</td>\n",
       "      <td>0</td>\n",
       "      <td>0</td>\n",
       "      <td>0</td>\n",
       "      <td>0</td>\n",
       "      <td>0</td>\n",
       "      <td>0</td>\n",
       "      <td>1</td>\n",
       "    </tr>\n",
       "    <tr>\n",
       "      <th>23967</th>\n",
       "      <td>0.580493</td>\n",
       "      <td>0.209026</td>\n",
       "      <td>0.310650</td>\n",
       "      <td>-0.196348</td>\n",
       "      <td>2.349597</td>\n",
       "      <td>-0.291878</td>\n",
       "      <td>-0.2116</td>\n",
       "      <td>-0.500531</td>\n",
       "      <td>0.823365</td>\n",
       "      <td>1</td>\n",
       "      <td>...</td>\n",
       "      <td>0</td>\n",
       "      <td>1</td>\n",
       "      <td>0</td>\n",
       "      <td>0</td>\n",
       "      <td>0</td>\n",
       "      <td>0</td>\n",
       "      <td>0</td>\n",
       "      <td>0</td>\n",
       "      <td>1</td>\n",
       "      <td>1</td>\n",
       "    </tr>\n",
       "    <tr>\n",
       "      <th>51368</th>\n",
       "      <td>0.580493</td>\n",
       "      <td>-0.127836</td>\n",
       "      <td>1.075568</td>\n",
       "      <td>-0.783594</td>\n",
       "      <td>0.496655</td>\n",
       "      <td>-0.291878</td>\n",
       "      <td>-0.2116</td>\n",
       "      <td>-0.500531</td>\n",
       "      <td>0.823365</td>\n",
       "      <td>0</td>\n",
       "      <td>...</td>\n",
       "      <td>0</td>\n",
       "      <td>1</td>\n",
       "      <td>0</td>\n",
       "      <td>0</td>\n",
       "      <td>0</td>\n",
       "      <td>0</td>\n",
       "      <td>0</td>\n",
       "      <td>0</td>\n",
       "      <td>1</td>\n",
       "      <td>0</td>\n",
       "    </tr>\n",
       "    <tr>\n",
       "      <th>12876</th>\n",
       "      <td>-0.046651</td>\n",
       "      <td>1.556474</td>\n",
       "      <td>0.922585</td>\n",
       "      <td>0.390898</td>\n",
       "      <td>0.126067</td>\n",
       "      <td>1.288826</td>\n",
       "      <td>-0.2116</td>\n",
       "      <td>-0.500531</td>\n",
       "      <td>0.308175</td>\n",
       "      <td>1</td>\n",
       "      <td>...</td>\n",
       "      <td>0</td>\n",
       "      <td>1</td>\n",
       "      <td>0</td>\n",
       "      <td>0</td>\n",
       "      <td>0</td>\n",
       "      <td>0</td>\n",
       "      <td>0</td>\n",
       "      <td>0</td>\n",
       "      <td>0</td>\n",
       "      <td>1</td>\n",
       "    </tr>\n",
       "  </tbody>\n",
       "</table>\n",
       "<p>5 rows × 92 columns</p>\n",
       "</div>"
      ],
      "text/plain": [
       "            age  time_in_hospital  num_lab_procedures  num_procedures  \\\n",
       "40710  1.834779          0.545888           -0.607251       -0.783594   \n",
       "45411 -0.673794         -0.464698            0.973579       -0.783594   \n",
       "23967  0.580493          0.209026            0.310650       -0.196348   \n",
       "51368  0.580493         -0.127836            1.075568       -0.783594   \n",
       "12876 -0.046651          1.556474            0.922585        0.390898   \n",
       "\n",
       "       num_medications  number_outpatient  number_emergency  number_inpatient  \\\n",
       "40710        -0.368051          -0.291878           -0.2116         -0.500531   \n",
       "45411         0.373126          -0.291878           -0.2116         -0.500531   \n",
       "23967         2.349597          -0.291878           -0.2116         -0.500531   \n",
       "51368         0.496655          -0.291878           -0.2116         -0.500531   \n",
       "12876         0.126067           1.288826           -0.2116         -0.500531   \n",
       "\n",
       "       number_diagnoses  readmitted       ...         insulin_Up  \\\n",
       "40710          0.823365           0       ...                  0   \n",
       "45411          0.823365           0       ...                  0   \n",
       "23967          0.823365           1       ...                  0   \n",
       "51368          0.823365           0       ...                  0   \n",
       "12876          0.308175           1       ...                  0   \n",
       "\n",
       "       glyburide-metformin_No  glyburide-metformin_Steady  \\\n",
       "40710                       1                           0   \n",
       "45411                       1                           0   \n",
       "23967                       1                           0   \n",
       "51368                       1                           0   \n",
       "12876                       1                           0   \n",
       "\n",
       "       glyburide-metformin_Up  glipizide-metformin_Steady  \\\n",
       "40710                       0                           0   \n",
       "45411                       0                           0   \n",
       "23967                       0                           0   \n",
       "51368                       0                           0   \n",
       "12876                       0                           0   \n",
       "\n",
       "       glimepiride-pioglitazone_Steady  metformin-rosiglitazone_Steady  \\\n",
       "40710                                0                               0   \n",
       "45411                                0                               0   \n",
       "23967                                0                               0   \n",
       "51368                                0                               0   \n",
       "12876                                0                               0   \n",
       "\n",
       "       metformin-pioglitazone_Steady  change_No  diabetesMed_Yes  \n",
       "40710                              0          1                1  \n",
       "45411                              0          0                1  \n",
       "23967                              0          1                1  \n",
       "51368                              0          1                0  \n",
       "12876                              0          0                1  \n",
       "\n",
       "[5 rows x 92 columns]"
      ]
     },
     "execution_count": 6,
     "metadata": {},
     "output_type": "execute_result"
    }
   ],
   "source": [
    "train_df.sample(5)"
   ]
  },
  {
   "cell_type": "code",
   "execution_count": 10,
   "metadata": {
    "scrolled": true
   },
   "outputs": [
    {
     "data": {
      "text/html": [
       "<div>\n",
       "<style scoped>\n",
       "    .dataframe tbody tr th:only-of-type {\n",
       "        vertical-align: middle;\n",
       "    }\n",
       "\n",
       "    .dataframe tbody tr th {\n",
       "        vertical-align: top;\n",
       "    }\n",
       "\n",
       "    .dataframe thead th {\n",
       "        text-align: right;\n",
       "    }\n",
       "</style>\n",
       "<table border=\"1\" class=\"dataframe\">\n",
       "  <thead>\n",
       "    <tr style=\"text-align: right;\">\n",
       "      <th></th>\n",
       "      <th>values</th>\n",
       "      <th>counts</th>\n",
       "      <th>frequency</th>\n",
       "    </tr>\n",
       "  </thead>\n",
       "  <tbody>\n",
       "    <tr>\n",
       "      <th>0</th>\n",
       "      <td>0</td>\n",
       "      <td>48516</td>\n",
       "      <td>0.918429</td>\n",
       "    </tr>\n",
       "    <tr>\n",
       "      <th>1</th>\n",
       "      <td>1</td>\n",
       "      <td>4309</td>\n",
       "      <td>0.081571</td>\n",
       "    </tr>\n",
       "  </tbody>\n",
       "</table>\n",
       "</div>"
      ],
      "text/plain": [
       "   values  counts  frequency\n",
       "0       0   48516   0.918429\n",
       "1       1    4309   0.081571"
      ]
     },
     "execution_count": 10,
     "metadata": {},
     "output_type": "execute_result"
    }
   ],
   "source": [
    "summarize_feature(train_df, 'readmitted')"
   ]
  },
  {
   "cell_type": "code",
   "execution_count": 11,
   "metadata": {
    "scrolled": false
   },
   "outputs": [
    {
     "data": {
      "text/html": [
       "<div>\n",
       "<style scoped>\n",
       "    .dataframe tbody tr th:only-of-type {\n",
       "        vertical-align: middle;\n",
       "    }\n",
       "\n",
       "    .dataframe tbody tr th {\n",
       "        vertical-align: top;\n",
       "    }\n",
       "\n",
       "    .dataframe thead th {\n",
       "        text-align: right;\n",
       "    }\n",
       "</style>\n",
       "<table border=\"1\" class=\"dataframe\">\n",
       "  <thead>\n",
       "    <tr style=\"text-align: right;\">\n",
       "      <th></th>\n",
       "      <th>values</th>\n",
       "      <th>counts</th>\n",
       "      <th>frequency</th>\n",
       "    </tr>\n",
       "  </thead>\n",
       "  <tbody>\n",
       "    <tr>\n",
       "      <th>0</th>\n",
       "      <td>0</td>\n",
       "      <td>23419</td>\n",
       "      <td>0.904139</td>\n",
       "    </tr>\n",
       "    <tr>\n",
       "      <th>1</th>\n",
       "      <td>1</td>\n",
       "      <td>2483</td>\n",
       "      <td>0.095861</td>\n",
       "    </tr>\n",
       "  </tbody>\n",
       "</table>\n",
       "</div>"
      ],
      "text/plain": [
       "   values  counts  frequency\n",
       "0       0   23419   0.904139\n",
       "1       1    2483   0.095861"
      ]
     },
     "execution_count": 11,
     "metadata": {},
     "output_type": "execute_result"
    }
   ],
   "source": [
    "summarize_feature(test_df, 'readmitted')"
   ]
  },
  {
   "cell_type": "code",
   "execution_count": 14,
   "metadata": {},
   "outputs": [],
   "source": [
    "#set up the train data set into X and y\n",
    "X = train_df.loc[:, train_df.columns !='readmitted']\n",
    "y = train_df[['readmitted']]\n"
   ]
  },
  {
   "cell_type": "code",
   "execution_count": 15,
   "metadata": {},
   "outputs": [],
   "source": [
    "#set up the test data into X_test and y_test\n",
    "X_test = test_df.loc[:, test_df.columns !='readmitted']\n",
    "y_test = test_df[['readmitted']]\n"
   ]
  },
  {
   "cell_type": "code",
   "execution_count": 16,
   "metadata": {},
   "outputs": [
    {
     "name": "stdout",
     "output_type": "stream",
     "text": [
      "Original dataset shape Counter({'readmitted': 1})\n",
      "New dataset shape Counter({0: 48516, 1: 48516})\n"
     ]
    }
   ],
   "source": [
    "# Apply smote technique to balance the train data\n",
    "from imblearn.over_sampling import SMOTE\n",
    "\n",
    "from collections import Counter\n",
    "print('Original dataset shape {}'.format(Counter(y)))\n",
    "sm = SMOTE(random_state=20)\n",
    "X_new, y_new = sm.fit_sample(X, y)\n",
    "print('New dataset shape {}'.format(Counter(y_new)))"
   ]
  },
  {
   "cell_type": "code",
   "execution_count": 18,
   "metadata": {},
   "outputs": [],
   "source": [
    "#Make X_new back into a df instead of a numpy array\n",
    "X_new = pd.DataFrame(X_new, columns = list(X.columns))"
   ]
  },
  {
   "cell_type": "code",
   "execution_count": 20,
   "metadata": {},
   "outputs": [],
   "source": [
    "# split train data set in train and valid sets for model training\n",
    "X_train, X_valid, y_train, y_valid = train_test_split(X_new, y_new, test_size=0.20, random_state=42)\n"
   ]
  },
  {
   "cell_type": "code",
   "execution_count": 21,
   "metadata": {},
   "outputs": [],
   "source": [
    "import xgboost as xgb\n"
   ]
  },
  {
   "cell_type": "code",
   "execution_count": 22,
   "metadata": {},
   "outputs": [],
   "source": [
    "xgbc = xgb.XGBClassifier()"
   ]
  },
  {
   "cell_type": "code",
   "execution_count": 23,
   "metadata": {},
   "outputs": [
    {
     "data": {
      "text/plain": [
       "XGBClassifier(base_score=0.5, booster='gbtree', colsample_bylevel=1,\n",
       "              colsample_bynode=1, colsample_bytree=1, gamma=0,\n",
       "              learning_rate=0.1, max_delta_step=0, max_depth=3,\n",
       "              min_child_weight=1, missing=None, n_estimators=100, n_jobs=1,\n",
       "              nthread=None, objective='binary:logistic', random_state=0,\n",
       "              reg_alpha=0, reg_lambda=1, scale_pos_weight=1, seed=None,\n",
       "              silent=None, subsample=1, verbosity=1)"
      ]
     },
     "execution_count": 23,
     "metadata": {},
     "output_type": "execute_result"
    }
   ],
   "source": [
    "#fit X_train, y_train\n",
    "xgbc.fit(X_train,y_train)\n"
   ]
  },
  {
   "cell_type": "code",
   "execution_count": 28,
   "metadata": {},
   "outputs": [],
   "source": [
    "# from sklearn.metrics import roc_auc_score, accuracy_score, precision_score, recall_score\n",
    "# def calc_specificity(y_actual, y_pred, thresh):\n",
    "#     # calculates specificity\n",
    "#     return sum((y_pred < thresh) & (y_actual == 0)) /sum(y_actual ==0)\n",
    "\n",
    "# def print_report(y_actual, y_pred, thresh):\n",
    "    \n",
    "#     auc = roc_auc_score(y_actual, y_pred)\n",
    "#     accuracy = accuracy_score(y_actual, (y_pred > thresh))\n",
    "#     recall = recall_score(y_actual, (y_pred > thresh))\n",
    "#     precision = precision_score(y_actual, (y_pred > thresh))\n",
    "#     specificity = calc_specificity(y_actual, y_pred, thresh)\n",
    "#     print('AUC:%.3f'%auc)\n",
    "#     print('accuracy:%.3f'%accuracy)\n",
    "#     print('recall:%.3f'%recall)\n",
    "#     print('precision:%.3f'%precision)\n",
    "#     print('specificity:%.3f'%specificity)\n",
    "#     print('prevalence:%.3f'%calc_prevalence(y_actual))\n",
    "#     print(' ')\n",
    "#     return auc, accuracy, recall, precision, specificity\n",
    "\n",
    "# def calc_prevalence(y_actual):\n",
    "#     return (sum(y_actual)/len(y_actual))"
   ]
  },
  {
   "cell_type": "code",
   "execution_count": 47,
   "metadata": {},
   "outputs": [],
   "source": [
    "from sklearn.metrics import roc_auc_score, accuracy_score, precision_score, recall_score, confusion_matrix\n",
    "\n",
    "def print_report(y_actual, y_pred, y_pred_proba):\n",
    "    tp, fp, fn, tn = confusion_matrix(y_actual, y_pred).ravel()\n",
    "    fpr = fp/(fp+tn)\n",
    "    auc = roc_auc_score(y_actual, y_pred_proba)\n",
    "    print('AUC:%.3f'%auc)\n",
    "    print(f'False positive rate is {fpr}')\n",
    "    print(' ')\n",
    "    \n",
    "#     return auc, fpr\n"
   ]
  },
  {
   "cell_type": "code",
   "execution_count": 57,
   "metadata": {},
   "outputs": [
    {
     "name": "stdout",
     "output_type": "stream",
     "text": [
      "XGBoost\n",
      "Training:\n",
      "AUC:0.968\n",
      "False positive rate is 0.005890846087207624\n",
      " \n",
      "Validation:\n",
      "AUC:0.968\n",
      "False positive rate is 0.008269275564873049\n",
      " \n",
      "Test:\n",
      "AUC:0.633\n",
      "False positive rate is 0.815668202764977\n",
      " \n"
     ]
    }
   ],
   "source": [
    "thresh=0.5\n",
    "y_train_pred_proba = xgbc.predict_proba(X_train)[:,1]\n",
    "y_valid_pred_proba = xgbc.predict_proba(X_valid)[:,1]\n",
    "y_test_pred_proba = xgbc.predict_proba(X_test)[:,1]\n",
    "\n",
    "y_train_pred = xgbc.predict(X_train)\n",
    "y_valid_pred = xgbc.predict(X_valid)\n",
    "y_test_pred = xgbc.predict(X_test)\n",
    "\n",
    "print('XGBoost')\n",
    "print('Training:')\n",
    "print_report(y_train, y_train_pred, y_train_pred_proba)\n",
    "print('Validation:')\n",
    "print_report(y_valid, y_valid_pred, y_valid_pred_proba)\n",
    "print('Test:')\n",
    "print_report(y_test, y_test_pred, y_test_pred_proba)\n"
   ]
  },
  {
   "cell_type": "code",
   "execution_count": 93,
   "metadata": {
    "scrolled": true
   },
   "outputs": [
    {
     "data": {
      "text/plain": [
       "[('gender_Male', 0.086914375),\n",
       " ('A1Cresult_None', 0.07863705),\n",
       " ('diag_1_neoplasms', 0.06834941),\n",
       " ('discharge_disposition_id_home', 0.06400882),\n",
       " ('diag_1_respiratory', 0.052130267),\n",
       " ('race_Caucasian', 0.05046313),\n",
       " ('diag_1_digestive', 0.04399486),\n",
       " ('age', 0.043494612),\n",
       " ('time_in_hospital', 0.042303458),\n",
       " ('admission_type_id_urgent', 0.041324027),\n",
       " ('number_inpatient', 0.034621585),\n",
       " ('num_procedures', 0.034435455),\n",
       " ('diag_1_other', 0.03384887),\n",
       " ('diag_1_genitourinary', 0.030622428),\n",
       " ('discharge_disposition_id_na', 0.023144718),\n",
       " ('number_outpatient', 0.023034666),\n",
       " ('number_diagnoses', 0.022493578),\n",
       " ('insulin_No', 0.019943252),\n",
       " ('A1Cresult_>8', 0.016597651),\n",
       " ('insulin_Steady', 0.01633881),\n",
       " ('pioglitazone_No', 0.016055627),\n",
       " ('admission_source_id_urgent', 0.0143523095),\n",
       " ('diag_1_injury', 0.0140235415),\n",
       " ('diag_1_diabetes', 0.0136692785),\n",
       " ('discharge_disposition_id_hospital', 0.013433454),\n",
       " ('metformin_No', 0.012909271),\n",
       " ('diag_1_musculoskeletal', 0.012370239),\n",
       " ('number_of_medicine', 0.011813666),\n",
       " ('admission_source_id_transfer', 0.010995267),\n",
       " ('glimepiride_Steady', 0.010546447),\n",
       " ('number_emergency', 0.00924819),\n",
       " ('num_medications', 0.005453446),\n",
       " ('num_lab_procedures', 0.0041396325),\n",
       " ('max_glu_serum_Norm', 0.0041295504),\n",
       " ('A1Cresult_Norm', 0.0024310357),\n",
       " ('change_No', 0.0023924108),\n",
       " ('admission_source_id_referral', 0.0023000718),\n",
       " ('glipizide_Steady', 0.002251091),\n",
       " ('metformin_Steady', 0.0022144737),\n",
       " ('repaglinide_Steady', 0.0015918281),\n",
       " ('rosiglitazone_Steady', 0.0014779142),\n",
       " ('race_Hispanic', 0.0014673764),\n",
       " ('race_Other', 0.0010306576),\n",
       " ('glyburide_Up', 0.00084295543),\n",
       " ('glimepiride_Up', 0.0008238253),\n",
       " ('insulin_Up', 0.0006581519),\n",
       " ('repaglinide_No', 0.0003747335),\n",
       " ('med_dosage_change', 0.00030255024),\n",
       " ('race_Asian', 0.0),\n",
       " ('race_unknown', 0.0),\n",
       " ('admission_type_id_na', 0.0),\n",
       " ('admission_type_id_newborn', 0.0),\n",
       " ('admission_source_id_other', 0.0),\n",
       " ('max_glu_serum_>300', 0.0),\n",
       " ('max_glu_serum_None', 0.0),\n",
       " ('metformin_Up', 0.0),\n",
       " ('repaglinide_Up', 0.0),\n",
       " ('nateglinide_No', 0.0),\n",
       " ('nateglinide_Steady', 0.0),\n",
       " ('nateglinide_Up', 0.0),\n",
       " ('chlorpropamide_No', 0.0),\n",
       " ('chlorpropamide_Steady', 0.0),\n",
       " ('chlorpropamide_Up', 0.0),\n",
       " ('glimepiride_No', 0.0),\n",
       " ('acetohexamide_Steady', 0.0),\n",
       " ('glipizide_No', 0.0),\n",
       " ('glipizide_Up', 0.0),\n",
       " ('glyburide_No', 0.0),\n",
       " ('glyburide_Steady', 0.0),\n",
       " ('tolbutamide_Steady', 0.0),\n",
       " ('pioglitazone_Steady', 0.0),\n",
       " ('pioglitazone_Up', 0.0),\n",
       " ('rosiglitazone_No', 0.0),\n",
       " ('rosiglitazone_Up', 0.0),\n",
       " ('acarbose_No', 0.0),\n",
       " ('acarbose_Steady', 0.0),\n",
       " ('acarbose_Up', 0.0),\n",
       " ('miglitol_No', 0.0),\n",
       " ('miglitol_Steady', 0.0),\n",
       " ('miglitol_Up', 0.0),\n",
       " ('troglitazone_Steady', 0.0),\n",
       " ('tolazamide_Steady', 0.0),\n",
       " ('tolazamide_Up', 0.0),\n",
       " ('glyburide-metformin_No', 0.0),\n",
       " ('glyburide-metformin_Steady', 0.0),\n",
       " ('glyburide-metformin_Up', 0.0),\n",
       " ('glipizide-metformin_Steady', 0.0),\n",
       " ('glimepiride-pioglitazone_Steady', 0.0),\n",
       " ('metformin-rosiglitazone_Steady', 0.0),\n",
       " ('metformin-pioglitazone_Steady', 0.0),\n",
       " ('diabetesMed_Yes', 0.0)]"
      ]
     },
     "execution_count": 93,
     "metadata": {},
     "output_type": "execute_result"
    }
   ],
   "source": [
    "sorted(zip(X_train.columns,xgbc.feature_importances_), key= lambda t:t[1], reverse=True)\n"
   ]
  },
  {
   "cell_type": "markdown",
   "metadata": {},
   "source": [
    "## parameter tuning"
   ]
  },
  {
   "cell_type": "code",
   "execution_count": 58,
   "metadata": {},
   "outputs": [
    {
     "data": {
      "text/plain": [
       "XGBClassifier(base_score=0.5, booster='gbtree', colsample_bylevel=1,\n",
       "              colsample_bynode=1, colsample_bytree=1, gamma=0,\n",
       "              learning_rate=0.1, max_delta_step=0, max_depth=6,\n",
       "              min_child_weight=1, missing=None, n_estimators=3000, n_jobs=1,\n",
       "              nthread=None, objective='binary:logistic', random_state=0,\n",
       "              reg_alpha=0, reg_lambda=1, scale_pos_weight=1, seed=None,\n",
       "              silent=None, subsample=0.8, verbosity=1)"
      ]
     },
     "execution_count": 58,
     "metadata": {},
     "output_type": "execute_result"
    }
   ],
   "source": [
    "xgbc1 = xgb.XGBClassifier()\n",
    "xgbc1.set_params(learning_rate=0.1,subsample=0.8,n_estimators=3000,max_depth=6,\n",
    "                colsample_bytree=1,objective='binary:logistic')"
   ]
  },
  {
   "cell_type": "code",
   "execution_count": 59,
   "metadata": {},
   "outputs": [
    {
     "data": {
      "text/plain": [
       "XGBClassifier(base_score=0.5, booster='gbtree', colsample_bylevel=1,\n",
       "              colsample_bynode=1, colsample_bytree=1, gamma=0,\n",
       "              learning_rate=0.1, max_delta_step=0, max_depth=6,\n",
       "              min_child_weight=1, missing=None, n_estimators=3000, n_jobs=1,\n",
       "              nthread=None, objective='binary:logistic', random_state=0,\n",
       "              reg_alpha=0, reg_lambda=1, scale_pos_weight=1, seed=None,\n",
       "              silent=None, subsample=0.8, verbosity=1)"
      ]
     },
     "execution_count": 59,
     "metadata": {},
     "output_type": "execute_result"
    }
   ],
   "source": [
    "#fit X_train, y_train\n",
    "xgbc1.fit(X_train,y_train)\n"
   ]
  },
  {
   "cell_type": "code",
   "execution_count": 62,
   "metadata": {},
   "outputs": [
    {
     "name": "stdout",
     "output_type": "stream",
     "text": [
      "Tuned XGBoost\n",
      "Training:\n",
      "AUC:1.000\n",
      "False positive rate is 2.5746652935118435e-05\n",
      " \n",
      "Validation:\n",
      "AUC:0.967\n",
      "False positive rate is 0.015572484875644185\n",
      " \n",
      "Test:\n",
      "AUC:0.595\n",
      "False positive rate is 0.7535885167464115\n",
      " \n"
     ]
    }
   ],
   "source": [
    "thresh=0.5\n",
    "y_train_pred_proba = xgbc1.predict_proba(X_train)[:,1]\n",
    "y_valid_pred_proba = xgbc1.predict_proba(X_valid)[:,1]\n",
    "y_test_pred_proba = xgbc1.predict_proba(X_test)[:,1]\n",
    "\n",
    "y_train_pred = xgbc1.predict(X_train)\n",
    "y_valid_pred = xgbc1.predict(X_valid)\n",
    "y_test_pred = xgbc1.predict(X_test)\n",
    "\n",
    "print('Tuned XGBoost')\n",
    "print('Training:')\n",
    "print_report(y_train, y_train_pred, y_train_pred_proba)\n",
    "print('Validation:')\n",
    "print_report(y_valid, y_valid_pred, y_valid_pred_proba)\n",
    "print('Test:')\n",
    "print_report(y_test, y_test_pred, y_test_pred_proba)\n"
   ]
  },
  {
   "cell_type": "code",
   "execution_count": 63,
   "metadata": {},
   "outputs": [
    {
     "data": {
      "text/plain": [
       "[('discharge_disposition_id_home', 0.06871399),\n",
       " ('number_inpatient', 0.06618908),\n",
       " ('race_Caucasian', 0.04988853),\n",
       " ('A1Cresult_None', 0.039659776),\n",
       " ('gender_Male', 0.036024526),\n",
       " ('diag_1_respiratory', 0.033392355),\n",
       " ('discharge_disposition_id_hospital', 0.032423627),\n",
       " ('age', 0.031520486),\n",
       " ('discharge_disposition_id_na', 0.029182794),\n",
       " ('diag_1_other', 0.024885815),\n",
       " ('diag_1_digestive', 0.02406854),\n",
       " ('diabetesMed_Yes', 0.023830026),\n",
       " ('diag_1_neoplasms', 0.023428027),\n",
       " ('time_in_hospital', 0.019936709),\n",
       " ('diag_1_genitourinary', 0.01919183),\n",
       " ('diag_1_injury', 0.018561646),\n",
       " ('number_diagnoses', 0.016321665),\n",
       " ('num_procedures', 0.016280621),\n",
       " ('glimepiride_Steady', 0.01597332),\n",
       " ('admission_type_id_urgent', 0.015757978),\n",
       " ('pioglitazone_Steady', 0.015702289),\n",
       " ('diag_1_diabetes', 0.014206566),\n",
       " ('diag_1_musculoskeletal', 0.01376666),\n",
       " ('admission_source_id_transfer', 0.012640475),\n",
       " ('admission_source_id_urgent', 0.011597336),\n",
       " ('rosiglitazone_Up', 0.011341949),\n",
       " ('metformin_No', 0.010412116),\n",
       " ('pioglitazone_No', 0.009862759),\n",
       " ('number_emergency', 0.009610827),\n",
       " ('glyburide-metformin_No', 0.00950022),\n",
       " ('number_outpatient', 0.008749413),\n",
       " ('A1Cresult_>8', 0.008669742),\n",
       " ('insulin_Up', 0.008378294),\n",
       " ('glimepiride_Up', 0.008302851),\n",
       " ('A1Cresult_Norm', 0.00819393),\n",
       " ('med_dosage_change', 0.008150228),\n",
       " ('insulin_No', 0.007934888),\n",
       " ('glipizide_Steady', 0.007718272),\n",
       " ('number_of_medicine', 0.0076808585),\n",
       " ('acarbose_No', 0.007462183),\n",
       " ('repaglinide_Up', 0.0071504507),\n",
       " ('repaglinide_No', 0.0070494767),\n",
       " ('rosiglitazone_No', 0.007000224),\n",
       " ('rosiglitazone_Steady', 0.006900121),\n",
       " ('metformin_Steady', 0.00684854),\n",
       " ('race_Asian', 0.006781253),\n",
       " ('insulin_Steady', 0.006699762),\n",
       " ('max_glu_serum_>300', 0.0066880737),\n",
       " ('glyburide_Steady', 0.0066112312),\n",
       " ('admission_source_id_referral', 0.006604384),\n",
       " ('admission_source_id_other', 0.006490393),\n",
       " ('glyburide_No', 0.0063597974),\n",
       " ('glimepiride_No', 0.006293281),\n",
       " ('race_unknown', 0.0062660393),\n",
       " ('metformin_Up', 0.0062624076),\n",
       " ('admission_type_id_na', 0.006248179),\n",
       " ('max_glu_serum_Norm', 0.006182704),\n",
       " ('pioglitazone_Up', 0.0059941933),\n",
       " ('max_glu_serum_None', 0.0057720286),\n",
       " ('num_medications', 0.0057324427),\n",
       " ('repaglinide_Steady', 0.0057193963),\n",
       " ('race_Hispanic', 0.0056115366),\n",
       " ('race_Other', 0.0055859806),\n",
       " ('glipizide_No', 0.005266731),\n",
       " ('change_No', 0.0051228213),\n",
       " ('nateglinide_Steady', 0.0050097643),\n",
       " ('glyburide-metformin_Steady', 0.004773654),\n",
       " ('glyburide_Up', 0.0047521535),\n",
       " ('glipizide_Up', 0.004710617),\n",
       " ('nateglinide_No', 0.0046951184),\n",
       " ('chlorpropamide_No', 0.004665946),\n",
       " ('num_lab_procedures', 0.0046260743),\n",
       " ('acarbose_Steady', 0.004411967),\n",
       " ('admission_type_id_newborn', 0.0),\n",
       " ('nateglinide_Up', 0.0),\n",
       " ('chlorpropamide_Steady', 0.0),\n",
       " ('chlorpropamide_Up', 0.0),\n",
       " ('acetohexamide_Steady', 0.0),\n",
       " ('tolbutamide_Steady', 0.0),\n",
       " ('acarbose_Up', 0.0),\n",
       " ('miglitol_No', 0.0),\n",
       " ('miglitol_Steady', 0.0),\n",
       " ('miglitol_Up', 0.0),\n",
       " ('troglitazone_Steady', 0.0),\n",
       " ('tolazamide_Steady', 0.0),\n",
       " ('tolazamide_Up', 0.0),\n",
       " ('glyburide-metformin_Up', 0.0),\n",
       " ('glipizide-metformin_Steady', 0.0),\n",
       " ('glimepiride-pioglitazone_Steady', 0.0),\n",
       " ('metformin-rosiglitazone_Steady', 0.0),\n",
       " ('metformin-pioglitazone_Steady', 0.0)]"
      ]
     },
     "execution_count": 63,
     "metadata": {},
     "output_type": "execute_result"
    }
   ],
   "source": [
    "sorted(zip(X_train.columns,xgbc1.feature_importances_), key= lambda t:t[1], reverse=True)\n"
   ]
  },
  {
   "cell_type": "code",
   "execution_count": null,
   "metadata": {},
   "outputs": [],
   "source": []
  }
 ],
 "metadata": {
  "kernelspec": {
   "display_name": "Python 3",
   "language": "python",
   "name": "python3"
  },
  "language_info": {
   "codemirror_mode": {
    "name": "ipython",
    "version": 3
   },
   "file_extension": ".py",
   "mimetype": "text/x-python",
   "name": "python",
   "nbconvert_exporter": "python",
   "pygments_lexer": "ipython3",
   "version": "3.7.3"
  }
 },
 "nbformat": 4,
 "nbformat_minor": 2
}
